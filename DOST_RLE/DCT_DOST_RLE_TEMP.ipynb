{
 "cells": [
  {
   "cell_type": "markdown",
   "metadata": {},
   "source": [
    "# Method1 Huffman encoding"
   ]
  },
  {
   "cell_type": "markdown",
   "metadata": {},
   "source": [
    "## Import Libraries & Load Data"
   ]
  },
  {
   "cell_type": "code",
   "execution_count": 1,
   "metadata": {},
   "outputs": [],
   "source": [
    "import numpy as np\n",
    "from scipy.fft import fft,fftshift\n",
    "import matplotlib.pyplot as plt\n",
    "from scipy.signal import butter, lfilter\n",
    "from scipy.signal import freqz\n",
    "from scipy import signal\n",
    "from scipy.fftpack import fft, dct, idct\n",
    "from itertools import islice \n",
    "import os\n",
    "import pandas as pd"
   ]
  },
  {
   "cell_type": "code",
   "execution_count": 2,
   "metadata": {},
   "outputs": [],
   "source": [
    "temp = pd.read_csv('TEMP.csv')\n",
    "#temp = temp.iloc[1:]\n",
    "np.savetxt('temp.txt',temp)\n",
    "\n",
    "\n",
    "sampling_freq = 1/4  #This is the sampling frequency\n",
    "N = temp.size  #The number of point\n",
    "\n",
    "temp_array = temp.to_numpy() #save the data into an ndarray\n",
    "temp_array.size\n",
    "\n",
    "xf = np.linspace(-N*sampling_freq/2, N*sampling_freq/2,  N)\n",
    "\n",
    "index = np.linspace(0, round((N-1)*sampling_freq,4), N)\n",
    "temp_array_new = []\n",
    "for i in temp_array:\n",
    "    temp_array_new.append(list(i)[0])"
   ]
  },
  {
   "cell_type": "markdown",
   "metadata": {},
   "source": [
    "TEMP data doesn't have to be filtered and resampled because of it's low sampling frequency"
   ]
  },
  {
   "cell_type": "code",
   "execution_count": 3,
   "metadata": {},
   "outputs": [],
   "source": [
    "resampled_signal = temp_array_new  #This squared number need to be decided by the users\n",
    "rounded_signal = np.around(resampled_signal, 3)"
   ]
  },
  {
   "cell_type": "markdown",
   "metadata": {},
   "source": [
    "## Transformation"
   ]
  },
  {
   "cell_type": "code",
   "execution_count": 4,
   "metadata": {},
   "outputs": [],
   "source": [
    "aN = dct(rounded_signal, type = 2, norm = 'ortho')\n",
    "def return_N(target):\n",
    "    if target > 1:\n",
    "        for i in range(1, int(target)):\n",
    "            if (2 ** i >= target):\n",
    "                return i-1\n",
    "    else:\n",
    "        return 1\n"
   ]
  },
  {
   "cell_type": "code",
   "execution_count": 5,
   "metadata": {},
   "outputs": [],
   "source": [
    "split_list = [1]\n",
    "for i in range(0,return_N(aN.size)):\n",
    "    split_list.append(2 ** i)\n",
    "temp = iter(aN) \n",
    "res = [list(islice(temp, 0, ele)) for ele in split_list] "
   ]
  },
  {
   "cell_type": "code",
   "execution_count": 6,
   "metadata": {},
   "outputs": [],
   "source": [
    "cN_idct = [list(idct(res[0], type = 2, norm = 'ortho' )), list(idct(res[1], type = 2, norm = 'ortho' ))]\n",
    "for k in range(2,len(res)):\n",
    "    cN_idct.append(list(idct(res[k], type = 2, norm = 'ortho' )))"
   ]
  },
  {
   "cell_type": "code",
   "execution_count": 7,
   "metadata": {},
   "outputs": [],
   "source": [
    "all_numbers = []\n",
    "for i in cN_idct:\n",
    "    for j in i:\n",
    "        all_numbers.append(j)\n",
    "all_numbers = np.asarray(all_numbers)\n",
    "new_cN_idct = all_numbers\n",
    "int_cN = np.round(new_cN_idct, 3)\n",
    "np.savetxt('int_cN.txt',int_cN,fmt='%.3f')"
   ]
  },
  {
   "cell_type": "markdown",
   "metadata": {},
   "source": [
    "## Run-length Encoding"
   ]
  },
  {
   "cell_type": "code",
   "execution_count": 8,
   "metadata": {},
   "outputs": [],
   "source": [
    "def RLE(input_data):\n",
    "    RLE_VALUE = []\n",
    "    RLE_FREQ = []\n",
    "    count = 0\n",
    "    for i in range(0,len(input_data)):\n",
    "        if i == len(input_data)-1:\n",
    "            if input_data[i] != input_data[i-1]:\n",
    "                RLE_VALUE.append(input_data[i])\n",
    "                RLE_FREQ.append(1)\n",
    "                return RLE_VALUE, RLE_FREQ\n",
    "            else:\n",
    "                return RLE_VALUE, RLE_FREQ\n",
    "        else:\n",
    "            if input_data[i] == input_data[i+1]:\n",
    "                count += 1\n",
    "                    \n",
    "                \n",
    "            else:\n",
    "                RLE_VALUE.append(input_data[i])\n",
    "                count += 1\n",
    "                RLE_FREQ.append(count)\n",
    "                count = 0"
   ]
  },
  {
   "cell_type": "code",
   "execution_count": 9,
   "metadata": {},
   "outputs": [],
   "source": [
    "value, freq = RLE(int_cN)"
   ]
  },
  {
   "cell_type": "code",
   "execution_count": 10,
   "metadata": {},
   "outputs": [],
   "source": [
    "np.savetxt('resampled_signal_temp.txt',resampled_signal, fmt='%.3f')\n",
    "np.savetxt('temp_value_rle.txt',value, fmt='%.3f')\n",
    "np.savetxt('temp_freq_rle.txt',freq, fmt='%.3f')"
   ]
  },
  {
   "cell_type": "markdown",
   "metadata": {},
   "source": [
    "## Reconstruction"
   ]
  },
  {
   "cell_type": "code",
   "execution_count": 11,
   "metadata": {},
   "outputs": [],
   "source": [
    "decoded_data_rle_value = np.loadtxt(fname = \"temp_value_rle.txt\")\n",
    "decoded_data_rle_freq = np.loadtxt(fname = \"temp_freq_rle.txt\")"
   ]
  },
  {
   "cell_type": "code",
   "execution_count": 13,
   "metadata": {},
   "outputs": [],
   "source": [
    "decoded_data_rle_freq = decoded_data_rle_freq.astype(int)\n",
    "recover_signal = []\n",
    "for i in range(len(decoded_data_rle_value)):\n",
    "    for k in range(decoded_data_rle_freq[i]):\n",
    "        recover_signal.append(decoded_data_rle_value[i])   "
   ]
  },
  {
   "cell_type": "code",
   "execution_count": 14,
   "metadata": {},
   "outputs": [],
   "source": [
    "recover_signal = recover_signal \n",
    "recover_signal = list(recover_signal)"
   ]
  },
  {
   "cell_type": "code",
   "execution_count": 15,
   "metadata": {},
   "outputs": [],
   "source": [
    "split_list = [1]\n",
    "for i in range(0,return_N(len(recover_signal))+1):\n",
    "    split_list.append(2 ** i)\n",
    "temp_recovered = iter(recover_signal) \n",
    "res_recovered = [list(islice(temp_recovered, 0, ele)) for ele in split_list] "
   ]
  },
  {
   "cell_type": "code",
   "execution_count": 16,
   "metadata": {},
   "outputs": [],
   "source": [
    "recover_dct = [list(dct(res_recovered[0], type = 2, norm = 'ortho' )), list(dct(res_recovered[1], type = 2, norm = 'ortho' ))]\n",
    "for k in range(2,len(res_recovered)):\n",
    "    recover_dct.append(list(dct(res_recovered[k], type = 2, norm = 'ortho' )))"
   ]
  },
  {
   "cell_type": "code",
   "execution_count": 17,
   "metadata": {},
   "outputs": [],
   "source": [
    "all_recover = []\n",
    "for i in recover_dct:\n",
    "    for j in i:\n",
    "        all_recover.append(j)"
   ]
  },
  {
   "cell_type": "code",
   "execution_count": 18,
   "metadata": {},
   "outputs": [],
   "source": [
    "aN_recover = idct(all_recover, type = 2, norm = 'ortho')"
   ]
  },
  {
   "cell_type": "markdown",
   "metadata": {},
   "source": [
    "## PRD calculation & compare"
   ]
  },
  {
   "cell_type": "code",
   "execution_count": 19,
   "metadata": {},
   "outputs": [
    {
     "data": {
      "image/png": "[encoded data removed]",
      "text/plain": [
       "<Figure size 432x288 with 1 Axes>"
      ]
     },
     "metadata": {
      "needs_background": "light"
     },
     "output_type": "display_data"
    }
   ],
   "source": [
    "plt.plot(signal.resample(temp_array_new, len(aN_recover)),label = \"origianl\" )\n",
    "plt.plot(aN_recover, label = \"recovered\")\n",
    "plt.legend()\n",
    "plt.title('TEMP')\n",
    "plt.grid()\n",
    "plt.show()"
   ]
  },
  {
   "cell_type": "code",
   "execution_count": 20,
   "metadata": {},
   "outputs": [
    {
     "name": "stdout",
     "output_type": "stream",
     "text": [
      "The PRD is 5.31361019211389%\n"
     ]
    }
   ],
   "source": [
    "resampled_signal_shorter = signal.resample(temp_array_new, len(aN_recover))\n",
    "#resampled_signal_shorter = resampled_signal[:len(aN_recover)] \n",
    "from sklearn.metrics import mean_squared_error\n",
    "from math import sqrt\n",
    "\n",
    "def PRD_calculation(original_signal, compressed_signal):\n",
    "    PRD = sqrt(sum((original_signal-compressed_signal)**2)/(sum(original_signal**2)))\n",
    "    return PRD\n",
    "\n",
    "PRD = PRD_calculation(resampled_signal_shorter, aN_recover)\n",
    "print(\"The PRD is {}%\".format(PRD*100))"
   ]
  }
 ],
 "metadata": {
  "kernelspec": {
   "display_name": "Python 3",
   "language": "python",
   "name": "python3"
  },
  "language_info": {
   "codemirror_mode": {
    "name": "ipython",
    "version": 3
   },
   "file_extension": ".py",
   "mimetype": "text/x-python",
   "name": "python",
   "nbconvert_exporter": "python",
   "pygments_lexer": "ipython3",
   "version": "3.7.6"
  }
 },
 "nbformat": 4,
 "nbformat_minor": 2
}
