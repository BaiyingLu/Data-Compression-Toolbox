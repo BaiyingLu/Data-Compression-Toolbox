{
 "cells": [
  {
   "cell_type": "markdown",
   "metadata": {},
   "source": [
    "# Method5 DCT based DOST + RLE"
   ]
  },
  {
   "cell_type": "markdown",
   "metadata": {},
   "source": [
    "## Import Libraries"
   ]
  },
  {
   "cell_type": "code",
   "execution_count": 1,
   "metadata": {},
   "outputs": [],
   "source": [
    "import numpy as np\n",
    "from scipy.fft import fft,fftshift\n",
    "import matplotlib.pyplot as plt\n",
    "from scipy.signal import butter, lfilter\n",
    "from scipy.signal import freqz\n",
    "from scipy import signal\n",
    "from scipy.fftpack import fft, dct, idct\n",
    "from itertools import islice \n",
    "import pandas as pd\n",
    "import os"
   ]
  },
  {
   "cell_type": "markdown",
   "metadata": {},
   "source": [
    "## Preprocessing\n",
    "\n",
    "### Data loading"
   ]
  },
  {
   "cell_type": "code",
   "execution_count": 2,
   "metadata": {},
   "outputs": [],
   "source": [
    "acc = pd.read_csv('ACC.csv')\n",
    "acc = acc.iloc[1:]\n",
    "acc.columns = ['column1','column2','column3']\n",
    "np.savetxt('acc.txt',acc)\n",
    "\n",
    "\n",
    "\n",
    "acc_c1 = acc[\"column1\"]\n",
    "acc_c2 = acc[\"column2\"]\n",
    "acc_c3 = acc[\"column3\"]\n",
    "acc_array_c1 = acc_c1.to_numpy() #save the data into an ndarray\n",
    "acc_array_c2 = acc_c2.to_numpy()\n",
    "acc_array_c3 = acc_c3.to_numpy()\n",
    "acc_array_c1.shape\n",
    "\n",
    "acc_array_c1 = acc_array_c1[0:66000]  # Remove the signal in first 3minutes and last 5minutes\n",
    "acc_array_c2 = acc_array_c2[0:66000]\n",
    "acc_array_c3 = acc_array_c3[0:66000]\n",
    "\n",
    "sampling_freq = 1/32\n",
    "N = acc_array_c1.size\n",
    "\n",
    "xf = np.linspace(-N*sampling_freq/2, N*sampling_freq/2,  N)\n",
    "\n",
    "\n",
    "index = np.linspace(0, round((N-1)*sampling_freq,4), N)"
   ]
  },
  {
   "cell_type": "markdown",
   "metadata": {},
   "source": [
    "### Butterworth Filter to denoise "
   ]
  },
  {
   "cell_type": "code",
   "execution_count": 3,
   "metadata": {},
   "outputs": [],
   "source": [
    "def butter_bandpass(lowcut, highcut, fs, order=5):\n",
    "    nyq = 0.5 * fs\n",
    "    low = lowcut / nyq\n",
    "    high = highcut / nyq\n",
    "    b, a = butter(order, [low, high], btype='band')\n",
    "    return b, a\n",
    "\n",
    "\n",
    "def butter_bandpass_filter(data, lowcut, highcut, fs, order=5):\n",
    "    b, a = butter_bandpass(lowcut, highcut, fs, order=order)\n",
    "    y = lfilter(b, a, data)\n",
    "    return y"
   ]
  },
  {
   "cell_type": "code",
   "execution_count": 4,
   "metadata": {},
   "outputs": [
    {
     "data": {
      "text/plain": [
       "<matplotlib.legend.Legend at 0x1a21828a90>"
      ]
     },
     "execution_count": 4,
     "metadata": {},
     "output_type": "execute_result"
    },
    {
     "data": {
      "image/png": "[encoded data removed]",
      "text/plain": [
       "<Figure size 432x288 with 1 Axes>"
      ]
     },
     "metadata": {
      "needs_background": "light"
     },
     "output_type": "display_data"
    }
   ],
   "source": [
    "# Sample rate and desired cutoff frequencies (in Hz).\n",
    "fs = 1000.0\n",
    "lowcut = 0.5\n",
    "highcut = 50.0\n",
    "\n",
    "# Plot the frequency response for a few different orders.\n",
    "plt.figure(1)\n",
    "plt.clf()\n",
    "for order in [1, 2, 3, 4]:\n",
    "    b, a = butter_bandpass(lowcut, highcut, fs, order=order)\n",
    "    w, h = freqz(b, a, worN=2000)\n",
    "    plt.plot((fs * 0.5 / np.pi) * w, abs(h), label=\"order = %d\" % order)\n",
    "\n",
    "plt.plot([0, 0.5 * fs], [np.sqrt(0.5), np.sqrt(0.5)],\n",
    "         '--', label='sqrt(0.5)')\n",
    "plt.xlabel('Frequency (Hz)')\n",
    "plt.ylabel('Gain')\n",
    "plt.grid(True)\n",
    "plt.legend(loc='best')"
   ]
  },
  {
   "cell_type": "code",
   "execution_count": 5,
   "metadata": {},
   "outputs": [],
   "source": [
    "y1 = butter_bandpass_filter(acc_array_c1, lowcut, highcut, fs, order=2)\n",
    "y2 = butter_bandpass_filter(acc_array_c2, lowcut, highcut, fs, order=2)\n",
    "y3 = butter_bandpass_filter(acc_array_c3, lowcut, highcut, fs, order=2)"
   ]
  },
  {
   "cell_type": "code",
   "execution_count": 6,
   "metadata": {
    "scrolled": true
   },
   "outputs": [],
   "source": [
    "resampled_signal1 = y1\n",
    "resampled_signal2 = y2\n",
    "resampled_signal3 = y3"
   ]
  },
  {
   "cell_type": "code",
   "execution_count": 7,
   "metadata": {},
   "outputs": [],
   "source": [
    "np.savetxt('processed_acc_col1.txt',resampled_signal1)\n",
    "np.savetxt('processed_acc_col2.txt',resampled_signal2)\n",
    "np.savetxt('processed_acc_col3.txt',resampled_signal3)"
   ]
  },
  {
   "cell_type": "code",
   "execution_count": 8,
   "metadata": {},
   "outputs": [],
   "source": [
    "rounded_signal1 = np.around(resampled_signal1)\n",
    "rounded_signal2 = np.around(resampled_signal2)\n",
    "rounded_signal3 = np.around(resampled_signal3)"
   ]
  },
  {
   "cell_type": "markdown",
   "metadata": {},
   "source": [
    "## Transformation --- DCT based DOST "
   ]
  },
  {
   "cell_type": "code",
   "execution_count": 9,
   "metadata": {},
   "outputs": [],
   "source": [
    "aN1 = dct(rounded_signal1, type = 2, norm = 'ortho')\n",
    "aN2 = dct(rounded_signal2, type = 2, norm = 'ortho')\n",
    "aN3 = dct(rounded_signal3, type = 2, norm = 'ortho')"
   ]
  },
  {
   "cell_type": "code",
   "execution_count": 10,
   "metadata": {},
   "outputs": [],
   "source": [
    "def return_N(target):\n",
    "    if target > 1:\n",
    "        for i in range(1, int(target)):\n",
    "            if (2 ** i >= target):\n",
    "                return i-1\n",
    "    else:\n",
    "        return 1\n"
   ]
  },
  {
   "cell_type": "code",
   "execution_count": 11,
   "metadata": {},
   "outputs": [],
   "source": [
    "split_list = [1]\n",
    "for i in range(0,return_N(aN1.size)):\n",
    "    split_list.append(2 ** i)\n",
    "temp1 = iter(aN1) \n",
    "res1 = [list(islice(temp1, 0, ele)) for ele in split_list]\n",
    "temp2 = iter(aN2) \n",
    "res2 = [list(islice(temp2, 0, ele)) for ele in split_list]\n",
    "temp3 = iter(aN3) \n",
    "res3 = [list(islice(temp3, 0, ele)) for ele in split_list]"
   ]
  },
  {
   "cell_type": "code",
   "execution_count": 12,
   "metadata": {},
   "outputs": [],
   "source": [
    "cN_idct1 = [list(idct(res1[0], type = 2, norm = 'ortho' )), list(idct(res1[1], type = 2, norm = 'ortho' ))]\n",
    "for k in range(2,len(res1)):\n",
    "    cN_idct1.append(list(idct(res1[k], type = 2, norm = 'ortho' )))\n",
    "cN_idct2 = [list(idct(res2[0], type = 2, norm = 'ortho' )), list(idct(res2[1], type = 2, norm = 'ortho' ))]\n",
    "for k in range(2,len(res2)):\n",
    "    cN_idct2.append(list(idct(res2[k], type = 2, norm = 'ortho' )))\n",
    "cN_idct3 = [list(idct(res3[0], type = 2, norm = 'ortho' )), list(idct(res3[1], type = 2, norm = 'ortho' ))]\n",
    "for k in range(2,len(res3)):\n",
    "    cN_idct3.append(list(idct(res3[k], type = 2, norm = 'ortho' )))"
   ]
  },
  {
   "cell_type": "code",
   "execution_count": 13,
   "metadata": {},
   "outputs": [],
   "source": [
    "all_numbers1 = []\n",
    "for i in cN_idct1:\n",
    "    for j in i:\n",
    "        all_numbers1.append(j)\n",
    "all_numbers2 = []\n",
    "for i in cN_idct2:\n",
    "    for j in i:\n",
    "        all_numbers2.append(j)\n",
    "all_numbers3 = []\n",
    "for i in cN_idct3:\n",
    "    for j in i:\n",
    "        all_numbers3.append(j)"
   ]
  },
  {
   "cell_type": "code",
   "execution_count": 14,
   "metadata": {},
   "outputs": [],
   "source": [
    "all_numbers1 = np.asarray(all_numbers1)\n",
    "all_numbers2 = np.asarray(all_numbers2)\n",
    "all_numbers3 = np.asarray(all_numbers3)"
   ]
  },
  {
   "cell_type": "code",
   "execution_count": 15,
   "metadata": {},
   "outputs": [],
   "source": [
    "int_cN1 = np.round(all_numbers1,3)\n",
    "int_cN2 = np.round(all_numbers2,3)\n",
    "int_cN3 = np.round(all_numbers3,3)"
   ]
  },
  {
   "cell_type": "markdown",
   "metadata": {},
   "source": [
    "## Run-length Encoding"
   ]
  },
  {
   "cell_type": "code",
   "execution_count": 16,
   "metadata": {},
   "outputs": [],
   "source": [
    "def RLE(input_data):\n",
    "    RLE_VALUE = []\n",
    "    RLE_FREQ = []\n",
    "    count = 0\n",
    "    for i in range(0,len(input_data)):\n",
    "        if i == len(input_data)-1:\n",
    "            if input_data[i] != input_data[i-1]:\n",
    "                RLE_VALUE.append(input_data[i])\n",
    "                RLE_FREQ.append(1)\n",
    "                return RLE_VALUE, RLE_FREQ\n",
    "            else:\n",
    "                return RLE_VALUE, RLE_FREQ\n",
    "        else:\n",
    "            if input_data[i] == input_data[i+1]:\n",
    "                count += 1\n",
    "                    \n",
    "                \n",
    "            else:\n",
    "                RLE_VALUE.append(input_data[i])\n",
    "                count += 1\n",
    "                RLE_FREQ.append(count)\n",
    "                count = 0\n"
   ]
  },
  {
   "cell_type": "code",
   "execution_count": 17,
   "metadata": {},
   "outputs": [],
   "source": [
    "value1, freq1 = RLE(int_cN1)\n",
    "value2, freq2 = RLE(int_cN2)\n",
    "value3, freq3 = RLE(int_cN3)"
   ]
  },
  {
   "cell_type": "code",
   "execution_count": 18,
   "metadata": {},
   "outputs": [],
   "source": [
    "np.savetxt('acc1_value_rle.txt',value1, fmt='%.3f')\n",
    "np.savetxt('acc1_freq_rle.txt',freq1, fmt='%.3f')\n",
    "np.savetxt('acc2_value_rle.txt',value2, fmt='%.3f')\n",
    "np.savetxt('acc2_freq_rle.txt',freq2, fmt='%.3f')\n",
    "np.savetxt('acc3_value_rle.txt',value3, fmt='%.3f')\n",
    "np.savetxt('acc3_freq_rle.txt',freq3, fmt='%.3f')"
   ]
  },
  {
   "cell_type": "markdown",
   "metadata": {},
   "source": [
    "## Reconstruction"
   ]
  },
  {
   "cell_type": "code",
   "execution_count": 19,
   "metadata": {},
   "outputs": [],
   "source": [
    "decoded_data1_rle_value = np.loadtxt(fname = \"acc1_value_rle.txt\")\n",
    "decoded_data1_rle_freq = np.loadtxt(fname = \"acc1_freq_rle.txt\")\n",
    "decoded_data2_rle_value = np.loadtxt(fname = \"acc2_value_rle.txt\")\n",
    "decoded_data2_rle_freq = np.loadtxt(fname = \"acc2_freq_rle.txt\")\n",
    "decoded_data3_rle_value = np.loadtxt(fname = \"acc3_value_rle.txt\")\n",
    "decoded_data3_rle_freq = np.loadtxt(fname = \"acc3_freq_rle.txt\")"
   ]
  },
  {
   "cell_type": "code",
   "execution_count": 20,
   "metadata": {},
   "outputs": [],
   "source": [
    "decoded_data1_rle_freq = decoded_data1_rle_freq.astype(int)\n",
    "recover_signal1 = []\n",
    "for i in range(len(decoded_data1_rle_value)):\n",
    "    for k in range(decoded_data1_rle_freq[i]):\n",
    "        recover_signal1.append(decoded_data1_rle_value[i])  \n",
    "decoded_data2_rle_freq = decoded_data2_rle_freq.astype(int)\n",
    "recover_signal2 = []\n",
    "for i in range(len(decoded_data2_rle_value)):\n",
    "    for k in range(decoded_data2_rle_freq[i]):\n",
    "        recover_signal2.append(decoded_data2_rle_value[i])  \n",
    "decoded_data3_rle_freq = decoded_data3_rle_freq.astype(int)\n",
    "recover_signal3 = []\n",
    "for i in range(len(decoded_data3_rle_value)):\n",
    "    for k in range(decoded_data3_rle_freq[i]):\n",
    "        recover_signal3.append(decoded_data3_rle_value[i])  "
   ]
  },
  {
   "cell_type": "code",
   "execution_count": 21,
   "metadata": {},
   "outputs": [],
   "source": [
    "recover_signal1 = list(recover_signal1)\n",
    "recover_signal2 = list(recover_signal2)\n",
    "recover_signal3 = list(recover_signal3)"
   ]
  },
  {
   "cell_type": "code",
   "execution_count": 22,
   "metadata": {},
   "outputs": [],
   "source": [
    "split_list = [1]\n",
    "for i in range(0,return_N(len(recover_signal1))+1):\n",
    "    split_list.append(2 ** i)\n",
    "temp_recovered1 = iter(recover_signal1) \n",
    "res_recovered1 = [list(islice(temp_recovered1, 0, ele)) for ele in split_list]\n",
    "temp_recovered2 = iter(recover_signal2) \n",
    "res_recovered2 = [list(islice(temp_recovered2, 0, ele)) for ele in split_list] \n",
    "temp_recovered3 = iter(recover_signal3) \n",
    "res_recovered3 = [list(islice(temp_recovered3, 0, ele)) for ele in split_list] "
   ]
  },
  {
   "cell_type": "code",
   "execution_count": 23,
   "metadata": {},
   "outputs": [],
   "source": [
    "recover_dct1 = [list(dct(res_recovered1[0], type = 2, norm = 'ortho' )), list(dct(res_recovered1[1], type = 2, norm = 'ortho' ))]\n",
    "for k in range(2,len(res_recovered1)):\n",
    "    recover_dct1.append(list(dct(res_recovered1[k], type = 2, norm = 'ortho' )))\n",
    "recover_dct2 = [list(dct(res_recovered2[0], type = 2, norm = 'ortho' )), list(dct(res_recovered2[1], type = 2, norm = 'ortho' ))]\n",
    "for k in range(2,len(res_recovered2)):\n",
    "    recover_dct2.append(list(dct(res_recovered2[k], type = 2, norm = 'ortho' )))\n",
    "recover_dct3 = [list(dct(res_recovered3[0], type = 2, norm = 'ortho' )), list(dct(res_recovered3[1], type = 2, norm = 'ortho' ))]\n",
    "for k in range(2,len(res_recovered3)):\n",
    "    recover_dct3.append(list(dct(res_recovered3[k], type = 2, norm = 'ortho' )))"
   ]
  },
  {
   "cell_type": "code",
   "execution_count": 24,
   "metadata": {},
   "outputs": [],
   "source": [
    "all_recover1 = []\n",
    "for i in recover_dct1:\n",
    "    for j in i:\n",
    "        all_recover1.append(j)\n",
    "all_recover2 = []\n",
    "for i in recover_dct2:\n",
    "    for j in i:\n",
    "        all_recover2.append(j)\n",
    "all_recover3 = []\n",
    "for i in recover_dct3:\n",
    "    for j in i:\n",
    "        all_recover3.append(j)\n"
   ]
  },
  {
   "cell_type": "code",
   "execution_count": 25,
   "metadata": {},
   "outputs": [],
   "source": [
    "aN_recover1 = idct(all_recover1, type = 2, norm = 'ortho')\n",
    "aN_recover2 = idct(all_recover2, type = 2, norm = 'ortho')\n",
    "aN_recover3 = idct(all_recover3, type = 2, norm = 'ortho')"
   ]
  },
  {
   "cell_type": "code",
   "execution_count": 26,
   "metadata": {},
   "outputs": [
    {
     "data": {
      "image/png": "[encoded data removed]",
      "text/plain": [
       "<Figure size 432x288 with 1 Axes>"
      ]
     },
     "metadata": {
      "needs_background": "light"
     },
     "output_type": "display_data"
    }
   ],
   "source": [
    "plt.plot(signal.resample(y1, len(aN_recover1))[31000:31100], label = \"origianl\")\n",
    "plt.plot(aN_recover1[31000:31100], label = \"recovered\")\n",
    "plt.legend()\n",
    "plt.title('ACC')\n",
    "plt.grid()\n",
    "plt.show()"
   ]
  },
  {
   "cell_type": "code",
   "execution_count": 27,
   "metadata": {},
   "outputs": [
    {
     "name": "stdout",
     "output_type": "stream",
     "text": [
      "The PRD is 3.345%\n"
     ]
    }
   ],
   "source": [
    "#resampled_signal_shorter = resampled_signal1[:len(aN_recover1)] \n",
    "resampled_signal_shorter1 = signal.resample(y1, len(aN_recover1))\n",
    "from sklearn.metrics import mean_squared_error\n",
    "from math import sqrt\n",
    "\n",
    "def PRD_calculation(original_signal, compressed_signal):\n",
    "    PRD = sqrt(sum((original_signal-compressed_signal)**2)/(sum(original_signal**2)))\n",
    "    return PRD\n",
    "\n",
    "PRD = PRD_calculation(resampled_signal_shorter1, aN_recover1)\n",
    "print(\"The PRD is {}%\".format(round(PRD*100,3)))"
   ]
  }
 ],
 "metadata": {
  "kernelspec": {
   "display_name": "Python 3",
   "language": "python",
   "name": "python3"
  },
  "language_info": {
   "codemirror_mode": {
    "name": "ipython",
    "version": 3
   },
   "file_extension": ".py",
   "mimetype": "text/x-python",
   "name": "python",
   "nbconvert_exporter": "python",
   "pygments_lexer": "ipython3",
   "version": "3.7.6"
  }
 },
 "nbformat": 4,
 "nbformat_minor": 2
}
