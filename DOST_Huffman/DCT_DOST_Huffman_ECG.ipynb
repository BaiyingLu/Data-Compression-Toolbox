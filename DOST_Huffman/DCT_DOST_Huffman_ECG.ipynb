{
 "cells": [
  {
   "cell_type": "markdown",
   "metadata": {},
   "source": [
    "# Method4 DCT based DOST + Huffman encoding"
   ]
  },
  {
   "cell_type": "markdown",
   "metadata": {},
   "source": [
    "## Import Libraries"
   ]
  },
  {
   "cell_type": "code",
   "execution_count": 1,
   "metadata": {},
   "outputs": [],
   "source": [
    "import mne\n",
    "import numpy as np\n",
    "from scipy.fft import fft,fftshift\n",
    "import matplotlib.pyplot as plt\n",
    "from scipy.signal import butter, lfilter\n",
    "from scipy.signal import freqz\n",
    "from scipy import signal\n",
    "from scipy.fftpack import fft, dct, idct\n",
    "from itertools import islice \n"
   ]
  },
  {
   "cell_type": "markdown",
   "metadata": {},
   "source": [
    "## Preprocessing\n",
    "\n",
    "### Data loading"
   ]
  },
  {
   "cell_type": "code",
   "execution_count": 2,
   "metadata": {},
   "outputs": [
    {
     "name": "stdout",
     "output_type": "stream",
     "text": [
      "Extracting EDF parameters from /Users/lubaiying/Desktop/big_ideas_lab/DBDP_Compression_Toolbox/DCT_DOST_Huffman/ECG.EDF...\n",
      "EDF file detected\n",
      "Setting channel info structure...\n",
      "Creating raw.info structure...\n"
     ]
    }
   ],
   "source": [
    "file = \"/Users/lubaiying/Desktop/big_ideas_lab/DBDP_Compression_Toolbox/DCT_DOST_Huffman/ECG.EDF\"\n",
    "data = mne.io.read_raw_edf(file)\n",
    "raw_data = data.get_data()\n",
    "# you can get the metadata included in the file and a list of all channels:\n",
    "info = data.info\n",
    "channels = data.ch_names\n",
    "\n",
    "\n",
    "\n",
    "np.savetxt('raw.txt',raw_data[0])  #Save it as a txt file\n",
    "sampling_freq = 1/1000  #This is the sampling frequency\n",
    "N = raw_data[0].size  #The number of point\n",
    "\n",
    "ECG_array = raw_data[0] #Copy the data into an ndarray, which does the same thing with the former step\n",
    "ECG_array.size\n",
    "\n",
    "xf = np.linspace(-N*sampling_freq/2, N*sampling_freq/2,  N)\n",
    "\n",
    "ECG_array = ECG_array[150000:-300000]  # Remove the signal in first 3minutes and last 5minutes\n",
    "\n",
    "index = np.linspace(0, round((N-1)*sampling_freq,4), N)"
   ]
  },
  {
   "cell_type": "markdown",
   "metadata": {},
   "source": [
    "### Butterworth Filter to denoise"
   ]
  },
  {
   "cell_type": "code",
   "execution_count": 3,
   "metadata": {},
   "outputs": [],
   "source": [
    "def butter_bandpass(lowcut, highcut, fs, order=5):\n",
    "    nyq = 0.5 * fs\n",
    "    low = lowcut / nyq\n",
    "    high = highcut / nyq\n",
    "    b, a = butter(order, [low, high], btype='band')\n",
    "    return b, a\n",
    "\n",
    "\n",
    "def butter_bandpass_filter(data, lowcut, highcut, fs, order=5):\n",
    "    b, a = butter_bandpass(lowcut, highcut, fs, order=order)\n",
    "    y = lfilter(b, a, data)\n",
    "    return y"
   ]
  },
  {
   "cell_type": "code",
   "execution_count": 4,
   "metadata": {},
   "outputs": [
    {
     "data": {
      "text/plain": [
       "<matplotlib.legend.Legend at 0xb2207cc50>"
      ]
     },
     "execution_count": 4,
     "metadata": {},
     "output_type": "execute_result"
    },
    {
     "data": {
      "image/png": "[encoded data removed]",
      "text/plain": [
       "<Figure size 432x288 with 1 Axes>"
      ]
     },
     "metadata": {
      "needs_background": "light"
     },
     "output_type": "display_data"
    }
   ],
   "source": [
    "\n",
    "# Sample rate and desired cutoff frequencies (in Hz).\n",
    "fs = 1000.0\n",
    "lowcut = 0.5\n",
    "highcut = 50.0\n",
    "\n",
    "# Plot the frequency response for a few different orders.\n",
    "plt.figure(1)\n",
    "plt.clf()\n",
    "for order in [1, 2, 3, 4]:\n",
    "    b, a = butter_bandpass(lowcut, highcut, fs, order=order)\n",
    "    w, h = freqz(b, a, worN=2000)\n",
    "    plt.plot((fs * 0.5 / np.pi) * w, abs(h), label=\"order = %d\" % order)\n",
    "\n",
    "plt.plot([0, 0.5 * fs], [np.sqrt(0.5), np.sqrt(0.5)],\n",
    "         '--', label='sqrt(0.5)')\n",
    "plt.xlabel('Frequency (Hz)')\n",
    "plt.ylabel('Gain')\n",
    "plt.grid(True)\n",
    "plt.legend(loc='best')"
   ]
  },
  {
   "cell_type": "code",
   "execution_count": 5,
   "metadata": {},
   "outputs": [],
   "source": [
    "y = butter_bandpass_filter(ECG_array, lowcut, highcut, fs, order=2)"
   ]
  },
  {
   "cell_type": "markdown",
   "metadata": {},
   "source": [
    "### Resampling and Quantization"
   ]
  },
  {
   "cell_type": "code",
   "execution_count": 6,
   "metadata": {},
   "outputs": [],
   "source": [
    "resampled_signal = signal.resample(y, 564000)\n",
    "np.savetxt('resampled_signal_ecg.txt',resampled_signal)\n",
    "rounded_signal = np.around(resampled_signal, 5)"
   ]
  },
  {
   "cell_type": "markdown",
   "metadata": {},
   "source": [
    "## Transformation"
   ]
  },
  {
   "cell_type": "code",
   "execution_count": 7,
   "metadata": {},
   "outputs": [],
   "source": [
    "aN = dct(rounded_signal, type = 2, norm = 'ortho')"
   ]
  },
  {
   "cell_type": "code",
   "execution_count": 8,
   "metadata": {},
   "outputs": [],
   "source": [
    "def return_N(target):\n",
    "    if target > 1:\n",
    "        for i in range(1, int(target)):\n",
    "            if (2 ** i >= target):\n",
    "                return i-1\n",
    "    else:\n",
    "        return 1"
   ]
  },
  {
   "cell_type": "code",
   "execution_count": 9,
   "metadata": {},
   "outputs": [],
   "source": [
    "split_list = [1]\n",
    "for i in range(0,return_N(aN.size)):\n",
    "    split_list.append(2 ** i)\n",
    "temp = iter(aN) \n",
    "res = [list(islice(temp, 0, ele)) for ele in split_list] "
   ]
  },
  {
   "cell_type": "code",
   "execution_count": 10,
   "metadata": {},
   "outputs": [],
   "source": [
    "cN_idct = [list(idct(res[0], type = 2, norm = 'ortho' )), list(idct(res[1], type = 2, norm = 'ortho' ))]\n",
    "for k in range(2,len(res)):\n",
    "    cN_idct.append(list(idct(res[k], type = 2, norm = 'ortho' )))"
   ]
  },
  {
   "cell_type": "code",
   "execution_count": 11,
   "metadata": {},
   "outputs": [],
   "source": [
    "all_numbers = []\n",
    "for i in cN_idct:\n",
    "    for j in i:\n",
    "        all_numbers.append(j)"
   ]
  },
  {
   "cell_type": "code",
   "execution_count": 12,
   "metadata": {},
   "outputs": [],
   "source": [
    "all_numbers = np.asarray(all_numbers)\n",
    "new_cN_idct = all_numbers*10**4\n",
    "int_cN = np.round(new_cN_idct,4)"
   ]
  },
  {
   "cell_type": "code",
   "execution_count": 13,
   "metadata": {},
   "outputs": [],
   "source": [
    "np.savetxt('resampled_signal_ecg.txt',resampled_signal,fmt='%.4f')\n",
    "np.savetxt('int_cN.txt',int_cN, fmt='%.4f')"
   ]
  },
  {
   "cell_type": "markdown",
   "metadata": {},
   "source": [
    "## Huffman Coding"
   ]
  },
  {
   "cell_type": "markdown",
   "metadata": {},
   "source": [
    "### INSTRUCTION ON HOW TO COMPRESS THE DATA BY HUFFMAN CODING\n",
    "\n",
    "\n",
    "(I used the package \"tcmpr 0.2\" and \"pyhuff 1.1\". These two packages provided the same compression result. So here, we just use \"tcmpr 0.2\")\n",
    "\n",
    "1. Open your termial or git bash, enter \"pip install tcmpr\" to install the \"tcmpr 0.2\" package\n",
    "2. Enter the directory which include the file you want to compress OR copy the path of the file you want to compress\n",
    "3. Enter \"tcmpr filename.txt\" / \"tcmpr filepath\" to compress the file\n",
    "4. Find the compressed file in the same directory of the original file"
   ]
  },
  {
   "cell_type": "code",
   "execution_count": null,
   "metadata": {},
   "outputs": [],
   "source": [
    "# Do Huffman encoding based on the instruction above \n",
    "# or run this trunk if this scratch locates in the same directory with the signal you want to encode\n",
    "os.system('tcmpr int_cN.txt')"
   ]
  },
  {
   "cell_type": "markdown",
   "metadata": {},
   "source": [
    "## Reconstruction"
   ]
  },
  {
   "cell_type": "code",
   "execution_count": null,
   "metadata": {},
   "outputs": [],
   "source": [
    "os.system('tcmpr -d int_cN.txt.huffman')\n",
    "decoded_data = np.loadtxt(fname = \"int_cN.txt\")"
   ]
  },
  {
   "cell_type": "code",
   "execution_count": 14,
   "metadata": {},
   "outputs": [],
   "source": [
    "recover_signal = decoded_data / 10**4\n",
    "recover_signal = list(recover_signal)"
   ]
  },
  {
   "cell_type": "code",
   "execution_count": 15,
   "metadata": {},
   "outputs": [],
   "source": [
    "split_list = [1]\n",
    "for i in range(0,return_N(len(recover_signal))+1):\n",
    "    split_list.append(2 ** i)\n",
    "temp_recovered = iter(recover_signal) \n",
    "res_recovered = [list(islice(temp_recovered, 0, ele)) for ele in split_list] "
   ]
  },
  {
   "cell_type": "code",
   "execution_count": 16,
   "metadata": {},
   "outputs": [],
   "source": [
    "recover_dct = [list(dct(res_recovered[0], type = 2, norm = 'ortho' )), list(dct(res_recovered[1], type = 2, norm = 'ortho' ))]\n",
    "for k in range(2,len(res_recovered)):\n",
    "    recover_dct.append(list(dct(res_recovered[k], type = 2, norm = 'ortho' )))"
   ]
  },
  {
   "cell_type": "code",
   "execution_count": 17,
   "metadata": {},
   "outputs": [],
   "source": [
    "all_recover = []\n",
    "for i in recover_dct:\n",
    "    for j in i:\n",
    "        all_recover.append(j)\n",
    "aN_recover = idct(all_recover, type = 2, norm = 'ortho')\n",
    "final_recovered = aN_recover[:524288]"
   ]
  },
  {
   "cell_type": "code",
   "execution_count": 18,
   "metadata": {},
   "outputs": [
    {
     "name": "stdout",
     "output_type": "stream",
     "text": [
      "The PRD is 4.085%\n"
     ]
    }
   ],
   "source": [
    "resampled_signal_shorter = signal.resample(y, len(final_recovered))\n",
    "#resampled_signal_shorter = rounded_signal[:len(final_recovered)] \n",
    "from sklearn.metrics import mean_squared_error\n",
    "from math import sqrt\n",
    "\n",
    "def PRD_calculation(original_signal, compressed_signal):\n",
    "    PRD = sqrt(sum((original_signal-compressed_signal)**2)/(sum(original_signal**2)))\n",
    "    return PRD\n",
    "\n",
    "PRD = PRD_calculation(resampled_signal_shorter, final_recovered)\n",
    "print(\"The PRD is {}%\".format(round(PRD*100,3)))"
   ]
  },
  {
   "cell_type": "code",
   "execution_count": 19,
   "metadata": {},
   "outputs": [
    {
     "data": {
      "image/png": "[encoded data removed]",
      "text/plain": [
       "<Figure size 432x288 with 1 Axes>"
      ]
     },
     "metadata": {
      "needs_background": "light"
     },
     "output_type": "display_data"
    }
   ],
   "source": [
    "#plt.plot(resampled_signal_shorter[74000:75000], label = \"origianl\")\n",
    "resampled_signal_shorter = signal.resample(y, len(final_recovered))\n",
    "plt.plot(final_recovered[74000:75000], label = \"recovered\", color = 'orange')\n",
    "plt.plot(resampled_signal_shorter[74000:75000], label = \"origianl\")\n",
    "plt.legend()\n",
    "plt.title('ECG')\n",
    "plt.grid()\n",
    "plt.show()"
   ]
  }
 ],
 "metadata": {
  "kernelspec": {
   "display_name": "Python 3",
   "language": "python",
   "name": "python3"
  },
  "language_info": {
   "codemirror_mode": {
    "name": "ipython",
    "version": 3
   },
   "file_extension": ".py",
   "mimetype": "text/x-python",
   "name": "python",
   "nbconvert_exporter": "python",
   "pygments_lexer": "ipython3",
   "version": "3.7.6"
  }
 },
 "nbformat": 4,
 "nbformat_minor": 2
}
