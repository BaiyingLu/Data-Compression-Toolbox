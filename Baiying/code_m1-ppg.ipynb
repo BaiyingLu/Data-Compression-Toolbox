{
 "cells": [
  {
   "cell_type": "markdown",
   "metadata": {},
   "source": [
    "# Method1 SVD+Huffman"
   ]
  },
  {
   "cell_type": "markdown",
   "metadata": {},
   "source": [
    "### Code"
   ]
  },
  {
   "cell_type": "markdown",
   "metadata": {},
   "source": [
    "#### Import the EDF file\n",
    "Installation: https://mne.tools/dev/install/mne_python.html\n",
    "\n",
    "Function description: https://mne.tools/dev/generated/mne.io.read_raw_edf.html"
   ]
  },
  {
   "cell_type": "markdown",
   "metadata": {},
   "source": [
    "#### #Convert the edf file into csv and reload the csv file\n",
    "\n",
    "If we just use raw_data[0], just as the we mentioned above, this step will not be needed anymore"
   ]
  },
  {
   "cell_type": "code",
   "execution_count": 1,
   "metadata": {},
   "outputs": [],
   "source": [
    "import numpy as np"
   ]
  },
  {
   "cell_type": "code",
   "execution_count": 2,
   "metadata": {},
   "outputs": [],
   "source": [
    "import pandas as pd\n",
    "ppg = pd.read_csv('BVP.csv')"
   ]
  },
  {
   "cell_type": "code",
   "execution_count": 3,
   "metadata": {},
   "outputs": [
    {
     "data": {
      "text/html": [
       "<div>\n",
       "<style scoped>\n",
       "    .dataframe tbody tr th:only-of-type {\n",
       "        vertical-align: middle;\n",
       "    }\n",
       "\n",
       "    .dataframe tbody tr th {\n",
       "        vertical-align: top;\n",
       "    }\n",
       "\n",
       "    .dataframe thead th {\n",
       "        text-align: right;\n",
       "    }\n",
       "</style>\n",
       "<table border=\"1\" class=\"dataframe\">\n",
       "  <thead>\n",
       "    <tr style=\"text-align: right;\">\n",
       "      <th></th>\n",
       "      <th>1563898771.00</th>\n",
       "    </tr>\n",
       "  </thead>\n",
       "  <tbody>\n",
       "    <tr>\n",
       "      <th>0</th>\n",
       "      <td>64.00</td>\n",
       "    </tr>\n",
       "    <tr>\n",
       "      <th>1</th>\n",
       "      <td>-0.00</td>\n",
       "    </tr>\n",
       "    <tr>\n",
       "      <th>2</th>\n",
       "      <td>-0.00</td>\n",
       "    </tr>\n",
       "    <tr>\n",
       "      <th>3</th>\n",
       "      <td>-0.00</td>\n",
       "    </tr>\n",
       "    <tr>\n",
       "      <th>4</th>\n",
       "      <td>-0.00</td>\n",
       "    </tr>\n",
       "    <tr>\n",
       "      <th>...</th>\n",
       "      <td>...</td>\n",
       "    </tr>\n",
       "    <tr>\n",
       "      <th>145295</th>\n",
       "      <td>155.35</td>\n",
       "    </tr>\n",
       "    <tr>\n",
       "      <th>145296</th>\n",
       "      <td>133.95</td>\n",
       "    </tr>\n",
       "    <tr>\n",
       "      <th>145297</th>\n",
       "      <td>114.88</td>\n",
       "    </tr>\n",
       "    <tr>\n",
       "      <th>145298</th>\n",
       "      <td>97.94</td>\n",
       "    </tr>\n",
       "    <tr>\n",
       "      <th>145299</th>\n",
       "      <td>82.50</td>\n",
       "    </tr>\n",
       "  </tbody>\n",
       "</table>\n",
       "<p>145300 rows × 1 columns</p>\n",
       "</div>"
      ],
      "text/plain": [
       "        1563898771.00\n",
       "0               64.00\n",
       "1               -0.00\n",
       "2               -0.00\n",
       "3               -0.00\n",
       "4               -0.00\n",
       "...               ...\n",
       "145295         155.35\n",
       "145296         133.95\n",
       "145297         114.88\n",
       "145298          97.94\n",
       "145299          82.50\n",
       "\n",
       "[145300 rows x 1 columns]"
      ]
     },
     "execution_count": 3,
     "metadata": {},
     "output_type": "execute_result"
    }
   ],
   "source": [
    "ppg"
   ]
  },
  {
   "cell_type": "code",
   "execution_count": 4,
   "metadata": {},
   "outputs": [],
   "source": [
    "np.savetxt('ppg.txt',ppg)"
   ]
  },
  {
   "cell_type": "markdown",
   "metadata": {},
   "source": [
    "#### Plot the signal to explore the data"
   ]
  },
  {
   "cell_type": "code",
   "execution_count": 5,
   "metadata": {},
   "outputs": [
    {
     "data": {
      "text/plain": [
       "145300"
      ]
     },
     "execution_count": 5,
     "metadata": {},
     "output_type": "execute_result"
    }
   ],
   "source": [
    "sampling_freq = 1/64  #This is the sampling frequency\n",
    "N = ppg.size  #The number of point\n",
    "N"
   ]
  },
  {
   "cell_type": "code",
   "execution_count": 6,
   "metadata": {},
   "outputs": [
    {
     "data": {
      "text/plain": [
       "array([0.00000000e+00, 1.56250002e-02, 3.12500003e-02, ...,\n",
       "       2.27026565e+03, 2.27028127e+03, 2.27029690e+03])"
      ]
     },
     "execution_count": 6,
     "metadata": {},
     "output_type": "execute_result"
    }
   ],
   "source": [
    "index = np.linspace(0, round((N-1)*sampling_freq,4), N) #Set the time sequence for the signal\n",
    "index"
   ]
  },
  {
   "cell_type": "code",
   "execution_count": 7,
   "metadata": {},
   "outputs": [
    {
     "data": {
      "text/plain": [
       "<matplotlib.axes._subplots.AxesSubplot at 0x11d2c7410>"
      ]
     },
     "execution_count": 7,
     "metadata": {},
     "output_type": "execute_result"
    },
    {
     "data": {
      "image/png": "[encoded data removed]",
      "text/plain": [
       "<Figure size 432x288 with 1 Axes>"
      ]
     },
     "metadata": {
      "needs_background": "light"
     },
     "output_type": "display_data"
    }
   ],
   "source": [
    "ppg.plot()"
   ]
  },
  {
   "cell_type": "code",
   "execution_count": 8,
   "metadata": {},
   "outputs": [
    {
     "data": {
      "text/plain": [
       "145300"
      ]
     },
     "execution_count": 8,
     "metadata": {},
     "output_type": "execute_result"
    }
   ],
   "source": [
    "ppg_array = ppg.to_numpy() #save the data into an ndarray\n",
    "ppg_array.size"
   ]
  },
  {
   "cell_type": "markdown",
   "metadata": {},
   "source": [
    "#### Truncate the signal \n",
    "Get rid of the first 3mins and last 5mins"
   ]
  },
  {
   "cell_type": "code",
   "execution_count": 9,
   "metadata": {},
   "outputs": [],
   "source": [
    "ppg_array = ppg_array[0:121000]  # Remove the signal in first 3minutes and last 5minutes"
   ]
  },
  {
   "cell_type": "code",
   "execution_count": 10,
   "metadata": {},
   "outputs": [
    {
     "data": {
      "text/plain": [
       "121000"
      ]
     },
     "execution_count": 10,
     "metadata": {},
     "output_type": "execute_result"
    }
   ],
   "source": [
    "ppg_array.size"
   ]
  },
  {
   "cell_type": "code",
   "execution_count": 11,
   "metadata": {},
   "outputs": [],
   "source": [
    "sampling_freq = 1/64\n",
    "N = ppg_array.size"
   ]
  },
  {
   "cell_type": "code",
   "execution_count": 12,
   "metadata": {},
   "outputs": [
    {
     "data": {
      "text/plain": [
       "array([0.00000000e+00, 1.56250002e-02, 3.12500004e-02, ...,\n",
       "       1.89057815e+03, 1.89059377e+03, 1.89060940e+03])"
      ]
     },
     "execution_count": 12,
     "metadata": {},
     "output_type": "execute_result"
    }
   ],
   "source": [
    "index = np.linspace(0, round((N-1)*sampling_freq,4), N)\n",
    "index"
   ]
  },
  {
   "cell_type": "code",
   "execution_count": 13,
   "metadata": {},
   "outputs": [
    {
     "data": {
      "image/png": "[encoded data removed]",
      "text/plain": [
       "<Figure size 432x288 with 1 Axes>"
      ]
     },
     "metadata": {
      "needs_background": "light"
     },
     "output_type": "display_data"
    }
   ],
   "source": [
    "from scipy.fft import fft,fftshift\n",
    "# Number of sample points\n",
    "\n",
    "y = ppg_array\n",
    "yf = fft(y)\n",
    "yf = fftshift(yf)\n",
    "xf = np.linspace(-1/sampling_freq, 1/sampling_freq, N)\n",
    "import matplotlib.pyplot as plt\n",
    "plt.plot(xf, np.abs(yf))\n",
    "#plt.plot(xf, 2.0/N * np.abs(yf[0:N//2]))\n",
    "plt.grid()\n",
    "plt.show()"
   ]
  },
  {
   "cell_type": "markdown",
   "metadata": {},
   "source": [
    "#### Ideal filter\n",
    "\n",
    "The result shows that the ideal filter will introduce some baseline drift, so we plan to use butterworth filter later"
   ]
  },
  {
   "cell_type": "markdown",
   "metadata": {},
   "source": [
    "#### Butterworth Band pass Filter"
   ]
  },
  {
   "cell_type": "code",
   "execution_count": 14,
   "metadata": {},
   "outputs": [],
   "source": [
    "from scipy.signal import butter, lfilter\n",
    "\n",
    "\n",
    "def butter_bandpass(lowcut, highcut, fs, order=5):\n",
    "    nyq = 0.5 * fs\n",
    "    low = lowcut / nyq\n",
    "    high = highcut / nyq\n",
    "    b, a = butter(order, [low, high], btype='band')\n",
    "    return b, a\n",
    "\n",
    "\n",
    "def butter_bandpass_filter(data, lowcut, highcut, fs, order=5):\n",
    "    b, a = butter_bandpass(lowcut, highcut, fs, order=order)\n",
    "    y = lfilter(b, a, data)\n",
    "    return y"
   ]
  },
  {
   "cell_type": "code",
   "execution_count": 15,
   "metadata": {},
   "outputs": [
    {
     "data": {
      "text/plain": [
       "<matplotlib.legend.Legend at 0x1a20c03410>"
      ]
     },
     "execution_count": 15,
     "metadata": {},
     "output_type": "execute_result"
    },
    {
     "data": {
      "image/png": "[encoded data removed]",
      "text/plain": [
       "<Figure size 432x288 with 1 Axes>"
      ]
     },
     "metadata": {
      "needs_background": "light"
     },
     "output_type": "display_data"
    }
   ],
   "source": [
    "import numpy as np\n",
    "import matplotlib.pyplot as plt\n",
    "from scipy.signal import freqz\n",
    "\n",
    "# Sample rate and desired cutoff frequencies (in Hz).\n",
    "fs = 1000.0\n",
    "lowcut = 0.5\n",
    "highcut = 50.0\n",
    "\n",
    "# Plot the frequency response for a few different orders.\n",
    "plt.figure(1)\n",
    "plt.clf()\n",
    "for order in [1, 2, 3, 4]:\n",
    "    b, a = butter_bandpass(lowcut, highcut, fs, order=order)\n",
    "    w, h = freqz(b, a, worN=2000)\n",
    "    plt.plot((fs * 0.5 / np.pi) * w, abs(h), label=\"order = %d\" % order)\n",
    "\n",
    "plt.plot([0, 0.5 * fs], [np.sqrt(0.5), np.sqrt(0.5)],\n",
    "         '--', label='sqrt(0.5)')\n",
    "plt.xlabel('Frequency (Hz)')\n",
    "plt.ylabel('Gain')\n",
    "plt.grid(True)\n",
    "plt.legend(loc='best')"
   ]
  },
  {
   "cell_type": "code",
   "execution_count": 16,
   "metadata": {},
   "outputs": [
    {
     "data": {
      "image/png": "[encoded data removed]",
      "text/plain": [
       "<Figure size 432x288 with 1 Axes>"
      ]
     },
     "metadata": {
      "needs_background": "light"
     },
     "output_type": "display_data"
    }
   ],
   "source": [
    "y = butter_bandpass_filter(ppg_array, lowcut, highcut, fs, order=2)\n",
    "plt.plot(index, y, label='Filtered signal (Hz)')\n",
    "plt.grid(True)\n",
    "plt.show()"
   ]
  },
  {
   "cell_type": "code",
   "execution_count": 17,
   "metadata": {},
   "outputs": [
    {
     "data": {
      "image/png": "[encoded data removed]",
      "text/plain": [
       "<Figure size 432x288 with 1 Axes>"
      ]
     },
     "metadata": {
      "needs_background": "light"
     },
     "output_type": "display_data"
    }
   ],
   "source": [
    "recover_ECG_example = y[20000:21000]\n",
    "plt.plot(recover_ECG_example)\n",
    "plt.show()"
   ]
  },
  {
   "cell_type": "markdown",
   "metadata": {},
   "source": [
    "From the original signal, we could see that the T wave is much higher than P wave. Butterworth filter with order=2 could show this feature sucessfully. However, with order=3 and order=4, the difference between T wave and P wave are decreased."
   ]
  },
  {
   "cell_type": "markdown",
   "metadata": {},
   "source": [
    "#### Resampling\n",
    "\n",
    "For PPG, it's not so necessary to resample the signal because the sample frequency of the original signal is 64Hz. But in order to SVD, we need to approximate the signal into a squared number"
   ]
  },
  {
   "cell_type": "code",
   "execution_count": 18,
   "metadata": {},
   "outputs": [
    {
     "data": {
      "text/plain": [
       "121000"
      ]
     },
     "execution_count": 18,
     "metadata": {},
     "output_type": "execute_result"
    }
   ],
   "source": [
    "N"
   ]
  },
  {
   "cell_type": "code",
   "execution_count": 19,
   "metadata": {},
   "outputs": [
    {
     "data": {
      "image/png": "[encoded data removed]",
      "text/plain": [
       "<Figure size 432x288 with 1 Axes>"
      ]
     },
     "metadata": {
      "needs_background": "light"
     },
     "output_type": "display_data"
    }
   ],
   "source": [
    "from scipy import signal\n",
    "y = butter_bandpass_filter(ppg_array, lowcut, highcut, fs, order=2)\n",
    "resampled_signal = signal.resample(y,120409 )  #This squared number need to be decided by the users\n",
    "plt.plot(resampled_signal[20000:21000])\n",
    "plt.show()"
   ]
  },
  {
   "cell_type": "markdown",
   "metadata": {},
   "source": [
    "#### Amplitude Normalization"
   ]
  },
  {
   "cell_type": "markdown",
   "metadata": {},
   "source": [
    "For the ppg signal, it's not necessary to do normalization, so we can just skip this step"
   ]
  },
  {
   "cell_type": "code",
   "execution_count": 20,
   "metadata": {},
   "outputs": [],
   "source": [
    "#def NormalizeData(data):\n",
    "#    return (data - np.min(data)) / (np.max(data) - np.min(data))"
   ]
  },
  {
   "cell_type": "code",
   "execution_count": 21,
   "metadata": {},
   "outputs": [],
   "source": [
    "#normalized_signal = NormalizeData(resampled_signal)\n",
    "#norm1 = x / np.linalg.norm(x)\n",
    "#norm2 = normalize(x[:,np.newaxis], axis=0).ravel()\n",
    "#plt.plot(normalized_signal[74000:76000])\n",
    "#plt.show()"
   ]
  },
  {
   "cell_type": "markdown",
   "metadata": {},
   "source": [
    "#### SVD"
   ]
  },
  {
   "cell_type": "code",
   "execution_count": 59,
   "metadata": {
    "scrolled": true
   },
   "outputs": [
    {
     "name": "stdout",
     "output_type": "stream",
     "text": [
      "(347, 347)\n",
      "(347, 347)\n",
      "(347,)\n",
      "(347, 347)\n"
     ]
    }
   ],
   "source": [
    "from scipy import linalg\n",
    "reshaped_signal = np.reshape(resampled_signal, (347,347))\n",
    "U, s, Vh = linalg.svd(reshaped_signal)\n",
    "print(reshaped_signal.shape)\n",
    "print(U.shape)\n",
    "print(s.shape)\n",
    "print(Vh.shape)"
   ]
  },
  {
   "cell_type": "code",
   "execution_count": 60,
   "metadata": {},
   "outputs": [],
   "source": [
    "s[75:] = 0"
   ]
  },
  {
   "cell_type": "code",
   "execution_count": 61,
   "metadata": {},
   "outputs": [],
   "source": [
    "m = 347\n",
    "n = 347\n",
    "sigma = np.zeros((m, n))\n",
    "for i in range(min(m, n)):\n",
    "    sigma[i, i] = s[i]\n",
    "reconstructed_signal = np.dot(U, np.dot(sigma, Vh))\n",
    "deSVD = np.reshape(reconstructed_signal,347*347)"
   ]
  },
  {
   "cell_type": "code",
   "execution_count": 62,
   "metadata": {},
   "outputs": [],
   "source": [
    "np.savetxt('deSVD_ppg.txt',deSVD,fmt='%.4f')"
   ]
  },
  {
   "cell_type": "code",
   "execution_count": 63,
   "metadata": {},
   "outputs": [],
   "source": [
    "decoded_data = np.loadtxt(fname = \"deSVD_ppg.txt\")"
   ]
  },
  {
   "cell_type": "code",
   "execution_count": 64,
   "metadata": {},
   "outputs": [
    {
     "data": {
      "text/plain": [
       "(120409,)"
      ]
     },
     "execution_count": 64,
     "metadata": {},
     "output_type": "execute_result"
    }
   ],
   "source": [
    "decoded_data.shape"
   ]
  },
  {
   "cell_type": "code",
   "execution_count": 65,
   "metadata": {},
   "outputs": [],
   "source": [
    "decoded_data =decoded_data[..., np.newaxis]"
   ]
  },
  {
   "cell_type": "code",
   "execution_count": 66,
   "metadata": {},
   "outputs": [
    {
     "data": {
      "text/plain": [
       "(120409, 1)"
      ]
     },
     "execution_count": 66,
     "metadata": {},
     "output_type": "execute_result"
    }
   ],
   "source": [
    "resampled_signal.shape"
   ]
  },
  {
   "cell_type": "code",
   "execution_count": 67,
   "metadata": {},
   "outputs": [
    {
     "name": "stdout",
     "output_type": "stream",
     "text": [
      "The PRD is 1.747%\n"
     ]
    }
   ],
   "source": [
    "from sklearn.metrics import mean_squared_error\n",
    "from math import sqrt\n",
    "from scipy import signal\n",
    "# original_signal = normalized_signal\n",
    "# compressed_signal = decoded_data\n",
    "def PRD_calculation(original_signal, compressed_signal):\n",
    "    PRD = sqrt(sum((original_signal-compressed_signal)**2)/(sum(original_signal**2)))\n",
    "    return PRD\n",
    "\n",
    "PRD = PRD_calculation(resampled_signal, decoded_data)\n",
    "print(\"The PRD is {}%\".format(round(PRD*100,3)))"
   ]
  },
  {
   "cell_type": "markdown",
   "metadata": {},
   "source": [
    "CR = 3.7*1024/400 = 9.47"
   ]
  },
  {
   "cell_type": "markdown",
   "metadata": {},
   "source": [
    "#### Reconstruct the original matrix from the decomposition\n",
    "For future decoding"
   ]
  },
  {
   "cell_type": "code",
   "execution_count": null,
   "metadata": {},
   "outputs": [],
   "source": [
    "# Kernal need \n",
    "#m = 347\n",
    "#n = 347\n",
    "#sigma = np.zeros((m, n))\n",
    "#for i in range(min(m, n)):\n",
    "#    sigma[i, i] = s[i]\n",
    "#reconstructed_signal = np.dot(U, np.dot(sigma, Vh))\n",
    "#reshaped_recon_signal = np.reshape(reconstructed_signal,120409)\n",
    "#np.allclose(reshaped_recon_signal, normalized_signal)\n",
    "#True means the signal could be reconstructed back to the original one"
   ]
  },
  {
   "cell_type": "markdown",
   "metadata": {},
   "source": [
    "#### Quantization"
   ]
  },
  {
   "cell_type": "code",
   "execution_count": null,
   "metadata": {},
   "outputs": [],
   "source": [
    "round_U = np.around(U,4) #Keep four decimals\n",
    "print(round_U)\n",
    "unique, counts = np.unique(round_U, return_counts=True)\n",
    "U_dict = dict(zip(unique, counts))\n",
    "unique.size"
   ]
  },
  {
   "cell_type": "code",
   "execution_count": null,
   "metadata": {},
   "outputs": [],
   "source": [
    "np.savetxt('ppg_U_round4.txt',round_U,fmt='%.3f')"
   ]
  },
  {
   "cell_type": "markdown",
   "metadata": {},
   "source": [
    "#### INSTRUCTION ON HOW TO COMPRESS THE DATA BY HUFFMAN CODING\n",
    "\n",
    "\n",
    "(I used the package \"tcmpr 0.2\" and \"pyhuff 1.1\". These two packages provided the same compression result. So here, we just use \"tcmpr 0.2\")\n",
    "\n",
    "1. Open your termial or git bash, enter \"pip install tcmpr\" to install the \"tcmpr 0.2\" package\n",
    "2. Enter the directory which include the file you want to compress OR copy the path of the file you want to compress\n",
    "3. Enter \"tcmpr <filename>.txt\" / \"tcmpr <filepath>\" to compress the file\n",
    "4. Find the compressed file in the same directory of the original file"
   ]
  },
  {
   "cell_type": "markdown",
   "metadata": {},
   "source": [
    "\n",
    "\n",
    "1. The file size(round 4) before Huffman coding is 782KB. The file size(round 4) after Huffman coding is 302kB\n",
    "\n"
   ]
  },
  {
   "cell_type": "markdown",
   "metadata": {},
   "source": [
    "Also do this step for \"s\" and \"Vh\""
   ]
  },
  {
   "cell_type": "code",
   "execution_count": null,
   "metadata": {},
   "outputs": [],
   "source": [
    "round_s = np.around(s,4)\n",
    "unique, counts = np.unique(round_s, return_counts=True)\n",
    "U_dict = dict(zip(unique, counts))\n",
    "unique.size"
   ]
  },
  {
   "cell_type": "code",
   "execution_count": null,
   "metadata": {},
   "outputs": [],
   "source": [
    "np.savetxt('ppg_s_round4.txt',round_s,fmt='%.3f')"
   ]
  },
  {
   "cell_type": "code",
   "execution_count": null,
   "metadata": {},
   "outputs": [],
   "source": [
    "plt.plot(round_s)"
   ]
  },
  {
   "cell_type": "markdown",
   "metadata": {},
   "source": [
    "\"s\" can be shrank from 2kb to 961bytes"
   ]
  },
  {
   "cell_type": "code",
   "execution_count": null,
   "metadata": {},
   "outputs": [],
   "source": [
    "round_Vh = np.around(Vh,4)\n",
    "#print(round_s)\n",
    "unique, counts = np.unique(round_Vh, return_counts=True)\n",
    "U_dict = dict(zip(unique, counts))\n",
    "unique.size"
   ]
  },
  {
   "cell_type": "code",
   "execution_count": null,
   "metadata": {},
   "outputs": [],
   "source": [
    "np.savetxt('ppg_Vh_round4.txt',round_Vh,fmt='%.3f')"
   ]
  },
  {
   "cell_type": "markdown",
   "metadata": {},
   "source": [
    "\"Vh\" can be shrank from 782kB to 304kB"
   ]
  },
  {
   "cell_type": "markdown",
   "metadata": {},
   "source": [
    "In conclusion, the size of the original data in csv is 902kB. In txt file, the size of the original data is 3.7MB. After compression, the size of the U, s, and Vh is 302kB, 0.94KB, and 304kB. The compression ratio is 6.24.\n",
    "It seems that the compression result is not so ideal as we supposed. Also, the SVD decomposed the data into 3 matrices, but it actually expand the size/length of the data. So I was thinking....."
   ]
  },
  {
   "cell_type": "markdown",
   "metadata": {},
   "source": [
    "#### PRD calculation"
   ]
  },
  {
   "cell_type": "code",
   "execution_count": null,
   "metadata": {},
   "outputs": [],
   "source": [
    "decoded_data_U = np.loadtxt(fname = \"ppg_U_round4.txt\") #Cuz Huffman coding is lossless coding, so it's fine to use this txt file\n",
    "decoded_data_s = np.loadtxt(fname = \"ppg_s_round4.txt\")\n",
    "decoded_data_Vh = np.loadtxt(fname = \"ppg_Vh_round4.txt\")\n",
    "#decoded_data_U =decoded_data_U[..., np.newaxis]\n",
    "#decoded_data_s =decoded_data_s[..., np.newaxis]\n",
    "#decoded_data_Vh =decoded_data_Vh[..., np.newaxis]"
   ]
  },
  {
   "cell_type": "code",
   "execution_count": null,
   "metadata": {},
   "outputs": [],
   "source": [
    "s.shape"
   ]
  },
  {
   "cell_type": "code",
   "execution_count": null,
   "metadata": {},
   "outputs": [],
   "source": [
    "# Kernal need \n",
    "m = 347\n",
    "n = 347\n",
    "sigma = np.zeros((m, n))\n",
    "for i in range(min(m, n)):\n",
    "    sigma[i, i] = decoded_data_s[i]\n",
    "reconstructed_signal = np.dot(decoded_data_U, np.dot(sigma, decoded_data_Vh))\n",
    "deSVD = np.reshape(reconstructed_signal,120409)\n",
    "#np.allclose(reshaped_recon_signal, normalized_signal)\n",
    "#True means the signal could be reconstructed back to the original one"
   ]
  },
  {
   "cell_type": "code",
   "execution_count": null,
   "metadata": {},
   "outputs": [],
   "source": [
    "deSVD = deSVD[..., np.newaxis]"
   ]
  },
  {
   "cell_type": "code",
   "execution_count": null,
   "metadata": {},
   "outputs": [],
   "source": [
    "from sklearn.metrics import mean_squared_error\n",
    "from math import sqrt\n",
    "from scipy import signal\n",
    "# original_signal = normalized_signal\n",
    "# compressed_signal = decoded_data\n",
    "def PRD_calculation(original_signal, compressed_signal):\n",
    "    PRD = sqrt(sum((original_signal-compressed_signal)**2)/(sum(original_signal**2)))\n",
    "    return PRD\n",
    "\n",
    "PRD = PRD_calculation(resampled_signal, deSVD)\n",
    "print(\"The PRD is {}%\".format(round(PRD*100,3)))"
   ]
  },
  {
   "cell_type": "markdown",
   "metadata": {},
   "source": [
    "### What if I don't do SVD? Just compress the signal directly..."
   ]
  },
  {
   "cell_type": "code",
   "execution_count": null,
   "metadata": {},
   "outputs": [],
   "source": [
    "round_signal = np.around(resampled_signal,2) #round it with 2 decimals will be good\n",
    "#Cuz keep only 1 decimal will lose a lot of information, and keep 3 decimals will be redundant \n",
    "#and the compression ratio will not be good.\n",
    "print(round_signal)\n",
    "unique, counts = np.unique(round_signal, return_counts=True)\n",
    "U_dict = dict(zip(unique, counts))\n",
    "unique.size"
   ]
  },
  {
   "cell_type": "code",
   "execution_count": null,
   "metadata": {},
   "outputs": [],
   "source": [
    "plt.plot(round_signal[74000:76000])\n",
    "plt.show()"
   ]
  },
  {
   "cell_type": "code",
   "execution_count": null,
   "metadata": {},
   "outputs": [],
   "source": [
    "np.savetxt('ppg_signal_rounded.txt',round_signal,fmt='%.3f')"
   ]
  },
  {
   "cell_type": "code",
   "execution_count": null,
   "metadata": {},
   "outputs": [],
   "source": [
    "decoded_data = np.loadtxt(fname = \"ppg_signal_rounded.txt\")"
   ]
  },
  {
   "cell_type": "code",
   "execution_count": null,
   "metadata": {},
   "outputs": [],
   "source": [
    "decoded_data"
   ]
  },
  {
   "cell_type": "code",
   "execution_count": null,
   "metadata": {},
   "outputs": [],
   "source": [
    "plt.plot(decoded_data[74000:76000])\n",
    "plt.show()"
   ]
  },
  {
   "cell_type": "code",
   "execution_count": null,
   "metadata": {},
   "outputs": [],
   "source": [
    "decoded_data.shape"
   ]
  },
  {
   "cell_type": "markdown",
   "metadata": {},
   "source": [
    "Use Huffman coding to encode this normalized signal sequence.\n",
    "\n",
    "Before Huffman coding, the size of the txt file of this signal sequence is 778kB. After Huffman coding, the size of the txt file of this signal sequence is 307kB.\n",
    "\n",
    "The original size of the raw data is 902kB in csv and 3.7MB in txt. If we calculate the compression ratio by the same data format. The compression ratio is 12.34\n"
   ]
  },
  {
   "cell_type": "code",
   "execution_count": null,
   "metadata": {},
   "outputs": [],
   "source": [
    "resampled_signal.shape"
   ]
  },
  {
   "cell_type": "code",
   "execution_count": null,
   "metadata": {},
   "outputs": [],
   "source": [
    "resampled_signal"
   ]
  },
  {
   "cell_type": "code",
   "execution_count": null,
   "metadata": {},
   "outputs": [],
   "source": [
    "decoded_data"
   ]
  },
  {
   "cell_type": "code",
   "execution_count": null,
   "metadata": {},
   "outputs": [],
   "source": [
    "decoded_data =decoded_data[..., np.newaxis]\n",
    "decoded_data"
   ]
  },
  {
   "cell_type": "code",
   "execution_count": null,
   "metadata": {},
   "outputs": [],
   "source": [
    "from sklearn.metrics import mean_squared_error\n",
    "from math import sqrt\n",
    "sqrt(sum((resampled_signal-decoded_data)**2)/(sum(resampled_signal**2)))"
   ]
  },
  {
   "cell_type": "markdown",
   "metadata": {},
   "source": [
    "#### PRD calculation:\n"
   ]
  },
  {
   "cell_type": "code",
   "execution_count": null,
   "metadata": {},
   "outputs": [],
   "source": [
    "#resampled_signal_ori = signal.resample(ECG_array, 564001)"
   ]
  },
  {
   "cell_type": "code",
   "execution_count": null,
   "metadata": {},
   "outputs": [],
   "source": [
    "from sklearn.metrics import mean_squared_error\n",
    "from math import sqrt\n",
    "from scipy import signal\n",
    "# original_signal = normalized_signal\n",
    "# compressed_signal = decoded_data\n",
    "def PRD_calculation(original_signal, compressed_signal):\n",
    "    PRD = sqrt(sum((original_signal-compressed_signal)**2)/(sum(original_signal**2)))\n",
    "    return PRD\n",
    "\n",
    "PRD = PRD_calculation(resampled_signal, decoded_data)\n",
    "print(\"The PRD is {}%\".format(round(PRD*100,3)))"
   ]
  },
  {
   "cell_type": "markdown",
   "metadata": {},
   "source": [
    "### Instructions\n",
    "\n",
    "Put instructions of how to use your method here.\n",
    "\n",
    "More instruction needs to be well documented"
   ]
  },
  {
   "cell_type": "markdown",
   "metadata": {},
   "source": [
    "Dependencies: \n",
    "\n",
    "All codes based on Python3\n",
    "Numpy, Pandas, tcmpr 0.2 installed on the users' system"
   ]
  },
  {
   "cell_type": "markdown",
   "metadata": {},
   "source": [
    "### Evaluation\n",
    "\n",
    "The results of this method on the following wearable sensors:\n",
    "\n",
    "| Wearable Sensor | Compression Ratio | Percentage RMS difference |\n",
    "| ------ | ------ | ------ | \n",
    "| ECG | 17 | 0.949% |\n",
    "| PPG | XX | XX |\n",
    "| ACC | XX | XX |\n",
    "| EDA | XX | XX |\n",
    "| TEMP | XX | XX |"
   ]
  },
  {
   "cell_type": "code",
   "execution_count": null,
   "metadata": {},
   "outputs": [],
   "source": [
    "import pandas as pd\n",
    "PPG = pd.read_csv('BVP.csv')"
   ]
  },
  {
   "cell_type": "code",
   "execution_count": null,
   "metadata": {},
   "outputs": [],
   "source": [
    "PPG.size"
   ]
  },
  {
   "cell_type": "code",
   "execution_count": null,
   "metadata": {},
   "outputs": [],
   "source": []
  }
 ],
 "metadata": {
  "kernelspec": {
   "display_name": "Python 3",
   "language": "python",
   "name": "python3"
  },
  "language_info": {
   "codemirror_mode": {
    "name": "ipython",
    "version": 3
   },
   "file_extension": ".py",
   "mimetype": "text/x-python",
   "name": "python",
   "nbconvert_exporter": "python",
   "pygments_lexer": "ipython3",
   "version": "3.7.6"
  }
 },
 "nbformat": 4,
 "nbformat_minor": 2
}
