{
 "cells": [
  {
   "cell_type": "markdown",
   "metadata": {},
   "source": [
    "# Method1 SVD+Huffman"
   ]
  },
  {
   "cell_type": "markdown",
   "metadata": {},
   "source": [
    "### Code"
   ]
  },
  {
   "cell_type": "markdown",
   "metadata": {},
   "source": [
    "#### Import the EDF file\n",
    "Installation: https://mne.tools/dev/install/mne_python.html\n",
    "\n",
    "Function description: https://mne.tools/dev/generated/mne.io.read_raw_edf.html"
   ]
  },
  {
   "cell_type": "markdown",
   "metadata": {},
   "source": [
    "#### #Convert the edf file into csv and reload the csv file\n",
    "\n",
    "If we just use raw_data[0], just as the we mentioned above, this step will not be needed anymore"
   ]
  },
  {
   "cell_type": "code",
   "execution_count": 1,
   "metadata": {},
   "outputs": [],
   "source": [
    "import numpy as np"
   ]
  },
  {
   "cell_type": "code",
   "execution_count": 2,
   "metadata": {},
   "outputs": [],
   "source": [
    "import pandas as pd\n",
    "eda = pd.read_csv('EDA.csv')"
   ]
  },
  {
   "cell_type": "code",
   "execution_count": 3,
   "metadata": {},
   "outputs": [
    {
     "data": {
      "text/html": [
       "<div>\n",
       "<style scoped>\n",
       "    .dataframe tbody tr th:only-of-type {\n",
       "        vertical-align: middle;\n",
       "    }\n",
       "\n",
       "    .dataframe tbody tr th {\n",
       "        vertical-align: top;\n",
       "    }\n",
       "\n",
       "    .dataframe thead th {\n",
       "        text-align: right;\n",
       "    }\n",
       "</style>\n",
       "<table border=\"1\" class=\"dataframe\">\n",
       "  <thead>\n",
       "    <tr style=\"text-align: right;\">\n",
       "      <th></th>\n",
       "      <th>1563898771.000000</th>\n",
       "    </tr>\n",
       "  </thead>\n",
       "  <tbody>\n",
       "    <tr>\n",
       "      <th>0</th>\n",
       "      <td>4.000000</td>\n",
       "    </tr>\n",
       "    <tr>\n",
       "      <th>1</th>\n",
       "      <td>0.000000</td>\n",
       "    </tr>\n",
       "    <tr>\n",
       "      <th>2</th>\n",
       "      <td>0.003842</td>\n",
       "    </tr>\n",
       "    <tr>\n",
       "      <th>3</th>\n",
       "      <td>0.021772</td>\n",
       "    </tr>\n",
       "    <tr>\n",
       "      <th>4</th>\n",
       "      <td>0.026895</td>\n",
       "    </tr>\n",
       "    <tr>\n",
       "      <th>...</th>\n",
       "      <td>...</td>\n",
       "    </tr>\n",
       "    <tr>\n",
       "      <th>9074</th>\n",
       "      <td>0.006404</td>\n",
       "    </tr>\n",
       "    <tr>\n",
       "      <th>9075</th>\n",
       "      <td>0.006404</td>\n",
       "    </tr>\n",
       "    <tr>\n",
       "      <th>9076</th>\n",
       "      <td>0.006404</td>\n",
       "    </tr>\n",
       "    <tr>\n",
       "      <th>9077</th>\n",
       "      <td>0.008965</td>\n",
       "    </tr>\n",
       "    <tr>\n",
       "      <th>9078</th>\n",
       "      <td>0.007684</td>\n",
       "    </tr>\n",
       "  </tbody>\n",
       "</table>\n",
       "<p>9079 rows × 1 columns</p>\n",
       "</div>"
      ],
      "text/plain": [
       "      1563898771.000000\n",
       "0              4.000000\n",
       "1              0.000000\n",
       "2              0.003842\n",
       "3              0.021772\n",
       "4              0.026895\n",
       "...                 ...\n",
       "9074           0.006404\n",
       "9075           0.006404\n",
       "9076           0.006404\n",
       "9077           0.008965\n",
       "9078           0.007684\n",
       "\n",
       "[9079 rows x 1 columns]"
      ]
     },
     "execution_count": 3,
     "metadata": {},
     "output_type": "execute_result"
    }
   ],
   "source": [
    "eda"
   ]
  },
  {
   "cell_type": "code",
   "execution_count": 4,
   "metadata": {},
   "outputs": [],
   "source": [
    "eda = eda.iloc[1:]"
   ]
  },
  {
   "cell_type": "code",
   "execution_count": 5,
   "metadata": {},
   "outputs": [],
   "source": [
    "np.savetxt('eda.txt',eda)"
   ]
  },
  {
   "cell_type": "markdown",
   "metadata": {},
   "source": [
    "#### Plot the signal to explore the data"
   ]
  },
  {
   "cell_type": "code",
   "execution_count": 6,
   "metadata": {},
   "outputs": [
    {
     "data": {
      "text/plain": [
       "9078"
      ]
     },
     "execution_count": 6,
     "metadata": {},
     "output_type": "execute_result"
    }
   ],
   "source": [
    "sampling_freq = 1/4 #This is the sampling frequency\n",
    "N = eda.size  #The number of point\n",
    "N"
   ]
  },
  {
   "cell_type": "code",
   "execution_count": 7,
   "metadata": {},
   "outputs": [
    {
     "data": {
      "text/plain": [
       "array([0.00000e+00, 2.50000e-01, 5.00000e-01, ..., 2.26875e+03,\n",
       "       2.26900e+03, 2.26925e+03])"
      ]
     },
     "execution_count": 7,
     "metadata": {},
     "output_type": "execute_result"
    }
   ],
   "source": [
    "index = np.linspace(0, round((N-1)*sampling_freq,4), N) #Set the time sequence for the signal\n",
    "index"
   ]
  },
  {
   "cell_type": "code",
   "execution_count": 8,
   "metadata": {},
   "outputs": [
    {
     "data": {
      "text/plain": [
       "<matplotlib.axes._subplots.AxesSubplot at 0x120e5bd10>"
      ]
     },
     "execution_count": 8,
     "metadata": {},
     "output_type": "execute_result"
    },
    {
     "data": {
      "image/png": "[encoded data removed]",
      "text/plain": [
       "<Figure size 432x288 with 1 Axes>"
      ]
     },
     "metadata": {
      "needs_background": "light"
     },
     "output_type": "display_data"
    }
   ],
   "source": [
    "eda.plot()"
   ]
  },
  {
   "cell_type": "code",
   "execution_count": 9,
   "metadata": {},
   "outputs": [
    {
     "data": {
      "text/plain": [
       "9078"
      ]
     },
     "execution_count": 9,
     "metadata": {},
     "output_type": "execute_result"
    }
   ],
   "source": [
    "eda_array = eda.to_numpy() #save the data into an ndarray\n",
    "eda_array.size"
   ]
  },
  {
   "cell_type": "markdown",
   "metadata": {},
   "source": [
    "#### Truncate the signal \n",
    "Get rid of the first 3mins and last 5mins"
   ]
  },
  {
   "cell_type": "code",
   "execution_count": 10,
   "metadata": {},
   "outputs": [],
   "source": [
    "eda_array = eda_array[0:7700]  # Remove the signal in first 3minutes and last 5minutes"
   ]
  },
  {
   "cell_type": "code",
   "execution_count": 11,
   "metadata": {},
   "outputs": [
    {
     "data": {
      "text/plain": [
       "7700"
      ]
     },
     "execution_count": 11,
     "metadata": {},
     "output_type": "execute_result"
    }
   ],
   "source": [
    "eda_array.size"
   ]
  },
  {
   "cell_type": "code",
   "execution_count": 12,
   "metadata": {},
   "outputs": [],
   "source": [
    "sampling_freq = 1/4\n",
    "N = eda_array.size"
   ]
  },
  {
   "cell_type": "code",
   "execution_count": 13,
   "metadata": {},
   "outputs": [
    {
     "data": {
      "text/plain": [
       "array([0.00000e+00, 2.50000e-01, 5.00000e-01, ..., 1.92425e+03,\n",
       "       1.92450e+03, 1.92475e+03])"
      ]
     },
     "execution_count": 13,
     "metadata": {},
     "output_type": "execute_result"
    }
   ],
   "source": [
    "index = np.linspace(0, round((N-1)*sampling_freq,4), N)\n",
    "index"
   ]
  },
  {
   "cell_type": "code",
   "execution_count": 14,
   "metadata": {},
   "outputs": [
    {
     "data": {
      "image/png": "[encoded data removed]",
      "text/plain": [
       "<Figure size 432x288 with 1 Axes>"
      ]
     },
     "metadata": {
      "needs_background": "light"
     },
     "output_type": "display_data"
    }
   ],
   "source": [
    "from scipy.fft import fft,fftshift\n",
    "# Number of sample points\n",
    "\n",
    "y = eda_array\n",
    "yf = fft(y)\n",
    "yf = fftshift(yf)\n",
    "xf = np.linspace(-1/sampling_freq, 1/sampling_freq, N)\n",
    "import matplotlib.pyplot as plt\n",
    "plt.plot(xf, np.abs(yf))\n",
    "#plt.plot(xf, 2.0/N * np.abs(yf[0:N//2]))\n",
    "plt.grid()\n",
    "plt.show()"
   ]
  },
  {
   "cell_type": "markdown",
   "metadata": {},
   "source": [
    "#### Butterworth Band pass Filter"
   ]
  },
  {
   "cell_type": "code",
   "execution_count": 15,
   "metadata": {},
   "outputs": [],
   "source": [
    "from scipy.signal import butter, lfilter\n",
    "\n",
    "\n",
    "def butter_bandpass(lowcut, highcut, fs, order=5):\n",
    "    nyq = 0.5 * fs\n",
    "    low = lowcut / nyq\n",
    "    high = highcut / nyq\n",
    "    b, a = butter(order, [low, high], btype='band')\n",
    "    return b, a\n",
    "\n",
    "\n",
    "def butter_bandpass_filter(data, lowcut, highcut, fs, order=5):\n",
    "    b, a = butter_bandpass(lowcut, highcut, fs, order=order)\n",
    "    y = lfilter(b, a, data)\n",
    "    return y"
   ]
  },
  {
   "cell_type": "code",
   "execution_count": 16,
   "metadata": {},
   "outputs": [
    {
     "data": {
      "text/plain": [
       "<matplotlib.legend.Legend at 0x1a23f7a3d0>"
      ]
     },
     "execution_count": 16,
     "metadata": {},
     "output_type": "execute_result"
    },
    {
     "data": {
      "image/png": "[encoded data removed]",
      "text/plain": [
       "<Figure size 432x288 with 1 Axes>"
      ]
     },
     "metadata": {
      "needs_background": "light"
     },
     "output_type": "display_data"
    }
   ],
   "source": [
    "import numpy as np\n",
    "import matplotlib.pyplot as plt\n",
    "from scipy.signal import freqz\n",
    "\n",
    "# Sample rate and desired cutoff frequencies (in Hz).\n",
    "fs = 1000.0\n",
    "lowcut = 0.5\n",
    "highcut = 50.0\n",
    "\n",
    "# Plot the frequency response for a few different orders.\n",
    "plt.figure(1)\n",
    "plt.clf()\n",
    "for order in [1, 2, 3, 4]:\n",
    "    b, a = butter_bandpass(lowcut, highcut, fs, order=order)\n",
    "    w, h = freqz(b, a, worN=2000)\n",
    "    plt.plot((fs * 0.5 / np.pi) * w, abs(h), label=\"order = %d\" % order)\n",
    "\n",
    "plt.plot([0, 0.5 * fs], [np.sqrt(0.5), np.sqrt(0.5)],\n",
    "         '--', label='sqrt(0.5)')\n",
    "plt.xlabel('Frequency (Hz)')\n",
    "plt.ylabel('Gain')\n",
    "plt.grid(True)\n",
    "plt.legend(loc='best')"
   ]
  },
  {
   "cell_type": "code",
   "execution_count": null,
   "metadata": {},
   "outputs": [],
   "source": []
  },
  {
   "cell_type": "markdown",
   "metadata": {},
   "source": [
    "#### SVD"
   ]
  },
  {
   "cell_type": "code",
   "execution_count": 17,
   "metadata": {},
   "outputs": [
    {
     "data": {
      "text/plain": [
       "(7700, 1)"
      ]
     },
     "execution_count": 17,
     "metadata": {},
     "output_type": "execute_result"
    }
   ],
   "source": [
    "eda_array.shape"
   ]
  },
  {
   "cell_type": "code",
   "execution_count": 18,
   "metadata": {},
   "outputs": [
    {
     "data": {
      "image/png": "[encoded data removed]",
      "text/plain": [
       "<Figure size 432x288 with 1 Axes>"
      ]
     },
     "metadata": {
      "needs_background": "light"
     },
     "output_type": "display_data"
    }
   ],
   "source": [
    "from scipy import signal\n",
    "y = butter_bandpass_filter(eda_array, lowcut, highcut, fs, order=2)\n",
    "resampled_signal = signal.resample(y,7396 )  #This squared number need to be decided by the users\n",
    "plt.plot(resampled_signal)\n",
    "plt.show()"
   ]
  },
  {
   "cell_type": "code",
   "execution_count": 20,
   "metadata": {},
   "outputs": [
    {
     "name": "stdout",
     "output_type": "stream",
     "text": [
      "(86, 86)\n",
      "(86, 86)\n",
      "(86,)\n",
      "(86, 86)\n"
     ]
    }
   ],
   "source": [
    "from scipy import linalg\n",
    "reshaped_signal = np.reshape(resampled_signal, (86,86))\n",
    "U, s, Vh = linalg.svd(reshaped_signal)\n",
    "print(reshaped_signal.shape)\n",
    "print(U.shape)\n",
    "print(s.shape)\n",
    "print(Vh.shape)"
   ]
  },
  {
   "cell_type": "markdown",
   "metadata": {},
   "source": [
    "#### Reconstruct the original matrix from the decomposition\n",
    "For future decoding"
   ]
  },
  {
   "cell_type": "code",
   "execution_count": 22,
   "metadata": {},
   "outputs": [],
   "source": [
    "# Kernal need \n",
    "#m = 347\n",
    "#n = 347\n",
    "#sigma = np.zeros((m, n))\n",
    "#for i in range(min(m, n)):\n",
    "#    sigma[i, i] = s[i]\n",
    "#reconstructed_signal = np.dot(U, np.dot(sigma, Vh))\n",
    "#reshaped_recon_signal = np.reshape(reconstructed_signal,120409)\n",
    "#np.allclose(reshaped_recon_signal, normalized_signal)\n",
    "#True means the signal could be reconstructed back to the original one"
   ]
  },
  {
   "cell_type": "markdown",
   "metadata": {},
   "source": [
    "#### Quantization"
   ]
  },
  {
   "cell_type": "code",
   "execution_count": null,
   "metadata": {},
   "outputs": [],
   "source": []
  },
  {
   "cell_type": "code",
   "execution_count": 21,
   "metadata": {},
   "outputs": [
    {
     "name": "stdout",
     "output_type": "stream",
     "text": [
      "[[ 4.000e-04  3.100e-03  4.000e-04 ...  2.364e-01 -6.421e-01  4.550e-02]\n",
      " [ 3.000e-04  2.000e-04  8.000e-04 ... -1.538e-01  2.338e-01 -3.190e-02]\n",
      " [ 5.670e-02 -4.733e-01  2.407e-01 ... -8.000e-03 -4.700e-03 -2.100e-03]\n",
      " ...\n",
      " [ 1.501e-01  1.900e-03 -4.920e-02 ... -9.400e-03  3.630e-02  7.860e-02]\n",
      " [ 1.516e-01  4.720e-02  2.558e-01 ...  1.280e-02 -1.540e-02 -1.720e-02]\n",
      " [ 9.900e-03  4.674e-01 -2.955e-01 ...  1.320e-02  3.240e-02  2.060e-02]]\n"
     ]
    },
    {
     "data": {
      "text/plain": [
       "3385"
      ]
     },
     "execution_count": 21,
     "metadata": {},
     "output_type": "execute_result"
    }
   ],
   "source": [
    "round_U = np.around(U,4) #Keep four decimals\n",
    "print(round_U)\n",
    "unique, counts = np.unique(round_U, return_counts=True)\n",
    "U_dict = dict(zip(unique, counts))\n",
    "unique.size"
   ]
  },
  {
   "cell_type": "code",
   "execution_count": 22,
   "metadata": {},
   "outputs": [],
   "source": [
    "np.savetxt('eda_U_round4.txt',round_U,fmt='%.3f')"
   ]
  },
  {
   "cell_type": "markdown",
   "metadata": {},
   "source": [
    "#### INSTRUCTION ON HOW TO COMPRESS THE DATA BY HUFFMAN CODING\n",
    "\n",
    "\n",
    "(I used the package \"tcmpr 0.2\" and \"pyhuff 1.1\". These two packages provided the same compression result. So here, we just use \"tcmpr 0.2\")\n",
    "\n",
    "1. Open your termial or git bash, enter \"pip install tcmpr\" to install the \"tcmpr 0.2\" package\n",
    "2. Enter the directory which include the file you want to compress OR copy the path of the file you want to compress\n",
    "3. Enter \"tcmpr <filename>.txt\" / \"tcmpr <filepath>\" to compress the file\n",
    "4. Find the compressed file in the same directory of the original file"
   ]
  },
  {
   "cell_type": "markdown",
   "metadata": {},
   "source": [
    "\n",
    "\n",
    "1. The file size(round 4) before Huffman coding is 48KB. The file size(round 4) after Huffman coding is 19kB\n",
    "\n"
   ]
  },
  {
   "cell_type": "markdown",
   "metadata": {},
   "source": [
    "Also do this step for \"s\" and \"Vh\""
   ]
  },
  {
   "cell_type": "code",
   "execution_count": 23,
   "metadata": {},
   "outputs": [
    {
     "data": {
      "text/plain": [
       "72"
      ]
     },
     "execution_count": 23,
     "metadata": {},
     "output_type": "execute_result"
    }
   ],
   "source": [
    "round_s = np.around(s,4)\n",
    "unique, counts = np.unique(round_s, return_counts=True)\n",
    "U_dict = dict(zip(unique, counts))\n",
    "unique.size"
   ]
  },
  {
   "cell_type": "code",
   "execution_count": 24,
   "metadata": {},
   "outputs": [],
   "source": [
    "np.savetxt('eda_s_round4.txt',round_s,fmt='%.3f')"
   ]
  },
  {
   "cell_type": "markdown",
   "metadata": {},
   "source": [
    "\"s\" can be shrank from 516bytes to 351bytes"
   ]
  },
  {
   "cell_type": "code",
   "execution_count": 25,
   "metadata": {},
   "outputs": [
    {
     "data": {
      "text/plain": [
       "3463"
      ]
     },
     "execution_count": 25,
     "metadata": {},
     "output_type": "execute_result"
    }
   ],
   "source": [
    "round_Vh = np.around(Vh,4)\n",
    "#print(round_s)\n",
    "unique, counts = np.unique(round_Vh, return_counts=True)\n",
    "U_dict = dict(zip(unique, counts))\n",
    "unique.size"
   ]
  },
  {
   "cell_type": "code",
   "execution_count": 26,
   "metadata": {},
   "outputs": [],
   "source": [
    "np.savetxt('eda_Vh_round4.txt',round_Vh,fmt='%.3f')"
   ]
  },
  {
   "cell_type": "markdown",
   "metadata": {},
   "source": [
    "\"Vh\" can be shrank from 48kB to 20kB"
   ]
  },
  {
   "cell_type": "markdown",
   "metadata": {},
   "source": [
    "In conclusion, the size of the original data in csv is 82kB. In txt file, the size of the original data is 227kB. After compression, the size of the U, s, and Vh is 19kB, 0.5KB, and 20kB. The compression ratio is 5.74.\n",
    "It seems that the compression result is not so ideal as we supposed. Also, the SVD decomposed the data into 3 matrices, but it actually expand the size/length of the data. So I was thinking....."
   ]
  },
  {
   "cell_type": "markdown",
   "metadata": {},
   "source": [
    "#### PRD calculation"
   ]
  },
  {
   "cell_type": "code",
   "execution_count": 27,
   "metadata": {},
   "outputs": [],
   "source": [
    "decoded_data_U = np.loadtxt(fname = \"eda_U_round4.txt\") #Cuz Huffman coding is lossless coding, so it's fine to use this txt file\n",
    "decoded_data_s = np.loadtxt(fname = \"eda_s_round4.txt\")\n",
    "decoded_data_Vh = np.loadtxt(fname = \"eda_Vh_round4.txt\")\n",
    "#decoded_data_U =decoded_data_U[..., np.newaxis]\n",
    "#decoded_data_s =decoded_data_s[..., np.newaxis]\n",
    "#decoded_data_Vh =decoded_data_Vh[..., np.newaxis]"
   ]
  },
  {
   "cell_type": "code",
   "execution_count": 28,
   "metadata": {},
   "outputs": [
    {
     "data": {
      "text/plain": [
       "(86,)"
      ]
     },
     "execution_count": 28,
     "metadata": {},
     "output_type": "execute_result"
    }
   ],
   "source": [
    "s.shape"
   ]
  },
  {
   "cell_type": "code",
   "execution_count": 29,
   "metadata": {},
   "outputs": [],
   "source": [
    "# Kernal need \n",
    "m = 86\n",
    "n = 86\n",
    "sigma = np.zeros((m, n))\n",
    "for i in range(min(m, n)):\n",
    "    sigma[i, i] = decoded_data_s[i]\n",
    "reconstructed_signal = np.dot(decoded_data_U, np.dot(sigma, decoded_data_Vh))\n",
    "deSVD = np.reshape(reconstructed_signal,7396)\n",
    "#np.allclose(reshaped_recon_signal, normalized_signal)\n",
    "#True means the signal could be reconstructed back to the original one"
   ]
  },
  {
   "cell_type": "code",
   "execution_count": 30,
   "metadata": {},
   "outputs": [
    {
     "data": {
      "text/plain": [
       "(7396,)"
      ]
     },
     "execution_count": 30,
     "metadata": {},
     "output_type": "execute_result"
    }
   ],
   "source": [
    "deSVD.shape"
   ]
  },
  {
   "cell_type": "code",
   "execution_count": 34,
   "metadata": {},
   "outputs": [
    {
     "data": {
      "text/plain": [
       "(7396, 1)"
      ]
     },
     "execution_count": 34,
     "metadata": {},
     "output_type": "execute_result"
    }
   ],
   "source": [
    "deSVD = deSVD[..., np.newaxis]\n",
    "resampled_signal.shape"
   ]
  },
  {
   "cell_type": "code",
   "execution_count": 35,
   "metadata": {},
   "outputs": [
    {
     "name": "stdout",
     "output_type": "stream",
     "text": [
      "The PRD is 0.39%\n"
     ]
    }
   ],
   "source": [
    "from sklearn.metrics import mean_squared_error\n",
    "from math import sqrt\n",
    "from scipy import signal\n",
    "# original_signal = normalized_signal\n",
    "# compressed_signal = decoded_data\n",
    "def PRD_calculation(original_signal, compressed_signal):\n",
    "    PRD = sqrt(sum((original_signal-compressed_signal)**2)/(sum(original_signal**2)))\n",
    "    return PRD\n",
    "\n",
    "PRD = PRD_calculation(resampled_signal, deSVD)\n",
    "print(\"The PRD is {}%\".format(round(PRD*100,3)))"
   ]
  },
  {
   "cell_type": "markdown",
   "metadata": {},
   "source": [
    "### What if I don't do SVD? Just compress the signal directly..."
   ]
  },
  {
   "cell_type": "code",
   "execution_count": 38,
   "metadata": {},
   "outputs": [
    {
     "name": "stdout",
     "output_type": "stream",
     "text": [
      "[[-0.]\n",
      " [ 0.]\n",
      " [ 0.]\n",
      " ...\n",
      " [ 0.]\n",
      " [ 0.]\n",
      " [ 0.]]\n"
     ]
    },
    {
     "data": {
      "text/plain": [
       "90"
      ]
     },
     "execution_count": 38,
     "metadata": {},
     "output_type": "execute_result"
    }
   ],
   "source": [
    "round_signal = np.around(resampled_signal,3) #round it with 2 decimals will be good\n",
    "#Cuz keep only 1 decimal will lose a lot of information, and keep 3 decimals will be redundant \n",
    "#and the compression ratio will not be good.\n",
    "print(round_signal)\n",
    "unique, counts = np.unique(round_signal, return_counts=True)\n",
    "U_dict = dict(zip(unique, counts))\n",
    "unique.size"
   ]
  },
  {
   "cell_type": "code",
   "execution_count": 39,
   "metadata": {},
   "outputs": [
    {
     "data": {
      "image/png": "[encoded data removed]",
      "text/plain": [
       "<Figure size 432x288 with 1 Axes>"
      ]
     },
     "metadata": {
      "needs_background": "light"
     },
     "output_type": "display_data"
    }
   ],
   "source": [
    "plt.plot(round_signal)\n",
    "plt.show()"
   ]
  },
  {
   "cell_type": "code",
   "execution_count": 40,
   "metadata": {},
   "outputs": [],
   "source": [
    "np.savetxt('eda_signal_rounded.txt',round_signal,fmt='%.3f')"
   ]
  },
  {
   "cell_type": "code",
   "execution_count": 42,
   "metadata": {},
   "outputs": [],
   "source": [
    "decoded_data = np.loadtxt(fname = \"eda_signal_rounded.txt\")"
   ]
  },
  {
   "cell_type": "code",
   "execution_count": 43,
   "metadata": {},
   "outputs": [
    {
     "data": {
      "text/plain": [
       "array([-0.,  0.,  0., ...,  0.,  0.,  0.])"
      ]
     },
     "execution_count": 43,
     "metadata": {},
     "output_type": "execute_result"
    }
   ],
   "source": [
    "decoded_data"
   ]
  },
  {
   "cell_type": "code",
   "execution_count": 44,
   "metadata": {},
   "outputs": [
    {
     "data": {
      "image/png": "[encoded data removed]",
      "text/plain": [
       "<Figure size 432x288 with 1 Axes>"
      ]
     },
     "metadata": {
      "needs_background": "light"
     },
     "output_type": "display_data"
    }
   ],
   "source": [
    "plt.plot(decoded_data)\n",
    "plt.show()"
   ]
  },
  {
   "cell_type": "code",
   "execution_count": 45,
   "metadata": {},
   "outputs": [
    {
     "data": {
      "text/plain": [
       "(7396,)"
      ]
     },
     "execution_count": 45,
     "metadata": {},
     "output_type": "execute_result"
    }
   ],
   "source": [
    "decoded_data.shape"
   ]
  },
  {
   "cell_type": "markdown",
   "metadata": {},
   "source": [
    "Use Huffman coding to encode this normalized signal sequence.\n",
    "\n",
    "Before Huffman coding, the size of the txt file of this signal sequence is 44kB. After Huffman coding, the size of the txt file of this signal sequence is 16kB.\n",
    "\n",
    "The original size of the raw data is 82kB in csv and 227kb in txt. If we calculate the compression ratio by the same data format. The compression ratio is 12.34\n"
   ]
  },
  {
   "cell_type": "code",
   "execution_count": 46,
   "metadata": {},
   "outputs": [
    {
     "data": {
      "text/plain": [
       "(7396, 1)"
      ]
     },
     "execution_count": 46,
     "metadata": {},
     "output_type": "execute_result"
    }
   ],
   "source": [
    "resampled_signal.shape"
   ]
  },
  {
   "cell_type": "code",
   "execution_count": 37,
   "metadata": {},
   "outputs": [
    {
     "data": {
      "text/plain": [
       "array([[ 1.26359797e+00],\n",
       "       [-2.77797510e-03],\n",
       "       [ 1.58258330e-03],\n",
       "       ...,\n",
       "       [ 4.47325955e+00],\n",
       "       [ 4.03357800e+00],\n",
       "       [ 3.45578605e+00]])"
      ]
     },
     "execution_count": 37,
     "metadata": {},
     "output_type": "execute_result"
    }
   ],
   "source": [
    "resampled_signal"
   ]
  },
  {
   "cell_type": "code",
   "execution_count": 47,
   "metadata": {},
   "outputs": [
    {
     "data": {
      "text/plain": [
       "array([-0.,  0.,  0., ...,  0.,  0.,  0.])"
      ]
     },
     "execution_count": 47,
     "metadata": {},
     "output_type": "execute_result"
    }
   ],
   "source": [
    "decoded_data"
   ]
  },
  {
   "cell_type": "code",
   "execution_count": 48,
   "metadata": {},
   "outputs": [
    {
     "data": {
      "text/plain": [
       "array([[-0.],\n",
       "       [ 0.],\n",
       "       [ 0.],\n",
       "       ...,\n",
       "       [ 0.],\n",
       "       [ 0.],\n",
       "       [ 0.]])"
      ]
     },
     "execution_count": 48,
     "metadata": {},
     "output_type": "execute_result"
    }
   ],
   "source": [
    "decoded_data =decoded_data[..., np.newaxis]\n",
    "decoded_data"
   ]
  },
  {
   "cell_type": "markdown",
   "metadata": {},
   "source": [
    "#### PRD calculation:\n"
   ]
  },
  {
   "cell_type": "code",
   "execution_count": 42,
   "metadata": {},
   "outputs": [],
   "source": [
    "#resampled_signal_ori = signal.resample(ECG_array, 564001)"
   ]
  },
  {
   "cell_type": "code",
   "execution_count": 49,
   "metadata": {},
   "outputs": [
    {
     "name": "stdout",
     "output_type": "stream",
     "text": [
      "The PRD is 0.488%\n"
     ]
    }
   ],
   "source": [
    "from sklearn.metrics import mean_squared_error\n",
    "from math import sqrt\n",
    "from scipy import signal\n",
    "# original_signal = normalized_signal\n",
    "# compressed_signal = decoded_data\n",
    "def PRD_calculation(original_signal, compressed_signal):\n",
    "    PRD = sqrt(sum((original_signal-compressed_signal)**2)/(sum(original_signal**2)))\n",
    "    return PRD\n",
    "\n",
    "PRD = PRD_calculation(resampled_signal, decoded_data)\n",
    "print(\"The PRD is {}%\".format(round(PRD*100,3)))"
   ]
  },
  {
   "cell_type": "markdown",
   "metadata": {},
   "source": [
    "### Instructions\n",
    "\n",
    "Put instructions of how to use your method here.\n",
    "\n",
    "More instruction needs to be well documented"
   ]
  },
  {
   "cell_type": "markdown",
   "metadata": {},
   "source": [
    "Dependencies: \n",
    "\n",
    "All codes based on Python3\n",
    "Numpy, Pandas, tcmpr 0.2 installed on the users' system"
   ]
  },
  {
   "cell_type": "markdown",
   "metadata": {},
   "source": [
    "### Evaluation\n",
    "\n",
    "The results of this method on the following wearable sensors:\n",
    "\n",
    "| Wearable Sensor | Compression Ratio | Percentage RMS difference |\n",
    "| ------ | ------ | ------ | \n",
    "| ECG | 17 | 0.949% |\n",
    "| PPG | XX | XX |\n",
    "| ACC | XX | XX |\n",
    "| EDA | XX | XX |\n",
    "| TEMP | XX | XX |"
   ]
  },
  {
   "cell_type": "code",
   "execution_count": null,
   "metadata": {},
   "outputs": [],
   "source": [
    "import pandas as pd\n",
    "PPG = pd.read_csv('BVP.csv')"
   ]
  },
  {
   "cell_type": "code",
   "execution_count": null,
   "metadata": {},
   "outputs": [],
   "source": [
    "PPG.size"
   ]
  },
  {
   "cell_type": "code",
   "execution_count": null,
   "metadata": {},
   "outputs": [],
   "source": []
  }
 ],
 "metadata": {
  "kernelspec": {
   "display_name": "Python 3",
   "language": "python",
   "name": "python3"
  },
  "language_info": {
   "codemirror_mode": {
    "name": "ipython",
    "version": 3
   },
   "file_extension": ".py",
   "mimetype": "text/x-python",
   "name": "python",
   "nbconvert_exporter": "python",
   "pygments_lexer": "ipython3",
   "version": "3.7.6"
  }
 },
 "nbformat": 4,
 "nbformat_minor": 2
}
