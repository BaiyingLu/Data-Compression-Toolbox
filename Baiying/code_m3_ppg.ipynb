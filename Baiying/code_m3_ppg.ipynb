{
 "cells": [
  {
   "cell_type": "code",
   "execution_count": 1,
   "metadata": {},
   "outputs": [],
   "source": [
    "import mne\n",
    "import pandas as pd\n",
    "ppg = pd.read_csv('BVP.csv')\n",
    "ppg = ppg.iloc[1:]\n",
    "\n",
    "import numpy as np\n",
    "np.savetxt('ppg.txt',ppg)  #Save it as a txt file\n",
    "sampling_freq = 1/64  #This is the sampling frequency\n",
    "N = ppg.size  #The number of point\n",
    "\n",
    "ppg_array = ppg.to_numpy() #save the data into an ndarray\n",
    "ppg_array.size\n",
    "\n",
    "xf = np.linspace(-N*sampling_freq/2, N*sampling_freq/2,  N)\n",
    "\n",
    "ppg_array = ppg_array[0:132000]   # Remove the signal in first 3minutes and last 5minutes\n",
    "index = np.linspace(0, round((N-1)*sampling_freq,4), N)"
   ]
  },
  {
   "cell_type": "code",
   "execution_count": 2,
   "metadata": {},
   "outputs": [
    {
     "data": {
      "text/plain": [
       "[-0.0,\n",
       " -0.0,\n",
       " -0.0,\n",
       " -0.0,\n",
       " -0.0,\n",
       " -0.0,\n",
       " -0.0,\n",
       " -0.0,\n",
       " -0.0,\n",
       " -0.0,\n",
       " 0.0,\n",
       " 0.01,\n",
       " 0.01,\n",
       " -0.0,\n",
       " -0.03,\n",
       " -0.05,\n",
       " -0.05,\n",
       " 0.0,\n",
       " 0.13,\n",
       " 0.36,\n",
       " 0.66,\n",
       " 1.01,\n",
       " 1.37,\n",
       " 1.72,\n",
       " 2.06,\n",
       " 2.4,\n",
       " 2.79,\n",
       " 3.24,\n",
       " 3.8,\n",
       " 4.44,\n",
       " 5.1,\n",
       " 5.73,\n",
       " 6.33,\n",
       " 6.89,\n",
       " 7.48,\n",
       " 8.19,\n",
       " 9.08,\n",
       " 10.23,\n",
       " 11.57,\n",
       " 12.95,\n",
       " 14.24,\n",
       " 15.37,\n",
       " 16.38,\n",
       " 17.45,\n",
       " 18.81,\n",
       " 20.63,\n",
       " 23.13,\n",
       " 26.12,\n",
       " 29.32,\n",
       " 32.44,\n",
       " 35.31,\n",
       " 38.01,\n",
       " 40.88,\n",
       " 44.37,\n",
       " 48.82,\n",
       " 54.61,\n",
       " 61.38,\n",
       " 68.61,\n",
       " 75.71,\n",
       " 82.32,\n",
       " 88.53,\n",
       " 94.88,\n",
       " 102.12,\n",
       " 110.83,\n",
       " 121.6,\n",
       " 133.89,\n",
       " 146.85,\n",
       " 159.53,\n",
       " 171.31,\n",
       " 182.23,\n",
       " 193.01,\n",
       " 205.12,\n",
       " 217.4,\n",
       " 232.18,\n",
       " 250.03,\n",
       " 270.93,\n",
       " 293.5,\n",
       " 314.7,\n",
       " 330.18,\n",
       " 335.4,\n",
       " 327.17,\n",
       " 304.8,\n",
       " 270.78,\n",
       " 228.95,\n",
       " 183.49,\n",
       " 137.43,\n",
       " 92.12,\n",
       " 47.71,\n",
       " 4.01,\n",
       " -38.75,\n",
       " -79.81,\n",
       " -117.99,\n",
       " -152.91,\n",
       " -184.68,\n",
       " -214.01,\n",
       " -241.98,\n",
       " -269.83,\n",
       " -298.66,\n",
       " -328.75,\n",
       " -359.16,\n",
       " -387.3,\n",
       " -409.68,\n",
       " -423.02,\n",
       " -425.54,\n",
       " -417.52,\n",
       " -400.86,\n",
       " -378.04,\n",
       " -351.08,\n",
       " -321.27,\n",
       " -289.59,\n",
       " -257.58,\n",
       " -227.51,\n",
       " -201.74,\n",
       " -181.51,\n",
       " -166.15,\n",
       " -153.13,\n",
       " -139.43,\n",
       " -123.17,\n",
       " -104.6,\n",
       " -86.04,\n",
       " -70.29,\n",
       " -59.1,\n",
       " -51.97,\n",
       " -46.57,\n",
       " -40.12,\n",
       " -31.09,\n",
       " -20.13,\n",
       " -9.49,\n",
       " -1.62,\n",
       " 2.56,\n",
       " 4.27,\n",
       " 6.07,\n",
       " 10.21,\n",
       " 17.0,\n",
       " 24.64,\n",
       " 30.28,\n",
       " 31.87,\n",
       " 29.52,\n",
       " 25.49,\n",
       " 22.82,\n",
       " 23.55,\n",
       " 27.49,\n",
       " 32.39,\n",
       " 35.29,\n",
       " 34.39,\n",
       " 29.97,\n",
       " 24.31,\n",
       " 20.44,\n",
       " 20.22,\n",
       " 23.56,\n",
       " 28.38,\n",
       " 31.82,\n",
       " 31.87,\n",
       " 28.4,\n",
       " 23.2,\n",
       " 18.91,\n",
       " 17.57,\n",
       " 19.45,\n",
       " 23.01,\n",
       " 25.81,\n",
       " 25.91,\n",
       " 22.97,\n",
       " 18.46,\n",
       " 14.71,\n",
       " 13.63,\n",
       " 15.53,\n",
       " 18.94,\n",
       " 21.38,\n",
       " 20.83,\n",
       " 16.99,\n",
       " 11.44,\n",
       " 6.89,\n",
       " 5.52,\n",
       " 7.81,\n",
       " 12.09,\n",
       " 15.51,\n",
       " 15.79,\n",
       " 12.46,\n",
       " 7.28,\n",
       " 3.24,\n",
       " 2.8,\n",
       " 6.54,\n",
       " 12.7,\n",
       " 18.19,\n",
       " 20.26,\n",
       " 18.13,\n",
       " 13.24,\n",
       " 8.4,\n",
       " 6.17,\n",
       " 7.3,\n",
       " 10.41,\n",
       " 12.83,\n",
       " 12.22,\n",
       " 8.09,\n",
       " 2.06,\n",
       " -2.99,\n",
       " -4.72,\n",
       " -2.71,\n",
       " 1.36,\n",
       " 4.63,\n",
       " 4.88,\n",
       " 1.87,\n",
       " -2.57,\n",
       " -5.57,\n",
       " -5.15,\n",
       " -1.39,\n",
       " 3.55,\n",
       " 6.61,\n",
       " 5.71,\n",
       " 0.95,\n",
       " -5.37,\n",
       " -10.11,\n",
       " -11.05,\n",
       " -8.04,\n",
       " -3.14,\n",
       " 0.64,\n",
       " 1.09,\n",
       " -2.06,\n",
       " -6.93,\n",
       " -10.74,\n",
       " -11.39,\n",
       " -8.75,\n",
       " -4.65,\n",
       " -1.76,\n",
       " -1.96,\n",
       " -5.2,\n",
       " -9.53,\n",
       " -12.38,\n",
       " -12.0,\n",
       " -8.68,\n",
       " -4.44,\n",
       " -1.89,\n",
       " -2.6,\n",
       " -6.1,\n",
       " -10.32,\n",
       " -12.66,\n",
       " -11.61,\n",
       " -7.59,\n",
       " -2.62,\n",
       " 0.82,\n",
       " 1.25,\n",
       " -1.01,\n",
       " -4.1,\n",
       " -5.71,\n",
       " -4.45,\n",
       " -0.64,\n",
       " 3.79,\n",
       " 6.4,\n",
       " 5.68,\n",
       " 1.84,\n",
       " -3.12,\n",
       " -6.55,\n",
       " -6.54,\n",
       " -2.99,\n",
       " 2.27,\n",
       " 6.54,\n",
       " 7.7,\n",
       " 5.37,\n",
       " 1.28,\n",
       " -1.81,\n",
       " -1.65,\n",
       " 2.07,\n",
       " 7.49,\n",
       " 11.67,\n",
       " 12.2,\n",
       " 8.81,\n",
       " 3.42,\n",
       " -0.91,\n",
       " -1.83,\n",
       " 0.92,\n",
       " 5.42,\n",
       " 8.74,\n",
       " 8.8,\n",
       " 5.71,\n",
       " 1.67,\n",
       " -0.32,\n",
       " 1.64,\n",
       " 7.12,\n",
       " 13.5,\n",
       " 17.38,\n",
       " 16.56,\n",
       " 11.4,\n",
       " 4.57,\n",
       " -0.36,\n",
       " -0.93,\n",
       " 2.91,\n",
       " 8.77,\n",
       " 13.31,\n",
       " 14.21,\n",
       " 11.36,\n",
       " 6.88,\n",
       " 3.78,\n",
       " 4.05,\n",
       " 7.56,\n",
       " 12.07,\n",
       " 14.61,\n",
       " 13.24,\n",
       " 8.21,\n",
       " 1.95,\n",
       " -2.4,\n",
       " -2.74,\n",
       " 0.72,\n",
       " 5.68,\n",
       " 9.06,\n",
       " 8.79,\n",
       " 5.13,\n",
       " 0.31,\n",
       " -2.7,\n",
       " -2.11,\n",
       " 1.61,\n",
       " 6.03,\n",
       " 8.12,\n",
       " 6.17,\n",
       " 0.84,\n",
       " -5.15,\n",
       " -8.5,\n",
       " -7.28,\n",
       " -1.99,\n",
       " 4.64,\n",
       " 9.35,\n",
       " 10.11,\n",
       " 7.26,\n",
       " 3.19,\n",
       " 0.91,\n",
       " 2.15,\n",
       " 6.28,\n",
       " 10.84,\n",
       " 12.86,\n",
       " 10.78,\n",
       " 5.24,\n",
       " -1.17,\n",
       " -5.48,\n",
       " -5.97,\n",
       " -3.16,\n",
       " 0.54,\n",
       " 2.44,\n",
       " 1.06,\n",
       " -2.84,\n",
       " -6.76,\n",
       " -8.02,\n",
       " -5.39,\n",
       " 0.01,\n",
       " 5.46,\n",
       " 8.15,\n",
       " 6.97,\n",
       " 3.11,\n",
       " -0.68,\n",
       " -1.82,\n",
       " 0.57,\n",
       " 5.14,\n",
       " 9.12,\n",
       " 10.14,\n",
       " 7.61,\n",
       " 3.06,\n",
       " -0.76,\n",
       " -1.62,\n",
       " 0.97,\n",
       " 5.4,\n",
       " 9.0,\n",
       " 9.5,\n",
       " 6.42,\n",
       " 1.22,\n",
       " -3.43,\n",
       " -5.31,\n",
       " -3.77,\n",
       " -0.11,\n",
       " 3.27,\n",
       " 4.25,\n",
       " 2.17,\n",
       " -1.77,\n",
       " -5.24,\n",
       " -6.16,\n",
       " -3.87,\n",
       " 0.31,\n",
       " 3.86,\n",
       " 4.41,\n",
       " 1.19,\n",
       " -4.35,\n",
       " -9.35,\n",
       " -10.98,\n",
       " -8.21,\n",
       " -2.29,\n",
       " 3.78,\n",
       " 7.01,\n",
       " 6.15,\n",
       " 2.32,\n",
       " -1.7,\n",
       " -3.21,\n",
       " -1.18,\n",
       " 3.12,\n",
       " 6.92,\n",
       " 7.73,\n",
       " 4.84,\n",
       " -0.25,\n",
       " -4.66,\n",
       " -5.86,\n",
       " -3.17,\n",
       " 1.92,\n",
       " 6.53,\n",
       " 8.05,\n",
       " 5.63,\n",
       " 0.68,\n",
       " -4.04,\n",
       " -5.94,\n",
       " -4.17,\n",
       " -0.06,\n",
       " 3.76,\n",
       " 4.9,\n",
       " 2.72,\n",
       " -1.28,\n",
       " -4.45,\n",
       " -4.55,\n",
       " -1.21,\n",
       " 3.9,\n",
       " 7.93,\n",
       " 8.6,\n",
       " 5.54,\n",
       " 0.57,\n",
       " -3.33,\n",
       " -3.87,\n",
       " -0.66,\n",
       " 4.34,\n",
       " 8.1,\n",
       " 8.18,\n",
       " 4.24,\n",
       " -1.66,\n",
       " -6.3,\n",
       " -6.98,\n",
       " -3.29,\n",
       " 2.79,\n",
       " 7.85,\n",
       " 9.08,\n",
       " 5.83,\n",
       " -0.04,\n",
       " -5.25,\n",
       " -7.01,\n",
       " -4.58,\n",
       " 0.37,\n",
       " 4.93,\n",
       " 6.6,\n",
       " 4.85,\n",
       " 1.37,\n",
       " -1.06,\n",
       " -0.29,\n",
       " 3.73,\n",
       " 8.88,\n",
       " 11.93,\n",
       " 10.55,\n",
       " 4.69,\n",
       " -3.26,\n",
       " -9.67,\n",
       " -11.73,\n",
       " -8.89,\n",
       " -3.16,\n",
       " 2.14,\n",
       " 4.22,\n",
       " 2.35,\n",
       " -1.79,\n",
       " -5.29,\n",
       " -5.72,\n",
       " -2.64,\n",
       " 2.12,\n",
       " 5.61,\n",
       " 5.49,\n",
       " 1.5,\n",
       " -4.38,\n",
       " -8.99,\n",
       " -9.91,\n",
       " -6.78,\n",
       " -1.6,\n",
       " 2.65,\n",
       " 3.72,\n",
       " 1.49,\n",
       " -1.91,\n",
       " -3.58,\n",
       " -1.51,\n",
       " 3.86,\n",
       " 10.03,\n",
       " 13.63,\n",
       " 12.46,\n",
       " 6.85,\n",
       " -0.59,\n",
       " -6.19,\n",
       " -7.41,\n",
       " -4.01,\n",
       " 1.79,\n",
       " 6.54,\n",
       " 7.68,\n",
       " 4.75,\n",
       " -0.2,\n",
       " -4.09,\n",
       " -4.57,\n",
       " -1.51,\n",
       " 2.93,\n",
       " 5.69,\n",
       " 4.78,\n",
       " 0.51,\n",
       " -4.64,\n",
       " -7.41,\n",
       " -5.93,\n",
       " -0.76,\n",
       " 5.29,\n",
       " 8.75,\n",
       " 7.55,\n",
       " 2.2,\n",
       " -4.47,\n",
       " -8.98,\n",
       " -9.11,\n",
       " -5.23,\n",
       " 0.03,\n",
       " 3.41,\n",
       " 2.84,\n",
       " -1.25,\n",
       " -6.21,\n",
       " -8.69,\n",
       " -6.66,\n",
       " -0.68,\n",
       " 6.35,\n",
       " 10.68,\n",
       " 9.89,\n",
       " 4.32,\n",
       " -3.03,\n",
       " -8.23,\n",
       " -8.58,\n",
       " -4.25,\n",
       " 1.97,\n",
       " 6.28,\n",
       " 6.2,\n",
       " 1.91,\n",
       " -3.88,\n",
       " -7.65,\n",
       " -7.26,\n",
       " -3.19,\n",
       " 1.86,\n",
       " 4.57,\n",
       " 3.1,\n",
       " -1.88,\n",
       " -7.65,\n",
       " -11.05,\n",
       " -10.3,\n",
       " -5.99,\n",
       " -0.63,\n",
       " 2.83,\n",
       " 2.72,\n",
       " -0.41,\n",
       " -4.08,\n",
       " -5.41,\n",
       " -2.78,\n",
       " 2.96,\n",
       " 9.08,\n",
       " 12.35,\n",
       " 11.08,\n",
       " 6.13,\n",
       " 0.41,\n",
       " -2.82,\n",
       " -2.07,\n",
       " 1.7,\n",
       " 5.52,\n",
       " 6.49,\n",
       " 3.63,\n",
       " -1.59,\n",
       " -5.97,\n",
       " -6.71,\n",
       " -3.13,\n",
       " 2.84,\n",
       " 7.77,\n",
       " 8.81,\n",
       " 5.27,\n",
       " -0.88,\n",
       " -6.19,\n",
       " -7.73,\n",
       " -4.68,\n",
       " 1.21,\n",
       " 6.64,\n",
       " 8.64,\n",
       " 6.26,\n",
       " 1.13,\n",
       " -3.57,\n",
       " -4.85,\n",
       " -1.74,\n",
       " 4.11,\n",
       " 9.48,\n",
       " 11.2,\n",
       " 8.22,\n",
       " 2.05,\n",
       " -3.99,\n",
       " -6.74,\n",
       " -5.14,\n",
       " -0.67,\n",
       " 3.42,\n",
       " 4.32,\n",
       " 1.31,\n",
       " -3.79,\n",
       " -7.63,\n",
       " -7.52,\n",
       " -2.97,\n",
       " 3.81,\n",
       " 9.17,\n",
       " 10.14,\n",
       " 6.1,\n",
       " -0.74,\n",
       " -6.64,\n",
       " -8.4,\n",
       " -5.2,\n",
       " 1.05,\n",
       " 6.78,\n",
       " 8.76,\n",
       " 5.98,\n",
       " 0.12,\n",
       " -5.41,\n",
       " -7.51,\n",
       " -5.16,\n",
       " 0.05,\n",
       " 4.85,\n",
       " 6.31,\n",
       " 3.64,\n",
       " -1.45,\n",
       " -5.63,\n",
       " -6.09,\n",
       " -2.18,\n",
       " 4.09,\n",
       " 9.15,\n",
       " 10.0,\n",
       " 5.95,\n",
       " -0.8,\n",
       " -6.52,\n",
       " -8.06,\n",
       " -4.69,\n",
       " 1.47,\n",
       " 6.75,\n",
       " 8.14,\n",
       " 4.92,\n",
       " -0.83,\n",
       " -5.64,\n",
       " -6.62,\n",
       " -3.27,\n",
       " 2.4,\n",
       " 6.92,\n",
       " 7.45,\n",
       " 3.42,\n",
       " -3.15,\n",
       " -8.78,\n",
       " -10.53,\n",
       " -7.68,\n",
       " -2.09,\n",
       " 2.83,\n",
       " 4.27,\n",
       " 1.63,\n",
       " -3.04,\n",
       " -6.23,\n",
       " -5.29,\n",
       " 0.01,\n",
       " 7.04,\n",
       " 11.88,\n",
       " 11.69,\n",
       " 6.32,\n",
       " -1.43,\n",
       " -7.56,\n",
       " -9.09,\n",
       " -5.66,\n",
       " 0.26,\n",
       " 5.04,\n",
       " 5.93,\n",
       " 2.53,\n",
       " -3.0,\n",
       " -7.38,\n",
       " -8.1,\n",
       " -4.8,\n",
       " 0.5,\n",
       " 4.61,\n",
       " 5.01,\n",
       " 1.37,\n",
       " -4.27,\n",
       " -8.63,\n",
       " -9.04,\n",
       " -5.1,\n",
       " 1.06,\n",
       " 5.95,\n",
       " 6.75,\n",
       " 3.04,\n",
       " -2.88,\n",
       " -7.29,\n",
       " -7.26,\n",
       " -2.37,\n",
       " 4.93,\n",
       " 10.73,\n",
       " 11.95,\n",
       " 8.08,\n",
       " 1.42,\n",
       " -4.25,\n",
       " -5.94,\n",
       " -3.09,\n",
       " 2.12,\n",
       " 6.19,\n",
       " 6.45,\n",
       " 2.57,\n",
       " -3.16,\n",
       " -7.36,\n",
       " -7.54,\n",
       " -3.6,\n",
       " 2.01,\n",
       " 5.87,\n",
       " 5.51,\n",
       " 1.05,\n",
       " -4.97,\n",
       " -9.08,\n",
       " -8.88,\n",
       " -4.55,\n",
       " 1.25,\n",
       " 4.99,\n",
       " 4.3,\n",
       " -0.54,\n",
       " -6.84,\n",
       " -10.98,\n",
       " -10.49,\n",
       " -5.43,\n",
       " 1.66,\n",
       " 7.1,\n",
       " 8.24,\n",
       " 4.88,\n",
       " -0.65,\n",
       " -4.79,\n",
       " -4.94,\n",
       " -0.88,\n",
       " 5.0,\n",
       " 9.11,\n",
       " 8.86,\n",
       " 4.13,\n",
       " -2.47,\n",
       " -7.29,\n",
       " -7.72,\n",
       " -3.85,\n",
       " 1.69,\n",
       " 5.42,\n",
       " 5.21,\n",
       " 1.62,\n",
       " -2.38,\n",
       " -3.5,\n",
       " -0.03,\n",
       " 6.8,\n",
       " 13.48,\n",
       " 16.26,\n",
       " 13.22,\n",
       " 5.57,\n",
       " -3.16,\n",
       " -8.92,\n",
       " -9.48,\n",
       " -5.54,\n",
       " -0.22,\n",
       " 2.83,\n",
       " 1.64,\n",
       " -3.02,\n",
       " -8.19,\n",
       " -10.43,\n",
       " -8.11,\n",
       " -2.31,\n",
       " 3.76,\n",
       " 6.69,\n",
       " 4.97,\n",
       " -0.23,\n",
       " -5.63,\n",
       " -8.04,\n",
       " -6.09,\n",
       " -1.06,\n",
       " 3.97,\n",
       " 6.05,\n",
       " 4.07,\n",
       " -0.65,\n",
       " -5.1,\n",
       " -6.47,\n",
       " -3.74,\n",
       " 1.68,\n",
       " 6.82,\n",
       " 8.86,\n",
       " 6.79,\n",
       " 2.01,\n",
       " -2.52,\n",
       " -3.97,\n",
       " -1.4,\n",
       " 3.78,\n",
       " 8.5,\n",
       " 9.89,\n",
       " 6.9,\n",
       " 0.84,\n",
       " -5.38,\n",
       " -8.94,\n",
       " -8.7,\n",
       " -5.69,\n",
       " -2.48,\n",
       " -1.4,\n",
       " -3.25,\n",
       " -6.79,\n",
       " -9.44,\n",
       " -8.94,\n",
       " -4.68,\n",
       " 1.71,\n",
       " 7.17,\n",
       " 8.86,\n",
       " 5.81,\n",
       " -0.45,\n",
       " -6.58,\n",
       " -9.27,\n",
       " -7.09,\n",
       " -1.38,\n",
       " 4.63,\n",
       " 7.63,\n",
       " 6.25,\n",
       " 1.77,\n",
       " -2.69,\n",
       " -4.07,\n",
       " -1.36,\n",
       " 3.94,\n",
       " 8.61,\n",
       " 9.79,\n",
       " 6.77,\n",
       " 1.39,\n",
       " -2.95,\n",
       " -3.52,\n",
       " 0.27,\n",
       " 6.32,\n",
       " 11.02,\n",
       " 11.36,\n",
       " 6.71,\n",
       " -0.81,\n",
       " -7.45,\n",
       " -9.95,\n",
       " -7.34,\n",
       " -1.45,\n",
       " 4.18,\n",
       " 6.36,\n",
       " 4.11,\n",
       " -0.86,\n",
       " -5.17,\n",
       " -6.01,\n",
       " -2.7,\n",
       " 2.74,\n",
       " 6.98,\n",
       " 7.3,\n",
       " 3.34,\n",
       " -2.6,\n",
       " -7.06,\n",
       " -7.34,\n",
       " -3.3,\n",
       " 2.67,\n",
       " 6.91,\n",
       " 6.67,\n",
       " 1.8,\n",
       " -5.24,\n",
       " -10.68,\n",
       " -11.72,\n",
       " -8.03,\n",
       " -1.92,\n",
       " 2.97,\n",
       " 3.92,\n",
       " 0.53,\n",
       " -4.89,\n",
       " -8.83,\n",
       " -8.53,\n",
       " -3.72,\n",
       " 3.24,\n",
       " 8.67,\n",
       " 9.57,\n",
       " 5.42,\n",
       " -1.66,\n",
       " -8.12,\n",
       " -10.97,\n",
       " -9.4,\n",
       " -5.05,\n",
       " -1.01,\n",
       " 0.07,\n",
       " -2.57,\n",
       " -7.46,\n",
       " -11.94,\n",
       " -13.72,\n",
       " -12.26,\n",
       " -8.98,\n",
       " -6.28,\n",
       " -6.13,\n",
       " -8.78,\n",
       " -12.83,\n",
       " -16.16,\n",
       " -17.44,\n",
       " -17.05,\n",
       " -16.85,\n",
       " -18.94,\n",
       " -24.1,\n",
       " -31.02,\n",
       " -36.83,\n",
       " -38.68,\n",
       " -35.66,\n",
       " -29.65,\n",
       " -24.6,\n",
       " -24.21,\n",
       " -29.69,\n",
       " -38.29,\n",
       " -44.27,\n",
       " -41.54,\n",
       " -26.81,\n",
       " -1.88,\n",
       " 26.87,\n",
       " 51.03,\n",
       " 64.1,\n",
       " 64.39,\n",
       " 55.71,\n",
       " 45.05,\n",
       " 38.94,\n",
       " 40.5,\n",
       " 48.2,\n",
       " 57.24,\n",
       " 62.28,\n",
       " 59.98,\n",
       " 50.58,\n",
       " 37.06,\n",
       " 23.41,\n",
       " 12.74,\n",
       " 6.59,\n",
       " 4.55,\n",
       " 5.3,\n",
       " 6.58,\n",
       " 5.75,\n",
       " 0.61,\n",
       " -9.61,\n",
       " -23.55,\n",
       " -37.69,\n",
       " -47.58,\n",
       " -50.13,\n",
       " -45.84,\n",
       " -39.61,\n",
       " -39.12,\n",
       " -51.03,\n",
       " -77.0,\n",
       " -111.64,\n",
       " -143.51,\n",
       " -159.26,\n",
       " -149.18,\n",
       " -111.16,\n",
       " -52.38,\n",
       " 12.74,\n",
       " 67.34,\n",
       " 97.55,\n",
       " 97.29,\n",
       " 70.4,\n",
       " 29.65,\n",
       " -7.48,\n",
       " -25.41,\n",
       " -16.12,\n",
       " 17.49,\n",
       " 62.88,\n",
       " 102.87,\n",
       " 122.52,\n",
       " 114.73,\n",
       " 81.65,\n",
       " 32.4,\n",
       " -21.45,\n",
       " -69.6,\n",
       " -104.93,\n",
       " -123.3,\n",
       " -122.94,\n",
       " -104.2,\n",
       " -70.26,\n",
       " -27.35,\n",
       " 16.24,\n",
       " 52.69,\n",
       " 76.73,\n",
       " 86.66,\n",
       " 83.47,\n",
       " 69.2,\n",
       " 46.45,\n",
       " 18.56,\n",
       " -9.66,\n",
       " -32.23,\n",
       " -44.21,\n",
       " -43.54,\n",
       " -32.1,\n",
       " -14.03,\n",
       " 7.27,\n",
       " 30.48,\n",
       " 55.56,\n",
       " 80.48,\n",
       " 99.09,\n",
       " 102.33,\n",
       " 82.72,\n",
       " 40.57,\n",
       " -13.51,\n",
       " -61.51,\n",
       " -85.76,\n",
       " -77.35,\n",
       " -40.38,\n",
       " 10.1,\n",
       " 54.97,\n",
       " 79.41,\n",
       " 78.18,\n",
       " 56.04,\n",
       " 24.39,\n",
       " -4.02,\n",
       " -19.53,\n",
       " -18.3,\n",
       " -2.45,\n",
       " 21.03,\n",
       " 42.41,\n",
       " ...]"
      ]
     },
     "execution_count": 2,
     "metadata": {},
     "output_type": "execute_result"
    }
   ],
   "source": [
    "ppg_array_new = []\n",
    "for i in ppg_array:\n",
    "    ppg_array_new.append(list(i)[0])\n",
    "ppg_array_new"
   ]
  },
  {
   "cell_type": "code",
   "execution_count": 3,
   "metadata": {},
   "outputs": [],
   "source": [
    "from scipy.fft import fft,fftshift\n",
    "import matplotlib.pyplot as plt\n",
    "from scipy.signal import butter, lfilter\n",
    "\n",
    "\n",
    "def butter_bandpass(lowcut, highcut, fs, order=5):\n",
    "    nyq = 0.5 * fs\n",
    "    low = lowcut / nyq\n",
    "    high = highcut / nyq\n",
    "    b, a = butter(order, [low, high], btype='band')\n",
    "    return b, a\n",
    "\n",
    "\n",
    "def butter_bandpass_filter(data, lowcut, highcut, fs, order=5):\n",
    "    b, a = butter_bandpass(lowcut, highcut, fs, order=order)\n",
    "    y = lfilter(b, a, data)\n",
    "    return y"
   ]
  },
  {
   "cell_type": "code",
   "execution_count": 4,
   "metadata": {},
   "outputs": [
    {
     "data": {
      "text/plain": [
       "<matplotlib.legend.Legend at 0x1a2643d690>"
      ]
     },
     "execution_count": 4,
     "metadata": {},
     "output_type": "execute_result"
    },
    {
     "data": {
      "image/png": "[encoded data removed]",
      "text/plain": [
       "<Figure size 432x288 with 1 Axes>"
      ]
     },
     "metadata": {
      "needs_background": "light"
     },
     "output_type": "display_data"
    }
   ],
   "source": [
    "from scipy.signal import freqz\n",
    "from scipy import signal\n",
    "# Sample rate and desired cutoff frequencies (in Hz).\n",
    "fs = 1000.0\n",
    "lowcut = 0.5\n",
    "highcut = 50.0\n",
    "\n",
    "# Plot the frequency response for a few different orders.\n",
    "plt.figure(1)\n",
    "plt.clf()\n",
    "for order in [1, 2, 3, 4]:\n",
    "    b, a = butter_bandpass(lowcut, highcut, fs, order=order)\n",
    "    w, h = freqz(b, a, worN=2000)\n",
    "    plt.plot((fs * 0.5 / np.pi) * w, abs(h), label=\"order = %d\" % order)\n",
    "\n",
    "plt.plot([0, 0.5 * fs], [np.sqrt(0.5), np.sqrt(0.5)],\n",
    "         '--', label='sqrt(0.5)')\n",
    "plt.xlabel('Frequency (Hz)')\n",
    "plt.ylabel('Gain')\n",
    "plt.grid(True)\n",
    "plt.legend(loc='best')"
   ]
  },
  {
   "cell_type": "code",
   "execution_count": 5,
   "metadata": {},
   "outputs": [
    {
     "data": {
      "image/png": "[encoded data removed]",
      "text/plain": [
       "<Figure size 432x288 with 1 Axes>"
      ]
     },
     "metadata": {
      "needs_background": "light"
     },
     "output_type": "display_data"
    }
   ],
   "source": [
    "from scipy import signal\n",
    "y = butter_bandpass_filter(ppg_array_new, lowcut, highcut, fs, order=2)\n",
    "resampled_signal = y #This squared number need to be decided by the users\n",
    "plt.plot(resampled_signal[20000:21000])\n",
    "plt.show()\n",
    "\n",
    "np.savetxt('processed_ppg.txt',resampled_signal)\n"
   ]
  },
  {
   "cell_type": "code",
   "execution_count": 6,
   "metadata": {
    "scrolled": false
   },
   "outputs": [
    {
     "data": {
      "image/png": "[encoded data removed]",
      "text/plain": [
       "<Figure size 432x288 with 1 Axes>"
      ]
     },
     "metadata": {
      "needs_background": "light"
     },
     "output_type": "display_data"
    }
   ],
   "source": [
    "rounded_signal = np.around(resampled_signal, 2)\n",
    "#rounded_signal = resampled_signal\n",
    "plt.plot(rounded_signal[20000:21000])\n",
    "plt.show()"
   ]
  },
  {
   "cell_type": "code",
   "execution_count": 7,
   "metadata": {},
   "outputs": [
    {
     "data": {
      "text/plain": [
       "[<matplotlib.lines.Line2D at 0x1a26921410>]"
      ]
     },
     "execution_count": 7,
     "metadata": {},
     "output_type": "execute_result"
    },
    {
     "data": {
      "image/png": "[encoded data removed]",
      "text/plain": [
       "<Figure size 432x288 with 1 Axes>"
      ]
     },
     "metadata": {
      "needs_background": "light"
     },
     "output_type": "display_data"
    }
   ],
   "source": [
    "plt.plot(rounded_signal)"
   ]
  },
  {
   "cell_type": "code",
   "execution_count": 8,
   "metadata": {},
   "outputs": [
    {
     "data": {
      "text/plain": [
       "132000"
      ]
     },
     "execution_count": 8,
     "metadata": {},
     "output_type": "execute_result"
    }
   ],
   "source": [
    "from scipy.fftpack import fft, dct\n",
    "aN = dct(rounded_signal, type = 2, norm = 'ortho')\n",
    "aN.size"
   ]
  },
  {
   "cell_type": "code",
   "execution_count": 9,
   "metadata": {},
   "outputs": [
    {
     "data": {
      "text/plain": [
       "[<matplotlib.lines.Line2D at 0x1a26aee3d0>]"
      ]
     },
     "execution_count": 9,
     "metadata": {},
     "output_type": "execute_result"
    },
    {
     "data": {
      "image/png": "[encoded data removed]",
      "text/plain": [
       "<Figure size 432x288 with 1 Axes>"
      ]
     },
     "metadata": {
      "needs_background": "light"
     },
     "output_type": "display_data"
    }
   ],
   "source": [
    "plt.plot(aN)"
   ]
  },
  {
   "cell_type": "code",
   "execution_count": 10,
   "metadata": {},
   "outputs": [],
   "source": [
    "def return_N(target):\n",
    "    if target > 1:\n",
    "        for i in range(1, int(target)):\n",
    "            if (2 ** i >= target):\n",
    "                return i-1\n",
    "    else:\n",
    "        return 1\n"
   ]
  },
  {
   "cell_type": "code",
   "execution_count": 11,
   "metadata": {},
   "outputs": [],
   "source": [
    "from itertools import islice \n",
    "split_list = [1]\n",
    "for i in range(0,return_N(aN.size)):\n",
    "    split_list.append(2 ** i)\n",
    "temp = iter(aN) \n",
    "res = [list(islice(temp, 0, ele)) for ele in split_list] "
   ]
  },
  {
   "cell_type": "code",
   "execution_count": 12,
   "metadata": {},
   "outputs": [
    {
     "data": {
      "text/plain": [
       "18"
      ]
     },
     "execution_count": 12,
     "metadata": {},
     "output_type": "execute_result"
    }
   ],
   "source": [
    "from scipy.fftpack import fft, dct, idct\n",
    "len(res)"
   ]
  },
  {
   "cell_type": "code",
   "execution_count": 13,
   "metadata": {},
   "outputs": [
    {
     "name": "stdout",
     "output_type": "stream",
     "text": [
      "1\n",
      "2\n",
      "4\n",
      "8\n",
      "16\n",
      "32\n",
      "64\n",
      "128\n",
      "256\n",
      "512\n",
      "1024\n",
      "2048\n",
      "4096\n",
      "8192\n",
      "16384\n",
      "32768\n"
     ]
    }
   ],
   "source": [
    "for k in range(2,len(res)):\n",
    "    print(int(len(res[k])/2))"
   ]
  },
  {
   "cell_type": "code",
   "execution_count": 14,
   "metadata": {},
   "outputs": [],
   "source": [
    "from scipy.fftpack import fft, dct, idct\n",
    "cN_idct = [list(idct(res[0], type = 2, norm = 'ortho' )), list(idct(res[1], type = 2, norm = 'ortho' ))]\n",
    "for k in range(2,len(res)):\n",
    "    cN_idct.append(list(idct(res[k], type = 2, norm = 'ortho' )))"
   ]
  },
  {
   "cell_type": "code",
   "execution_count": 15,
   "metadata": {},
   "outputs": [
    {
     "data": {
      "text/plain": [
       "131072"
      ]
     },
     "execution_count": 15,
     "metadata": {},
     "output_type": "execute_result"
    }
   ],
   "source": [
    "all_numbers = []\n",
    "for i in cN_idct:\n",
    "    for j in i:\n",
    "        all_numbers.append(j)\n",
    "len(all_numbers)"
   ]
  },
  {
   "cell_type": "code",
   "execution_count": 16,
   "metadata": {},
   "outputs": [
    {
     "data": {
      "image/png": "[encoded data removed]",
      "text/plain": [
       "<Figure size 432x288 with 1 Axes>"
      ]
     },
     "metadata": {
      "needs_background": "light"
     },
     "output_type": "display_data"
    }
   ],
   "source": [
    "plt.plot(all_numbers)\n",
    "plt.show()"
   ]
  },
  {
   "cell_type": "code",
   "execution_count": 17,
   "metadata": {},
   "outputs": [],
   "source": [
    "all_numbers = np.asarray(all_numbers)"
   ]
  },
  {
   "cell_type": "code",
   "execution_count": 18,
   "metadata": {},
   "outputs": [],
   "source": [
    "#EPE = E_Th/E *100%\n",
    "# Dead-zone quantization"
   ]
  },
  {
   "cell_type": "code",
   "execution_count": 19,
   "metadata": {},
   "outputs": [],
   "source": [
    "new_cN_idct = all_numbers"
   ]
  },
  {
   "cell_type": "code",
   "execution_count": 20,
   "metadata": {},
   "outputs": [
    {
     "data": {
      "image/png": "[encoded data removed]",
      "text/plain": [
       "<Figure size 432x288 with 1 Axes>"
      ]
     },
     "metadata": {
      "needs_background": "light"
     },
     "output_type": "display_data"
    }
   ],
   "source": [
    "plt.plot(new_cN_idct)\n",
    "plt.show()"
   ]
  },
  {
   "cell_type": "code",
   "execution_count": 21,
   "metadata": {},
   "outputs": [
    {
     "data": {
      "text/plain": [
       "array([ 0.01334919, -0.02281153, -0.00059265, ...,  0.00781131,\n",
       "        0.02042644,  0.08001911])"
      ]
     },
     "execution_count": 21,
     "metadata": {},
     "output_type": "execute_result"
    }
   ],
   "source": [
    "new_cN_idct"
   ]
  },
  {
   "cell_type": "code",
   "execution_count": 75,
   "metadata": {},
   "outputs": [],
   "source": [
    "int_cN = np.round(new_cN_idct,3)"
   ]
  },
  {
   "cell_type": "code",
   "execution_count": 76,
   "metadata": {},
   "outputs": [
    {
     "data": {
      "image/png": "[encoded data removed]",
      "text/plain": [
       "<Figure size 432x288 with 1 Axes>"
      ]
     },
     "metadata": {
      "needs_background": "light"
     },
     "output_type": "display_data"
    }
   ],
   "source": [
    "plt.plot(int_cN)\n",
    "plt.show()"
   ]
  },
  {
   "cell_type": "code",
   "execution_count": 77,
   "metadata": {},
   "outputs": [],
   "source": [
    "def RLE(input_data):\n",
    "    RLE_VALUE = []\n",
    "    RLE_FREQ = []\n",
    "    count = 0\n",
    "    for i in range(0,len(input_data)):\n",
    "        if i == len(input_data)-1:\n",
    "            if input_data[i] != input_data[i-1]:\n",
    "                RLE_VALUE.append(input_data[i])\n",
    "                RLE_FREQ.append(1)\n",
    "                return RLE_VALUE, RLE_FREQ\n",
    "            else:\n",
    "                return RLE_VALUE, RLE_FREQ\n",
    "        else:\n",
    "            if input_data[i] == input_data[i+1]:\n",
    "                RLE_VALUE.append(input_data[i])\n",
    "                count += 1\n",
    "            else:\n",
    "                RLE_VALUE.append(input_data[i])\n",
    "                count += 1\n",
    "                RLE_FREQ.append(count)\n",
    "                count = 0\n"
   ]
  },
  {
   "cell_type": "code",
   "execution_count": 78,
   "metadata": {},
   "outputs": [
    {
     "name": "stdout",
     "output_type": "stream",
     "text": [
      "[0.0, 0.0, 0.0, 1.0, 0.0, 1.0, 1.0, 2.0]\n",
      "[3, 1, 1, 2, 1]\n"
     ]
    }
   ],
   "source": [
    "test_list = [0.0, 0.0, 0.0, 1.0, 0.0, 1.0, 1.0, 2.0]\n",
    "value, freq = RLE(test_list)\n",
    "print(value)\n",
    "print(freq)"
   ]
  },
  {
   "cell_type": "code",
   "execution_count": 79,
   "metadata": {},
   "outputs": [],
   "source": [
    "value, freq = RLE(int_cN)\n"
   ]
  },
  {
   "cell_type": "code",
   "execution_count": 80,
   "metadata": {},
   "outputs": [],
   "source": [
    "np.savetxt('ppg_value_rle.txt',value, fmt='%.3f')\n",
    "np.savetxt('ppg_freq_rle.txt',freq, fmt='%.3f')"
   ]
  },
  {
   "cell_type": "code",
   "execution_count": 81,
   "metadata": {},
   "outputs": [],
   "source": [
    "np.savetxt('int_cN.txt',int_cN, fmt='%.3f')"
   ]
  },
  {
   "cell_type": "markdown",
   "metadata": {},
   "source": [
    "### Evaluation \n",
    "\n",
    "#### DCT and with RLE coding\n",
    "\n",
    "The results of this method on the following wearable sensors:\n",
    "\n",
    "| Wearable Sensor | Compression Ratio | Percentage RMS difference |\n",
    "| ------ | ------ | ------ | \n",
    "| ECG | 3.11 | 8.974% |\n",
    "| PPG | 1.08 | almost 0 |\n",
    "| ACC |  | % |\n",
    "| EDA |  | % |\n",
    "| TEMP |  | % |"
   ]
  },
  {
   "cell_type": "markdown",
   "metadata": {},
   "source": [
    "#### DCT and with Huffman coding\n",
    "\n",
    "The results of this method on the following wearable sensors:\n",
    "\n",
    "| Wearable Sensor | Compression Ratio | Percentage RMS difference |\n",
    "| ------ | ------ | ------ | \n",
    "| ECG | 33.32 | 8.974% |\n",
    "| PPG | 9.00 | almost 0 |\n",
    "| ACC |  | % |\n",
    "| EDA |  | % |\n",
    "| TEMP |  | % |"
   ]
  },
  {
   "cell_type": "code",
   "execution_count": 82,
   "metadata": {},
   "outputs": [
    {
     "data": {
      "text/plain": [
       "array([ 0.013, -0.023, -0.001, ...,  0.008,  0.02 ,  0.08 ])"
      ]
     },
     "execution_count": 82,
     "metadata": {},
     "output_type": "execute_result"
    }
   ],
   "source": [
    "int_cN"
   ]
  },
  {
   "cell_type": "code",
   "execution_count": 83,
   "metadata": {},
   "outputs": [
    {
     "data": {
      "text/plain": [
       "131072"
      ]
     },
     "execution_count": 83,
     "metadata": {},
     "output_type": "execute_result"
    }
   ],
   "source": [
    "recover_signal = int_cN \n",
    "recover_signal = list(recover_signal)\n",
    "len(recover_signal)"
   ]
  },
  {
   "cell_type": "code",
   "execution_count": 84,
   "metadata": {},
   "outputs": [],
   "source": [
    "split_list = [1]\n",
    "for i in range(0,return_N(len(recover_signal))+1):\n",
    "    split_list.append(2 ** i)\n",
    "temp_recovered = iter(recover_signal) \n",
    "res_recovered = [list(islice(temp_recovered, 0, ele)) for ele in split_list] "
   ]
  },
  {
   "cell_type": "code",
   "execution_count": 85,
   "metadata": {},
   "outputs": [
    {
     "data": {
      "text/plain": [
       "18"
      ]
     },
     "execution_count": 85,
     "metadata": {},
     "output_type": "execute_result"
    }
   ],
   "source": [
    "len(res)"
   ]
  },
  {
   "cell_type": "code",
   "execution_count": 86,
   "metadata": {},
   "outputs": [],
   "source": [
    "recover_dct = [list(dct(res_recovered[0], type = 2, norm = 'ortho' )), list(dct(res_recovered[1], type = 2, norm = 'ortho' ))]\n",
    "for k in range(2,len(res_recovered)):\n",
    "    recover_dct.append(list(dct(res_recovered[k], type = 2, norm = 'ortho' )))"
   ]
  },
  {
   "cell_type": "code",
   "execution_count": 87,
   "metadata": {},
   "outputs": [
    {
     "data": {
      "text/plain": [
       "131072"
      ]
     },
     "execution_count": 87,
     "metadata": {},
     "output_type": "execute_result"
    }
   ],
   "source": [
    "all_recover = []\n",
    "for i in recover_dct:\n",
    "    for j in i:\n",
    "        all_recover.append(j)\n",
    "len(all_recover)"
   ]
  },
  {
   "cell_type": "code",
   "execution_count": 88,
   "metadata": {},
   "outputs": [
    {
     "data": {
      "text/plain": [
       "[<matplotlib.lines.Line2D at 0x1a2d682510>]"
      ]
     },
     "execution_count": 88,
     "metadata": {},
     "output_type": "execute_result"
    },
    {
     "data": {
      "image/png": "[encoded data removed]",
      "text/plain": [
       "<Figure size 432x288 with 1 Axes>"
      ]
     },
     "metadata": {
      "needs_background": "light"
     },
     "output_type": "display_data"
    }
   ],
   "source": [
    "plt.plot(all_recover)"
   ]
  },
  {
   "cell_type": "code",
   "execution_count": 89,
   "metadata": {},
   "outputs": [],
   "source": [
    "aN_recover = idct(all_recover, type = 2, norm = 'ortho')"
   ]
  },
  {
   "cell_type": "code",
   "execution_count": 90,
   "metadata": {},
   "outputs": [
    {
     "data": {
      "image/png": "[encoded data removed]",
      "text/plain": [
       "<Figure size 432x288 with 1 Axes>"
      ]
     },
     "metadata": {
      "needs_background": "light"
     },
     "output_type": "display_data"
    }
   ],
   "source": [
    "plt.plot(resampled_signal[:len(aN_recover)][10000:10500])\n",
    "plt.show()"
   ]
  },
  {
   "cell_type": "code",
   "execution_count": 91,
   "metadata": {},
   "outputs": [
    {
     "name": "stdout",
     "output_type": "stream",
     "text": [
      "The PRD is 0.356%\n"
     ]
    }
   ],
   "source": [
    "#resampled_signal_shorter = resampled_signal[:len(aN_recover)][1007:-1000]\n",
    "resampled_signal_shorter = signal.resample(y, len(aN_recover))\n",
    "from sklearn.metrics import mean_squared_error\n",
    "from math import sqrt\n",
    "\n",
    "def PRD_calculation(original_signal, compressed_signal):\n",
    "    PRD = sqrt(sum((original_signal-compressed_signal)**2)/(sum(original_signal**2)))\n",
    "    return PRD\n",
    "\n",
    "PRD = PRD_calculation(resampled_signal_shorter, aN_recover)\n",
    "print(\"The PRD is {}%\".format(round(PRD*100,3)))"
   ]
  },
  {
   "cell_type": "code",
   "execution_count": 92,
   "metadata": {},
   "outputs": [
    {
     "data": {
      "image/png": "[encoded data removed]",
      "text/plain": [
       "<Figure size 432x288 with 1 Axes>"
      ]
     },
     "metadata": {
      "needs_background": "light"
     },
     "output_type": "display_data"
    }
   ],
   "source": [
    "plt.plot(resampled_signal_shorter[10000:10500],label = \"origianl\")\n",
    "plt.plot(aN_recover[10000:10500],label = \"recovered\")\n",
    "plt.legend()\n",
    "plt.title('PPG')\n",
    "plt.grid()\n",
    "plt.show()"
   ]
  },
  {
   "cell_type": "code",
   "execution_count": null,
   "metadata": {},
   "outputs": [],
   "source": []
  }
 ],
 "metadata": {
  "kernelspec": {
   "display_name": "Python 3",
   "language": "python",
   "name": "python3"
  },
  "language_info": {
   "codemirror_mode": {
    "name": "ipython",
    "version": 3
   },
   "file_extension": ".py",
   "mimetype": "text/x-python",
   "name": "python",
   "nbconvert_exporter": "python",
   "pygments_lexer": "ipython3",
   "version": "3.7.6"
  }
 },
 "nbformat": 4,
 "nbformat_minor": 2
}
