{
 "cells": [
  {
   "cell_type": "markdown",
   "metadata": {},
   "source": [
    "# Method5 DCT based DOST + RLE"
   ]
  },
  {
   "cell_type": "markdown",
   "metadata": {},
   "source": [
    "## Import Libraries "
   ]
  },
  {
   "cell_type": "code",
   "execution_count": 1,
   "metadata": {},
   "outputs": [],
   "source": [
    "import mne\n",
    "import numpy as np\n",
    "from scipy.fft import fft,fftshift\n",
    "import matplotlib.pyplot as plt\n",
    "from scipy.signal import butter, lfilter\n",
    "from scipy.signal import freqz\n",
    "from scipy import signal\n",
    "from scipy.fftpack import fft, dct, idct\n",
    "from itertools import islice \n",
    "import pandas as pd\n",
    "import os"
   ]
  },
  {
   "cell_type": "code",
   "execution_count": 2,
   "metadata": {},
   "outputs": [],
   "source": [
    "ppg = pd.read_csv('BVP.csv')\n",
    "ppg = ppg.iloc[1:]\n",
    "\n",
    "np.savetxt('ppg.txt',ppg)  #Save it as a txt file\n",
    "sampling_freq = 1/64  #This is the sampling frequency\n",
    "N = ppg.size  #The number of point\n",
    "\n",
    "ppg_array = ppg.to_numpy() #save the data into an ndarray\n",
    "ppg_array.size\n",
    "\n",
    "xf = np.linspace(-N*sampling_freq/2, N*sampling_freq/2,  N)\n",
    "\n",
    "ppg_array = ppg_array[0:132000]   # Remove the signal in first 3minutes and last 5minutes\n",
    "index = np.linspace(0, round((N-1)*sampling_freq,4), N)\n",
    "\n",
    "ppg_array_new = []\n",
    "for i in ppg_array:\n",
    "    ppg_array_new.append(list(i)[0])"
   ]
  },
  {
   "cell_type": "code",
   "execution_count": 3,
   "metadata": {},
   "outputs": [],
   "source": [
    "def butter_bandpass(lowcut, highcut, fs, order=5):\n",
    "    nyq = 0.5 * fs\n",
    "    low = lowcut / nyq\n",
    "    high = highcut / nyq\n",
    "    b, a = butter(order, [low, high], btype='band')\n",
    "    return b, a\n",
    "\n",
    "\n",
    "def butter_bandpass_filter(data, lowcut, highcut, fs, order=5):\n",
    "    b, a = butter_bandpass(lowcut, highcut, fs, order=order)\n",
    "    y = lfilter(b, a, data)\n",
    "    return y"
   ]
  },
  {
   "cell_type": "code",
   "execution_count": 4,
   "metadata": {},
   "outputs": [
    {
     "data": {
      "text/plain": [
       "<matplotlib.legend.Legend at 0x1a1cde0510>"
      ]
     },
     "execution_count": 4,
     "metadata": {},
     "output_type": "execute_result"
    },
    {
     "data": {
      "image/png": "[encoded data removed]",
      "text/plain": [
       "<Figure size 432x288 with 1 Axes>"
      ]
     },
     "metadata": {
      "needs_background": "light"
     },
     "output_type": "display_data"
    }
   ],
   "source": [
    "# Sample rate and desired cutoff frequencies (in Hz).\n",
    "fs = 1000.0\n",
    "lowcut = 0.5\n",
    "highcut = 50.0\n",
    "\n",
    "# Plot the frequency response for a few different orders.\n",
    "plt.figure(1)\n",
    "plt.clf()\n",
    "for order in [1, 2, 3, 4]:\n",
    "    b, a = butter_bandpass(lowcut, highcut, fs, order=order)\n",
    "    w, h = freqz(b, a, worN=2000)\n",
    "    plt.plot((fs * 0.5 / np.pi) * w, abs(h), label=\"order = %d\" % order)\n",
    "\n",
    "plt.plot([0, 0.5 * fs], [np.sqrt(0.5), np.sqrt(0.5)],\n",
    "         '--', label='sqrt(0.5)')\n",
    "plt.xlabel('Frequency (Hz)')\n",
    "plt.ylabel('Gain')\n",
    "plt.grid(True)\n",
    "plt.legend(loc='best')"
   ]
  },
  {
   "cell_type": "code",
   "execution_count": 5,
   "metadata": {},
   "outputs": [],
   "source": [
    "# Filter the data\n",
    "# This ppg signal doesn't need to be resampled because it's sampling frequency is not high\n",
    "resampled_signal = butter_bandpass_filter(ppg_array_new, lowcut, highcut, fs, order=2)\n",
    "rounded_signal = np.around(resampled_signal, 2)"
   ]
  },
  {
   "cell_type": "code",
   "execution_count": 6,
   "metadata": {},
   "outputs": [],
   "source": [
    "aN = dct(rounded_signal, type = 2, norm = 'ortho')"
   ]
  },
  {
   "cell_type": "code",
   "execution_count": 7,
   "metadata": {},
   "outputs": [],
   "source": [
    "def return_N(target):\n",
    "    if target > 1:\n",
    "        for i in range(1, int(target)):\n",
    "            if (2 ** i >= target):\n",
    "                return i-1\n",
    "    else:\n",
    "        return 1"
   ]
  },
  {
   "cell_type": "code",
   "execution_count": 8,
   "metadata": {},
   "outputs": [],
   "source": [
    "split_list = [1]\n",
    "for i in range(0,return_N(aN.size)):\n",
    "    split_list.append(2 ** i)\n",
    "temp = iter(aN) \n",
    "res = [list(islice(temp, 0, ele)) for ele in split_list] "
   ]
  },
  {
   "cell_type": "code",
   "execution_count": 9,
   "metadata": {},
   "outputs": [],
   "source": [
    "cN_idct = [list(idct(res[0], type = 2, norm = 'ortho' )), list(idct(res[1], type = 2, norm = 'ortho' ))]\n",
    "for k in range(2,len(res)):\n",
    "    cN_idct.append(list(idct(res[k], type = 2, norm = 'ortho' )))"
   ]
  },
  {
   "cell_type": "code",
   "execution_count": 10,
   "metadata": {},
   "outputs": [],
   "source": [
    "all_numbers = []\n",
    "for i in cN_idct:\n",
    "    for j in i:\n",
    "        all_numbers.append(j)\n",
    "all_numbers = np.asarray(all_numbers)\n",
    "new_cN_idct = all_numbers\n",
    "int_cN = np.round(new_cN_idct,3)"
   ]
  },
  {
   "cell_type": "markdown",
   "metadata": {},
   "source": [
    "## Run-length Encoding"
   ]
  },
  {
   "cell_type": "code",
   "execution_count": 11,
   "metadata": {},
   "outputs": [],
   "source": [
    "def RLE(input_data):\n",
    "    RLE_VALUE = []\n",
    "    RLE_FREQ = []\n",
    "    count = 0\n",
    "    for i in range(0,len(input_data)):\n",
    "        if i == len(input_data)-1:\n",
    "            if input_data[i] != input_data[i-1]:\n",
    "                RLE_VALUE.append(input_data[i])\n",
    "                RLE_FREQ.append(1)\n",
    "                return RLE_VALUE, RLE_FREQ\n",
    "            else:\n",
    "                return RLE_VALUE, RLE_FREQ\n",
    "        else:\n",
    "            if input_data[i] == input_data[i+1]:\n",
    "                count += 1\n",
    "                    \n",
    "                \n",
    "            else:\n",
    "                RLE_VALUE.append(input_data[i])\n",
    "                count += 1\n",
    "                RLE_FREQ.append(count)\n",
    "                count = 0\n"
   ]
  },
  {
   "cell_type": "code",
   "execution_count": 12,
   "metadata": {},
   "outputs": [],
   "source": [
    "value, freq = RLE(int_cN)"
   ]
  },
  {
   "cell_type": "code",
   "execution_count": 13,
   "metadata": {},
   "outputs": [],
   "source": [
    "np.savetxt('ppg_value_rle.txt',value, fmt='%.3f')\n",
    "np.savetxt('ppg_freq_rle.txt',freq, fmt='%.3f')"
   ]
  },
  {
   "cell_type": "markdown",
   "metadata": {},
   "source": [
    "## Reconstruction"
   ]
  },
  {
   "cell_type": "code",
   "execution_count": 14,
   "metadata": {},
   "outputs": [],
   "source": [
    "decoded_data_rle_value = np.loadtxt(fname = \"ppg_value_rle.txt\")\n",
    "decoded_data_rle_freq = np.loadtxt(fname = \"ppg_freq_rle.txt\")"
   ]
  },
  {
   "cell_type": "code",
   "execution_count": 15,
   "metadata": {},
   "outputs": [],
   "source": [
    "decoded_data_rle_freq = decoded_data_rle_freq.astype(int)\n",
    "recovered_signal = []\n",
    "for i in range(len(decoded_data_rle_value)):\n",
    "    for k in range(decoded_data_rle_freq[i]):\n",
    "        recovered_signal.append(decoded_data_rle_value[i])       "
   ]
  },
  {
   "cell_type": "code",
   "execution_count": 16,
   "metadata": {},
   "outputs": [],
   "source": [
    "recover_signal = recovered_signal\n",
    "recover_signal = list(recover_signal)\n",
    "split_list = [1]\n",
    "for i in range(0,return_N(len(recover_signal))+1):\n",
    "    split_list.append(2 ** i)\n",
    "temp_recovered = iter(recover_signal) \n",
    "res_recovered = [list(islice(temp_recovered, 0, ele)) for ele in split_list] "
   ]
  },
  {
   "cell_type": "code",
   "execution_count": 17,
   "metadata": {},
   "outputs": [],
   "source": [
    "recover_dct = [list(dct(res_recovered[0], type = 2, norm = 'ortho' )), list(dct(res_recovered[1], type = 2, norm = 'ortho' ))]\n",
    "for k in range(2,len(res_recovered)):\n",
    "    recover_dct.append(list(dct(res_recovered[k], type = 2, norm = 'ortho' )))"
   ]
  },
  {
   "cell_type": "code",
   "execution_count": 18,
   "metadata": {},
   "outputs": [],
   "source": [
    "all_recover = []\n",
    "for i in recover_dct:\n",
    "    for j in i:\n",
    "        all_recover.append(j)"
   ]
  },
  {
   "cell_type": "code",
   "execution_count": 19,
   "metadata": {},
   "outputs": [],
   "source": [
    "aN_recover = idct(all_recover, type = 2, norm = 'ortho')"
   ]
  },
  {
   "cell_type": "markdown",
   "metadata": {},
   "source": [
    "## PRD calculation"
   ]
  },
  {
   "cell_type": "code",
   "execution_count": 21,
   "metadata": {},
   "outputs": [
    {
     "name": "stdout",
     "output_type": "stream",
     "text": [
      "The PRD is 0.356%\n"
     ]
    }
   ],
   "source": [
    "#resampled_signal_shorter = resampled_signal[:len(aN_recover)][1007:-1000]\n",
    "resampled_signal_shorter = signal.resample(resampled_signal, len(aN_recover))\n",
    "from sklearn.metrics import mean_squared_error\n",
    "from math import sqrt\n",
    "\n",
    "def PRD_calculation(original_signal, compressed_signal):\n",
    "    PRD = sqrt(sum((original_signal-compressed_signal)**2)/(sum(original_signal**2)))\n",
    "    return PRD\n",
    "\n",
    "PRD = PRD_calculation(resampled_signal_shorter, aN_recover)\n",
    "print(\"The PRD is {}%\".format(round(PRD*100,3)))"
   ]
  },
  {
   "cell_type": "code",
   "execution_count": 22,
   "metadata": {},
   "outputs": [
    {
     "data": {
      "image/png": "[encoded data removed]",
      "text/plain": [
       "<Figure size 432x288 with 1 Axes>"
      ]
     },
     "metadata": {
      "needs_background": "light"
     },
     "output_type": "display_data"
    }
   ],
   "source": [
    "plt.plot(resampled_signal_shorter[10000:10500],label = \"origianl\")\n",
    "plt.plot(aN_recover[10000:10500],label = \"recovered\")\n",
    "plt.legend()\n",
    "plt.title('PPG')\n",
    "plt.grid()\n",
    "plt.show()"
   ]
  },
  {
   "cell_type": "code",
   "execution_count": null,
   "metadata": {},
   "outputs": [],
   "source": []
  }
 ],
 "metadata": {
  "kernelspec": {
   "display_name": "Python 3",
   "language": "python",
   "name": "python3"
  },
  "language_info": {
   "codemirror_mode": {
    "name": "ipython",
    "version": 3
   },
   "file_extension": ".py",
   "mimetype": "text/x-python",
   "name": "python",
   "nbconvert_exporter": "python",
   "pygments_lexer": "ipython3",
   "version": "3.7.6"
  }
 },
 "nbformat": 4,
 "nbformat_minor": 2
}
