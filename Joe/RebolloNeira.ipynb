{
 "cells": [
  {
   "cell_type": "markdown",
   "metadata": {},
   "source": [
    "## ECG Data Compression Wavelet Transform Method\n",
    "Based on \"Effective high compression of ECG signals at low level distortion\" by Laura Rebollo-Neira"
   ]
  },
  {
   "cell_type": "markdown",
   "metadata": {},
   "source": [
    "### Step 0: Import Libraries"
   ]
  },
  {
   "cell_type": "code",
   "execution_count": null,
   "metadata": {},
   "outputs": [],
   "source": [
    "%matplotlib inline\n",
    "import matplotlib.pyplot as plt\n",
    "from pywt import wavedec\n",
    "import pywt\n",
    "import numpy as np\n",
    "import pandas as pd\n",
    "from scipy.stats import iqr\n",
    "import sys\n",
    "import copy\n",
    "from scipy.signal import detrend\n",
    "import copy "
   ]
  },
  {
   "cell_type": "markdown",
   "metadata": {},
   "source": [
    "### Step 1: Approximation\n",
    "**Input:** Array **w** of wavelets coefficients & parameter *tol* for the approximation error  \n",
    "**Output:** Indices *l*<sub>i</sub>, i=1,...,*K* of the selected wavelet coefficients. Array **c** with the selected wavelet coefficients."
   ]
  },
  {
   "cell_type": "markdown",
   "metadata": {},
   "source": [
    "#### Part A: DWT transform\n",
    "Array *data* with the N-dimensional signal. Decomposition level *lv*.  \n",
    "Wavelet used: bior4.4."
   ]
  },
  {
   "cell_type": "code",
   "execution_count": 2,
   "metadata": {},
   "outputs": [],
   "source": [
    "def dwt(data, lv):\n",
    "    cA5, cD5, cD4, cD3, cD2, cD1 = wavedec(data, 'bior4.4', level=lv)\n",
    "    coeffs = {'cA5': cA5, 'cD5': cD5, 'cD4': cD4, 'cD3': cD3, 'cD2': cD2, 'cD1': cD1}\n",
    "    return coeffs"
   ]
  },
  {
   "cell_type": "markdown",
   "metadata": {},
   "source": [
    "Wavelet Object: https://pywavelets.readthedocs.io/en/latest/regression/wavelet.html  \n",
    "DWT API: https://pywavelets.readthedocs.io/en/latest/ref/dwt-discrete-wavelet-transform.html#ref-dwt   \n",
    "Handling DWT Coeffs: https://pywavelets.readthedocs.io/en/latest/ref/dwt-coefficient-handling.html"
   ]
  },
  {
   "cell_type": "markdown",
   "metadata": {},
   "source": [
    "#### Part B: Selection of the largest wavelet coefficients"
   ]
  },
  {
   "cell_type": "markdown",
   "metadata": {},
   "source": [
    "Thresholds the wavelet coefficients to a specified energy.  \n",
    "Different levels of decomposition are thresholded at different energy percentages.\n",
    "1. Calculate the energy of all the coefficients.\n",
    "1. Sort the coefficients from highest to lowest.\n",
    "1. Calculate the energy as each new coefficient is added.\n",
    "1. Repeat until the percentage is above the threshold."
   ]
  },
  {
   "cell_type": "code",
   "execution_count": null,
   "metadata": {},
   "outputs": [],
   "source": [
    "def threshold_energy(coeffs):\n",
    "    #make a deep copy of coeffs to retain the original version\n",
    "    coeffs_orig = copy.deepcopy(coeffs)\n",
    "\n",
    "    binary_map = {}\n",
    "    nonzero_coeff_count = {}\n",
    "\n",
    "    for key in coeffs.keys():\n",
    "        #sort the absolute value of the coefficients in descending order\n",
    "        tmp_coeffs = np.sort(np.abs(coeffs[key]))[::-1]\n",
    "\n",
    "        #calculate the threshold for retaining some percentage of the energy\n",
    "        if key == 'cA5':\n",
    "            thresh_perc = THRESH_PERC_APPROX\n",
    "        elif key == 'cD5':\n",
    "            thresh_perc = THRESH_PERC_D5\n",
    "        else:\n",
    "            thresh_perc = THRESH_PERC_D4_D1\n",
    "\n",
    "        energy_thresholded = thresh_perc*energy(tmp_coeffs)\n",
    "        energy_tmp = 0\n",
    "        for coeff in tmp_coeffs:\n",
    "            energy_tmp = energy_tmp + coeff**2\n",
    "\n",
    "            if energy_tmp >= energy_thresholded:\n",
    "                threshold = coeff\n",
    "                break\n",
    "\n",
    "        #set any coefficients below the threshold to zero\n",
    "        tmp_coeffs = coeffs[key]\n",
    "        inds_to_zero = np.where((tmp_coeffs < threshold) & (tmp_coeffs > -threshold))[0]\n",
    "        tmp_coeffs[inds_to_zero] = 0\n",
    "\n",
    "        #create the binary map\n",
    "        binary_map_tmp = np.ones(len(coeffs[key])).astype(int)\n",
    "        binary_map_tmp[inds_to_zero] = 0\n",
    "\n",
    "        #update the various dictionaries\n",
    "        coeffs[key] = tmp_coeffs\n",
    "        binary_map[key] = binary_map_tmp\n",
    "        nonzero_coeff_count[key] = len(tmp_coeffs)\n",
    "        \n",
    "        return coeffs, binary_map"
   ]
  },
  {
   "cell_type": "markdown",
   "metadata": {},
   "source": [
    "### Step 2: Quantization\n",
    "A mid-tread uniform quantizer transforms the selected wavelet coefficients into integers."
   ]
  },
  {
   "cell_type": "markdown",
   "metadata": {},
   "source": [
    "Scale the wavelet coefficients to the [0,1] range."
   ]
  },
  {
   "cell_type": "code",
   "execution_count": null,
   "metadata": {},
   "outputs": [],
   "source": [
    "def scale_coeffs(coeffs, do_plot=False):\n",
    "    coeffs_scaled = {}\n",
    "    scaling_factors = {}\n",
    "\n",
    "    for key in coeffs.keys():\n",
    "        shift_factor = np.min(coeffs[key])\n",
    "        coeffs_tmp = coeffs[key]-shift_factor\n",
    "\n",
    "        scale_factor = np.max(coeffs_tmp)\n",
    "        coeffs_tmp = coeffs_tmp/scale_factor\n",
    "\n",
    "        scaling_factors[key] = {'shift_factor': shift_factor, 'scale_factor': scale_factor}\n",
    "        coeffs_scaled[key] = coeffs_tmp\n",
    "    return coeffs_scaled, scaling_factors"
   ]
  },
  {
   "cell_type": "markdown",
   "metadata": {},
   "source": [
    "Calculate the lowest possible number of bits to quantize the wavelet coefficients such that the PRD is above the threshold.\n",
    "1. Quantize the signal starting at 8 bits\n",
    "1. Unquantize and reconstruct the signal\n",
    "1. Calculate the PRD.\n",
    "1. Repeat with 1 fewer bit (ie, 7 bits), ..."
   ]
  },
  {
   "cell_type": "code",
   "execution_count": null,
   "metadata": {},
   "outputs": [],
   "source": [
    "def calculate_num_bits(orig_sig, coeffs_scaled, binary_map, scaling_factors, do_plot=False):\n",
    "    #starting at 8 bits, keep decreasing the number of bits in the quantization\n",
    "    #until the PRD is above some threshold\n",
    "    num_bits = 9\n",
    "\n",
    "    #initialize PRD to 0 so the while loop can run\n",
    "    PRD = 0\n",
    "\n",
    "    #keep track of PRD per number of bits\n",
    "    PRD_dict = {}\n",
    "    \n",
    "    while (num_bits >= 5) and (PRD <= MAX_PRD):\n",
    "        #decrement the number of bits\n",
    "        num_bits = num_bits-1\n",
    "\n",
    "        coeffs_quantized = do_quantization(coeffs_scaled, num_bits)\n",
    "\n",
    "        #rescale the coefficients\n",
    "        coeffs_unscaled = unscale_coeffs(None, coeffs_quantized, scaling_factors, num_bits)\n",
    "\n",
    "        #do the inverse dwt\n",
    "        data_reconstructed = wavelet_reconstruction(coeffs_unscaled, None, None)\n",
    "\n",
    "        #calculate PRD\n",
    "        PRD = calculate_PRD(orig_sig, data_reconstructed)\n",
    "        PRD_dict[num_bits] = PRD\n",
    "\n",
    "        #plot the reconstructed signals \n",
    "        if do_plot:\n",
    "            if PRD <= MAX_PRD:\n",
    "                plt.plot(t, data_reconstructed, label='Reconstructed @ %i Bits, PRD = %.2f' % (num_bits, PRD))\n",
    "\n",
    "    #if we went over the PRD, go back up by one bit\n",
    "    if PRD > MAX_PRD:\n",
    "        num_bits = num_bits+1\n",
    "        PRD = PRD_dict[num_bits]\n",
    "    \n",
    "    return num_bits, PRD"
   ]
  },
  {
   "cell_type": "markdown",
   "metadata": {},
   "source": [
    "Quantization:\n",
    "1. Take in the scaled wavelet coefficients\n",
    "1. Multiply by 2^(num bits)\n",
    "1. Round to the nearest integer."
   ]
  },
  {
   "cell_type": "code",
   "execution_count": null,
   "metadata": {},
   "outputs": [],
   "source": [
    "def do_quantization(coeffs, bits, do_plot=False):\n",
    "    quantized_coeffs = {}\n",
    "\n",
    "    for key in coeffs.keys():\n",
    "        sig = coeffs[key]\n",
    "        sig = sig*(2**bits-1)\n",
    "        sig = np.round(sig)\n",
    "        sig = np.array(sig).astype(int)\n",
    "\n",
    "        quantized_coeffs[key] = sig\n",
    "        \n",
    "    return quantized_coeffs"
   ]
  },
  {
   "cell_type": "markdown",
   "metadata": {},
   "source": [
    "### Step 3: Organization and Storage Step\n",
    "1. Re-order indices in ascending order. This re-orders coefficients and corresponding signs.\n",
    "1. Store re-ordered indices as smaller positive numbers by taking differences between two consecutive values. \n",
    "1. Save the size of the singal, the quantization parameter, and the arrays (reordered coefficients, signs, and indices) in HDF5 format."
   ]
  },
  {
   "cell_type": "code",
   "execution_count": null,
   "metadata": {},
   "outputs": [],
   "source": []
  },
  {
   "cell_type": "markdown",
   "metadata": {},
   "source": [
    "#### Reference MATLAB Code"
   ]
  },
  {
   "cell_type": "code",
   "execution_count": null,
   "metadata": {},
   "outputs": [],
   "source": [
    "#\n",
    "clear \n",
    "# Options\n",
    "baseline=0 # does not modify raw data\n",
    "mywname='cdf97' # wavelet family\n",
    "wlevel=4 # decomposition level\n",
    "store=0 # Change to 1 to add Huffman entropy coding\n",
    "\n",
    "dat=input('Please enter record number (from the MIT_BIHA_database) \\n ','s');\n",
    "icase=input('Please enter approximation method (a or b) \\n','s');\n",
    "if icase=='a'\n",
    "PRD0=input('Please enter PRD0 (e.g. 0.4217)  \\n');\n",
    "end\n",
    "\n",
    "del=input('Please enter quantization parameter (e.g. 32 for a) and 39 for b) \\n');\n",
    "%\n",
    "\n",
    "filenamer=['ECG_Compression/MIT_BIHA_DATA/Record_' char(strcat(dat, '_11bits.dat'))];\n",
    "filenamew_tmp='ECG_Compression/Comp_Record.mat'\n",
    "fid=fopen(filenamer,'r');\n",
    "f=fread(fid,'ubit11');\n",
    "fclose(fid);\n",
    "\n",
    "f=f-baseline;\n",
    "tic\n",
    "base=0;\n",
    "[fw,wl]=mydwt(f,wlevel,mywname);\n",
    "L=numel(fw);\n",
    "if icase=='a'\n",
    "tol=PRD0*norm(f)/100;\n",
    "[cs,wind]=SLWC(fw,tol);\n",
    "end\n",
    "if icase=='b'\n",
    "cs=fw;\n",
    "wind=1:numel(fw);\n",
    "wind=wind';\n",
    "end\n",
    "\n",
    "# quantization of wavelet coefficients\n",
    "csq=sign(cs).*floor(abs(cs)/del+0.5);\n",
    "I0=find(csq==0);\n",
    "if isempty(I0)==0 # remove the zeros\n",
    "csq(I0)=[];\n",
    "wind(I0)=[];\n",
    "end\n",
    "\n",
    "# Organization and Storage\n",
    "clear vc vi vs\n",
    "[or,ior]=sort(wind); # sort the indices\n",
    "vc=abs(csq(ior)); \n",
    "\n",
    "# take differences\n",
    "vi=[or(1) diff(or)'];\n",
    "# invert with cumsum([vi]);\n",
    "# vi=vdif(or); # take differences\n",
    "vs=(sign(csq(ior))+ 1)./2; # encode the signs as zeros and ones\n",
    "\n",
    "if store==0;\n",
    "save (filenamew_tmp, 'del','L', 'vi', 'vc', 'vs'); # save in HDF5 format\n",
    "else\n",
    "xS{1}=vs;\n",
    "xC{1}=vi;\n",
    "xCC{1}=vc;\n",
    "ys=Huff06(xS);\n",
    "yc=Huff06(xCC);\n",
    "yi=Huff06(xC);\n",
    "save (filenamew_tmp, 'del','L','yi','yc','ys'); # save in HDF5 format\n",
    "end\n",
    "hf11=dir(filenamer);\n",
    "hfH=dir(filenamew_tmp);\n",
    "CR=hf11.bytes/hfH.bytes #calculate CR\n",
    "toc"
   ]
  },
  {
   "cell_type": "markdown",
   "metadata": {},
   "source": [
    "## Data Reconstruction"
   ]
  },
  {
   "cell_type": "markdown",
   "metadata": {},
   "source": [
    "### Wavelet Reconstruction"
   ]
  },
  {
   "cell_type": "code",
   "execution_count": null,
   "metadata": {},
   "outputs": [],
   "source": [
    "def dwt_reconstruct(coeffs):\n",
    "    reconstructed = pywt.waverec([coeffs['cA5'], coeffs['cD5'], coeffs['cD4'], coeffs['cD3'], \n",
    "                                    coeffs['cD2'], coeffs['cD1']], 'bior4.4')\n",
    "    return reconstructed"
   ]
  }
 ],
 "metadata": {
  "kernelspec": {
   "display_name": "Python 3",
   "language": "python",
   "name": "python3"
  },
  "language_info": {
   "codemirror_mode": {
    "name": "ipython",
    "version": 3
   },
   "file_extension": ".py",
   "mimetype": "text/x-python",
   "name": "python",
   "nbconvert_exporter": "python",
   "pygments_lexer": "ipython3",
   "version": "3.7.3"
  }
 },
 "nbformat": 4,
 "nbformat_minor": 4
}
