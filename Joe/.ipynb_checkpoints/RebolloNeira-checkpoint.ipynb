{
 "cells": [
  {
   "cell_type": "markdown",
   "metadata": {},
   "source": [
    "## ECG Data Compression Wavelet Transform Method\n",
    "Based on \"Effective high compression of ECG signals at low level distortion\" by Laura Rebollo-Neira"
   ]
  },
  {
   "cell_type": "markdown",
   "metadata": {},
   "source": [
    "### Step 0: Import Libraries"
   ]
  },
  {
   "cell_type": "code",
   "execution_count": 4,
   "metadata": {},
   "outputs": [],
   "source": [
    "%matplotlib inline\n",
    "import matplotlib.pyplot as plt\n",
    "import numpy as np\n",
    "import pandas as pd\n",
    "from scipy.stats import iqr\n",
    "import sys\n",
    "import copy\n",
    "from scipy.signal import detrend\n",
    "import copy "
   ]
  },
  {
   "cell_type": "markdown",
   "metadata": {},
   "source": [
    "### Load Data"
   ]
  },
  {
   "cell_type": "code",
   "execution_count": 5,
   "metadata": {},
   "outputs": [
    {
     "name": "stdout",
     "output_type": "stream",
     "text": [
      "Extracting EDF parameters from C:\\Users\\juseo\\Documents\\dyuku\\summer 20\\dbdp\\code\\DBDP_Compression_Toolbox\\Joe\\ECG.EDF...\n",
      "EDF file detected\n",
      "Setting channel info structure...\n",
      "Creating raw.info structure...\n"
     ]
    }
   ],
   "source": [
    "import mne\n",
    "file = \"/Users/juseo\\Documents\\dyuku\\summer 20\\dbdp\\code\\DBDP_Compression_Toolbox/Joe/ECG.EDF\"\n",
    "data = mne.io.read_raw_edf(file)\n",
    "raw_data = data.get_data()\n",
    "\n",
    "import numpy as np\n",
    "header = ','.join(data.ch_names)\n",
    "np.savetxt('ECG.csv', data.get_data().T, delimiter=',', header=header)\n",
    "\n",
    "import pandas as pd\n",
    "df0 = pd.read_csv('ECG.csv')\n",
    "df = df0.iloc[:,0:1]"
   ]
  },
  {
   "cell_type": "code",
   "execution_count": 6,
   "metadata": {},
   "outputs": [
    {
     "data": {
      "text/html": [
       "<div>\n",
       "<style scoped>\n",
       "    .dataframe tbody tr th:only-of-type {\n",
       "        vertical-align: middle;\n",
       "    }\n",
       "\n",
       "    .dataframe tbody tr th {\n",
       "        vertical-align: top;\n",
       "    }\n",
       "\n",
       "    .dataframe thead th {\n",
       "        text-align: right;\n",
       "    }\n",
       "</style>\n",
       "<table border=\"1\" class=\"dataframe\">\n",
       "  <thead>\n",
       "    <tr style=\"text-align: right;\">\n",
       "      <th></th>\n",
       "      <th># ECG</th>\n",
       "    </tr>\n",
       "  </thead>\n",
       "  <tbody>\n",
       "    <tr>\n",
       "      <th>0</th>\n",
       "      <td>0.032767</td>\n",
       "    </tr>\n",
       "    <tr>\n",
       "      <th>1</th>\n",
       "      <td>0.032767</td>\n",
       "    </tr>\n",
       "    <tr>\n",
       "      <th>2</th>\n",
       "      <td>0.032767</td>\n",
       "    </tr>\n",
       "    <tr>\n",
       "      <th>3</th>\n",
       "      <td>0.032767</td>\n",
       "    </tr>\n",
       "    <tr>\n",
       "      <th>4</th>\n",
       "      <td>0.032767</td>\n",
       "    </tr>\n",
       "    <tr>\n",
       "      <th>5</th>\n",
       "      <td>0.032767</td>\n",
       "    </tr>\n",
       "    <tr>\n",
       "      <th>6</th>\n",
       "      <td>0.032767</td>\n",
       "    </tr>\n",
       "    <tr>\n",
       "      <th>7</th>\n",
       "      <td>0.032767</td>\n",
       "    </tr>\n",
       "    <tr>\n",
       "      <th>8</th>\n",
       "      <td>0.032767</td>\n",
       "    </tr>\n",
       "    <tr>\n",
       "      <th>9</th>\n",
       "      <td>0.032767</td>\n",
       "    </tr>\n",
       "    <tr>\n",
       "      <th>10</th>\n",
       "      <td>0.032767</td>\n",
       "    </tr>\n",
       "    <tr>\n",
       "      <th>11</th>\n",
       "      <td>0.032767</td>\n",
       "    </tr>\n",
       "    <tr>\n",
       "      <th>12</th>\n",
       "      <td>0.032767</td>\n",
       "    </tr>\n",
       "    <tr>\n",
       "      <th>13</th>\n",
       "      <td>0.032767</td>\n",
       "    </tr>\n",
       "    <tr>\n",
       "      <th>14</th>\n",
       "      <td>0.032767</td>\n",
       "    </tr>\n",
       "    <tr>\n",
       "      <th>15</th>\n",
       "      <td>0.032767</td>\n",
       "    </tr>\n",
       "    <tr>\n",
       "      <th>16</th>\n",
       "      <td>0.032767</td>\n",
       "    </tr>\n",
       "    <tr>\n",
       "      <th>17</th>\n",
       "      <td>0.032767</td>\n",
       "    </tr>\n",
       "    <tr>\n",
       "      <th>18</th>\n",
       "      <td>0.032767</td>\n",
       "    </tr>\n",
       "    <tr>\n",
       "      <th>19</th>\n",
       "      <td>0.032767</td>\n",
       "    </tr>\n",
       "    <tr>\n",
       "      <th>20</th>\n",
       "      <td>0.032767</td>\n",
       "    </tr>\n",
       "    <tr>\n",
       "      <th>21</th>\n",
       "      <td>0.032767</td>\n",
       "    </tr>\n",
       "    <tr>\n",
       "      <th>22</th>\n",
       "      <td>0.032767</td>\n",
       "    </tr>\n",
       "    <tr>\n",
       "      <th>23</th>\n",
       "      <td>0.032767</td>\n",
       "    </tr>\n",
       "    <tr>\n",
       "      <th>24</th>\n",
       "      <td>0.032767</td>\n",
       "    </tr>\n",
       "    <tr>\n",
       "      <th>25</th>\n",
       "      <td>0.032767</td>\n",
       "    </tr>\n",
       "    <tr>\n",
       "      <th>26</th>\n",
       "      <td>0.032767</td>\n",
       "    </tr>\n",
       "    <tr>\n",
       "      <th>27</th>\n",
       "      <td>0.032767</td>\n",
       "    </tr>\n",
       "    <tr>\n",
       "      <th>28</th>\n",
       "      <td>0.032767</td>\n",
       "    </tr>\n",
       "    <tr>\n",
       "      <th>29</th>\n",
       "      <td>0.032767</td>\n",
       "    </tr>\n",
       "    <tr>\n",
       "      <th>...</th>\n",
       "      <td>...</td>\n",
       "    </tr>\n",
       "    <tr>\n",
       "      <th>3269970</th>\n",
       "      <td>0.001328</td>\n",
       "    </tr>\n",
       "    <tr>\n",
       "      <th>3269971</th>\n",
       "      <td>0.001635</td>\n",
       "    </tr>\n",
       "    <tr>\n",
       "      <th>3269972</th>\n",
       "      <td>0.001904</td>\n",
       "    </tr>\n",
       "    <tr>\n",
       "      <th>3269973</th>\n",
       "      <td>0.002159</td>\n",
       "    </tr>\n",
       "    <tr>\n",
       "      <th>3269974</th>\n",
       "      <td>0.002415</td>\n",
       "    </tr>\n",
       "    <tr>\n",
       "      <th>3269975</th>\n",
       "      <td>0.002565</td>\n",
       "    </tr>\n",
       "    <tr>\n",
       "      <th>3269976</th>\n",
       "      <td>0.002626</td>\n",
       "    </tr>\n",
       "    <tr>\n",
       "      <th>3269977</th>\n",
       "      <td>0.002605</td>\n",
       "    </tr>\n",
       "    <tr>\n",
       "      <th>3269978</th>\n",
       "      <td>0.002454</td>\n",
       "    </tr>\n",
       "    <tr>\n",
       "      <th>3269979</th>\n",
       "      <td>0.002157</td>\n",
       "    </tr>\n",
       "    <tr>\n",
       "      <th>3269980</th>\n",
       "      <td>0.001857</td>\n",
       "    </tr>\n",
       "    <tr>\n",
       "      <th>3269981</th>\n",
       "      <td>0.001574</td>\n",
       "    </tr>\n",
       "    <tr>\n",
       "      <th>3269982</th>\n",
       "      <td>0.001299</td>\n",
       "    </tr>\n",
       "    <tr>\n",
       "      <th>3269983</th>\n",
       "      <td>0.001146</td>\n",
       "    </tr>\n",
       "    <tr>\n",
       "      <th>3269984</th>\n",
       "      <td>0.001077</td>\n",
       "    </tr>\n",
       "    <tr>\n",
       "      <th>3269985</th>\n",
       "      <td>0.001091</td>\n",
       "    </tr>\n",
       "    <tr>\n",
       "      <th>3269986</th>\n",
       "      <td>0.001212</td>\n",
       "    </tr>\n",
       "    <tr>\n",
       "      <th>3269987</th>\n",
       "      <td>0.001434</td>\n",
       "    </tr>\n",
       "    <tr>\n",
       "      <th>3269988</th>\n",
       "      <td>0.001726</td>\n",
       "    </tr>\n",
       "    <tr>\n",
       "      <th>3269989</th>\n",
       "      <td>0.002014</td>\n",
       "    </tr>\n",
       "    <tr>\n",
       "      <th>3269990</th>\n",
       "      <td>0.002283</td>\n",
       "    </tr>\n",
       "    <tr>\n",
       "      <th>3269991</th>\n",
       "      <td>0.002487</td>\n",
       "    </tr>\n",
       "    <tr>\n",
       "      <th>3269992</th>\n",
       "      <td>0.002576</td>\n",
       "    </tr>\n",
       "    <tr>\n",
       "      <th>3269993</th>\n",
       "      <td>0.002598</td>\n",
       "    </tr>\n",
       "    <tr>\n",
       "      <th>3269994</th>\n",
       "      <td>0.002521</td>\n",
       "    </tr>\n",
       "    <tr>\n",
       "      <th>3269995</th>\n",
       "      <td>0.002334</td>\n",
       "    </tr>\n",
       "    <tr>\n",
       "      <th>3269996</th>\n",
       "      <td>0.002037</td>\n",
       "    </tr>\n",
       "    <tr>\n",
       "      <th>3269997</th>\n",
       "      <td>0.001726</td>\n",
       "    </tr>\n",
       "    <tr>\n",
       "      <th>3269998</th>\n",
       "      <td>0.001404</td>\n",
       "    </tr>\n",
       "    <tr>\n",
       "      <th>3269999</th>\n",
       "      <td>0.001145</td>\n",
       "    </tr>\n",
       "  </tbody>\n",
       "</table>\n",
       "<p>3270000 rows × 1 columns</p>\n",
       "</div>"
      ],
      "text/plain": [
       "            # ECG\n",
       "0        0.032767\n",
       "1        0.032767\n",
       "2        0.032767\n",
       "3        0.032767\n",
       "4        0.032767\n",
       "5        0.032767\n",
       "6        0.032767\n",
       "7        0.032767\n",
       "8        0.032767\n",
       "9        0.032767\n",
       "10       0.032767\n",
       "11       0.032767\n",
       "12       0.032767\n",
       "13       0.032767\n",
       "14       0.032767\n",
       "15       0.032767\n",
       "16       0.032767\n",
       "17       0.032767\n",
       "18       0.032767\n",
       "19       0.032767\n",
       "20       0.032767\n",
       "21       0.032767\n",
       "22       0.032767\n",
       "23       0.032767\n",
       "24       0.032767\n",
       "25       0.032767\n",
       "26       0.032767\n",
       "27       0.032767\n",
       "28       0.032767\n",
       "29       0.032767\n",
       "...           ...\n",
       "3269970  0.001328\n",
       "3269971  0.001635\n",
       "3269972  0.001904\n",
       "3269973  0.002159\n",
       "3269974  0.002415\n",
       "3269975  0.002565\n",
       "3269976  0.002626\n",
       "3269977  0.002605\n",
       "3269978  0.002454\n",
       "3269979  0.002157\n",
       "3269980  0.001857\n",
       "3269981  0.001574\n",
       "3269982  0.001299\n",
       "3269983  0.001146\n",
       "3269984  0.001077\n",
       "3269985  0.001091\n",
       "3269986  0.001212\n",
       "3269987  0.001434\n",
       "3269988  0.001726\n",
       "3269989  0.002014\n",
       "3269990  0.002283\n",
       "3269991  0.002487\n",
       "3269992  0.002576\n",
       "3269993  0.002598\n",
       "3269994  0.002521\n",
       "3269995  0.002334\n",
       "3269996  0.002037\n",
       "3269997  0.001726\n",
       "3269998  0.001404\n",
       "3269999  0.001145\n",
       "\n",
       "[3270000 rows x 1 columns]"
      ]
     },
     "execution_count": 6,
     "metadata": {},
     "output_type": "execute_result"
    }
   ],
   "source": [
    "df"
   ]
  },
  {
   "cell_type": "markdown",
   "metadata": {},
   "source": [
    "### Step 1: Approximation\n",
    "**Input:** Array **w** of wavelets coefficients & parameter *tol* for the approximation error  \n",
    "**Output:** Indices *l*<sub>i</sub>, i=1,...,*K* of the selected wavelet coefficients. Array **c** with the selected wavelet coefficients."
   ]
  },
  {
   "cell_type": "markdown",
   "metadata": {},
   "source": [
    "#### Part A: DWT transform\n",
    "Array *data* with the N-dimensional signal. Decomposition level *lv*.  \n",
    "Wavelet used: bior4.4."
   ]
  },
  {
   "cell_type": "code",
   "execution_count": 7,
   "metadata": {},
   "outputs": [],
   "source": [
    "import pywt\n",
    "from pywt import wavedec\n",
    "def dwt(data, lv):\n",
    "    cA5, cD5, cD4, cD3, cD2, cD1 = wavedec(data, 'bior4.4', level=lv)\n",
    "    coeffs = {'cA5': cA5, 'cD5': cD5, 'cD4': cD4, 'cD3': cD3, 'cD2': cD2, 'cD1': cD1}\n",
    "    return coeffs"
   ]
  },
  {
   "cell_type": "code",
   "execution_count": 9,
   "metadata": {},
   "outputs": [],
   "source": [
    "coeffs = dwt(df,5)"
   ]
  },
  {
   "cell_type": "code",
   "execution_count": 13,
   "metadata": {},
   "outputs": [
    {
     "data": {
      "text/plain": [
       "{'cA5': array([[0.18535814, 0.18535814, 0.18535814, ..., 0.18535814, 0.18535814,\n",
       "         0.18535814],\n",
       "        [0.18535814, 0.18535814, 0.18535814, ..., 0.18535814, 0.18535814,\n",
       "         0.18535814],\n",
       "        [0.18535814, 0.18535814, 0.18535814, ..., 0.18535814, 0.18535814,\n",
       "         0.18535814],\n",
       "        ...,\n",
       "        [0.00976373, 0.00976373, 0.00976373, ..., 0.00976373, 0.00976373,\n",
       "         0.00976373],\n",
       "        [0.00794222, 0.00794222, 0.00794222, ..., 0.00794222, 0.00794222,\n",
       "         0.00794222],\n",
       "        [0.0064771 , 0.0064771 , 0.0064771 , ..., 0.0064771 , 0.0064771 ,\n",
       "         0.0064771 ]]),\n",
       " 'cD5': array([[-1.85382959e-13, -1.85382959e-13, -1.85382959e-13, ...,\n",
       "         -1.85382959e-13, -1.85395102e-13, -1.85382959e-13],\n",
       "        [-1.85382959e-13, -1.85382959e-13, -1.85382959e-13, ...,\n",
       "         -1.85382959e-13, -1.85395102e-13, -1.85382959e-13],\n",
       "        [-1.85382959e-13, -1.85382959e-13, -1.85382959e-13, ...,\n",
       "         -1.85382959e-13, -1.85395102e-13, -1.85382959e-13],\n",
       "        ...,\n",
       "        [-9.76486687e-15, -9.76492108e-15, -9.76492108e-15, ...,\n",
       "         -9.76497529e-15, -9.76605949e-15, -9.76535476e-15],\n",
       "        [-7.94340722e-15, -7.94329880e-15, -7.94329880e-15, ...,\n",
       "         -7.94411195e-15, -7.94248564e-15, -7.94286512e-15],\n",
       "        [-6.47827061e-15, -6.47827061e-15, -6.47827061e-15, ...,\n",
       "         -6.47783693e-15, -6.47865008e-15, -6.47805377e-15]]),\n",
       " 'cD4': array([[-1.31089584e-13, -1.31089584e-13, -1.31089584e-13, ...,\n",
       "         -1.31089584e-13, -1.31097390e-13, -1.31089584e-13],\n",
       "        [-1.31089584e-13, -1.31089584e-13, -1.31089584e-13, ...,\n",
       "         -1.31089584e-13, -1.31097390e-13, -1.31089584e-13],\n",
       "        [-1.31089584e-13, -1.31089584e-13, -1.31089584e-13, ...,\n",
       "         -1.31089584e-13, -1.31097390e-13, -1.31089584e-13],\n",
       "        ...,\n",
       "        [-6.90463312e-15, -6.90468733e-15, -6.90468733e-15, ...,\n",
       "         -6.90577153e-15, -6.90419943e-15, -6.90533785e-15],\n",
       "        [-5.61703462e-15, -5.61660093e-15, -5.61665514e-15, ...,\n",
       "         -5.61578778e-15, -5.61844408e-15, -5.61752251e-15],\n",
       "        [-4.58059155e-15, -4.58059155e-15, -4.58059155e-15, ...,\n",
       "         -4.58102523e-15, -4.58042892e-15, -4.58059155e-15]]),\n",
       " 'cD3': array([[-9.26914795e-14, -9.26914795e-14, -9.26914795e-14, ...,\n",
       "         -9.26914795e-14, -9.26940816e-14, -9.26914795e-14],\n",
       "        [-9.26914795e-14, -9.26914795e-14, -9.26914795e-14, ...,\n",
       "         -9.26914795e-14, -9.26940816e-14, -9.26914795e-14],\n",
       "        [-9.26914795e-14, -9.26914795e-14, -9.26914795e-14, ...,\n",
       "         -9.26914795e-14, -9.26940816e-14, -9.26914795e-14],\n",
       "        ...,\n",
       "        [-4.88243343e-15, -4.88246054e-15, -4.88246054e-15, ...,\n",
       "         -4.88248764e-15, -4.88278580e-15, -4.88246054e-15],\n",
       "        [-3.97205597e-15, -3.97186624e-15, -3.97183913e-15, ...,\n",
       "         -3.97213729e-15, -3.97257097e-15, -3.97208308e-15],\n",
       "        [-3.23913531e-15, -3.23913531e-15, -3.23913531e-15, ...,\n",
       "         -3.23902689e-15, -3.23916241e-15, -3.23913531e-15]]),\n",
       " 'cD2': array([[-6.55417561e-14, -6.55452255e-14, -6.55447918e-14, ...,\n",
       "         -6.55447918e-14, -6.55408887e-14, -6.55447918e-14],\n",
       "        [-6.55417561e-14, -6.55452255e-14, -6.55447918e-14, ...,\n",
       "         -6.55447918e-14, -6.55408887e-14, -6.55447918e-14],\n",
       "        [-6.55417561e-14, -6.55452255e-14, -6.55447918e-14, ...,\n",
       "         -6.55447918e-14, -6.55408887e-14, -6.55447918e-14],\n",
       "        ...,\n",
       "        [-3.45231656e-15, -3.45231656e-15, -3.45231656e-15, ...,\n",
       "         -3.45220814e-15, -3.45226235e-15, -3.45231656e-15],\n",
       "        [-2.80832757e-15, -2.80830047e-15, -2.80830047e-15, ...,\n",
       "         -2.80862573e-15, -2.80827336e-15, -2.80830047e-15],\n",
       "        [-2.29029577e-15, -2.29029577e-15, -2.29029577e-15, ...,\n",
       "         -2.29029577e-15, -2.29034998e-15, -2.29029577e-15]]),\n",
       " 'cD1': array([[-4.63457397e-14, -4.63457397e-14, -4.63474745e-14,\n",
       "         -4.63474745e-14, -4.63457397e-14],\n",
       "        [-4.63457397e-14, -4.63457397e-14, -4.63474745e-14,\n",
       "         -4.63474745e-14, -4.63457397e-14],\n",
       "        [-4.63457397e-14, -4.63457397e-14, -4.63474745e-14,\n",
       "         -4.63474745e-14, -4.63457397e-14],\n",
       "        ...,\n",
       "        [-2.44123027e-15, -2.44123027e-15, -2.44123027e-15,\n",
       "         -2.44127093e-15, -2.44123027e-15],\n",
       "        [-1.98582470e-15, -1.98582470e-15, -1.98582470e-15,\n",
       "         -1.98582470e-15, -1.98582470e-15],\n",
       "        [-1.61949989e-15, -1.61949989e-15, -1.61955410e-15,\n",
       "         -1.61955410e-15, -1.61949989e-15]])}"
      ]
     },
     "execution_count": 13,
     "metadata": {},
     "output_type": "execute_result"
    }
   ],
   "source": [
    "coeffs"
   ]
  },
  {
   "cell_type": "code",
   "execution_count": 12,
   "metadata": {},
   "outputs": [],
   "source": [
    "recon = pywt.waverec([coeffs['cA5'], coeffs['cD5'], coeffs['cD4'], coeffs['cD3'], \n",
    "                                    coeffs['cD2'], coeffs['cD1']], 'bior4.4')"
   ]
  },
  {
   "cell_type": "code",
   "execution_count": 14,
   "metadata": {},
   "outputs": [
    {
     "data": {
      "text/plain": [
       "array([[0.032767, 0.032767],\n",
       "       [0.032767, 0.032767],\n",
       "       [0.032767, 0.032767],\n",
       "       ...,\n",
       "       [0.001726, 0.001726],\n",
       "       [0.001404, 0.001404],\n",
       "       [0.001145, 0.001145]])"
      ]
     },
     "execution_count": 14,
     "metadata": {},
     "output_type": "execute_result"
    }
   ],
   "source": [
    "recon"
   ]
  },
  {
   "cell_type": "markdown",
   "metadata": {},
   "source": [
    "Wavelet Object: https://pywavelets.readthedocs.io/en/latest/regression/wavelet.html  \n",
    "DWT API: https://pywavelets.readthedocs.io/en/latest/ref/dwt-discrete-wavelet-transform.html#ref-dwt   \n",
    "Handling DWT Coeffs: https://pywavelets.readthedocs.io/en/latest/ref/dwt-coefficient-handling.html"
   ]
  },
  {
   "cell_type": "markdown",
   "metadata": {},
   "source": [
    "#### Part B: Selection of the largest wavelet coefficients"
   ]
  },
  {
   "cell_type": "markdown",
   "metadata": {},
   "source": [
    "Thresholds the wavelet coefficients to a specified energy.  \n",
    "Different levels of decomposition are thresholded at different energy percentages.\n",
    "1. Calculate the energy of all the coefficients.\n",
    "1. Sort the coefficients from highest to lowest.\n",
    "1. Calculate the energy as each new coefficient is added.\n",
    "1. Repeat until the percentage is above the threshold."
   ]
  },
  {
   "cell_type": "code",
   "execution_count": 15,
   "metadata": {},
   "outputs": [],
   "source": [
    "#sort the absolute value of the coefficients in descending order\n",
    "tmp_coeffs = np.sort(np.abs(coeffs['cA5']))"
   ]
  },
  {
   "cell_type": "code",
   "execution_count": 16,
   "metadata": {},
   "outputs": [
    {
     "data": {
      "text/plain": [
       "array([[0.18535814, 0.18535814, 0.18535814, ..., 0.18535814, 0.18535814,\n",
       "        0.18535814],\n",
       "       [0.18535814, 0.18535814, 0.18535814, ..., 0.18535814, 0.18535814,\n",
       "        0.18535814],\n",
       "       [0.18535814, 0.18535814, 0.18535814, ..., 0.18535814, 0.18535814,\n",
       "        0.18535814],\n",
       "       ...,\n",
       "       [0.00976373, 0.00976373, 0.00976373, ..., 0.00976373, 0.00976373,\n",
       "        0.00976373],\n",
       "       [0.00794222, 0.00794222, 0.00794222, ..., 0.00794222, 0.00794222,\n",
       "        0.00794222],\n",
       "       [0.0064771 , 0.0064771 , 0.0064771 , ..., 0.0064771 , 0.0064771 ,\n",
       "        0.0064771 ]])"
      ]
     },
     "execution_count": 16,
     "metadata": {},
     "output_type": "execute_result"
    }
   ],
   "source": [
    "tmp_coeffs"
   ]
  },
  {
   "cell_type": "code",
   "execution_count": 49,
   "metadata": {},
   "outputs": [
    {
     "name": "stdout",
     "output_type": "stream",
     "text": [
      "3270000\n",
      "3270000\n",
      "[0.0064771 0.0064771 0.0064771 0.0064771 0.0064771 0.0064771 0.0064771\n",
      " 0.0064771]\n"
     ]
    }
   ],
   "source": [
    "print(len(tmp_coeffs))\n",
    "print(len(coeffs['cA5']))\n",
    "print(coeffs['cA5'][3269999])"
   ]
  },
  {
   "cell_type": "code",
   "execution_count": 36,
   "metadata": {},
   "outputs": [],
   "source": [
    "#find cumulative sum of square of each value\n",
    "csums = np.cumsum(np.square(tmp_coeffs),axis=0)"
   ]
  },
  {
   "cell_type": "code",
   "execution_count": 37,
   "metadata": {},
   "outputs": [
    {
     "data": {
      "text/plain": [
       "array([[3.43576412e-02, 3.43576412e-02, 3.43576412e-02, ...,\n",
       "        3.43576412e-02, 3.43576412e-02, 3.43576412e-02],\n",
       "       [6.87152825e-02, 6.87152825e-02, 6.87152825e-02, ...,\n",
       "        6.87152825e-02, 6.87152825e-02, 6.87152825e-02],\n",
       "       [1.03072924e-01, 1.03072924e-01, 1.03072924e-01, ...,\n",
       "        1.03072924e-01, 1.03072924e-01, 1.03072924e-01],\n",
       "       ...,\n",
       "       [1.34987590e+03, 1.34987590e+03, 1.34987590e+03, ...,\n",
       "        1.34987590e+03, 1.34987590e+03, 1.34987590e+03],\n",
       "       [1.34987597e+03, 1.34987597e+03, 1.34987597e+03, ...,\n",
       "        1.34987597e+03, 1.34987597e+03, 1.34987597e+03],\n",
       "       [1.34987601e+03, 1.34987601e+03, 1.34987601e+03, ...,\n",
       "        1.34987601e+03, 1.34987601e+03, 1.34987601e+03]])"
      ]
     },
     "execution_count": 37,
     "metadata": {},
     "output_type": "execute_result"
    }
   ],
   "source": [
    "csums"
   ]
  },
  {
   "cell_type": "code",
   "execution_count": 19,
   "metadata": {},
   "outputs": [],
   "source": [
    "#approximation error parameter\n",
    "tol = 1"
   ]
  },
  {
   "cell_type": "code",
   "execution_count": 38,
   "metadata": {},
   "outputs": [],
   "source": [
    "#set any coefficients below the threshold to zero\n",
    "inds_to_zero = np.where((csums < tol))[0]\n",
    "csums[inds_to_zero] = 0"
   ]
  },
  {
   "cell_type": "code",
   "execution_count": 39,
   "metadata": {},
   "outputs": [
    {
     "data": {
      "text/plain": [
       "array([ 0,  0,  0,  0,  0,  0,  0,  0,  1,  1,  1,  1,  1,  1,  1,  1,  2,\n",
       "        2,  2,  2,  2,  2,  2,  2,  3,  3,  3,  3,  3,  3,  3,  3,  4,  4,\n",
       "        4,  4,  4,  4,  4,  4,  5,  5,  5,  5,  5,  5,  5,  5,  6,  6,  6,\n",
       "        6,  6,  6,  6,  6,  7,  7,  7,  7,  7,  7,  7,  7,  8,  8,  8,  8,\n",
       "        8,  8,  8,  8,  9,  9,  9,  9,  9,  9,  9,  9, 10, 10, 10, 10, 10,\n",
       "       10, 10, 10, 11, 11, 11, 11, 11, 11, 11, 11, 12, 12, 12, 12, 12, 12,\n",
       "       12, 12, 13, 13, 13, 13, 13, 13, 13, 13, 14, 14, 14, 14, 14, 14, 14,\n",
       "       14, 15, 15, 15, 15, 15, 15, 15, 15, 16, 16, 16, 16, 16, 16, 16, 16,\n",
       "       17, 17, 17, 17, 17, 17, 17, 17, 18, 18, 18, 18, 18, 18, 18, 18, 19,\n",
       "       19, 19, 19, 19, 19, 19, 19, 20, 20, 20, 20, 20, 20, 20, 20, 21, 21,\n",
       "       21, 21, 21, 21, 21, 21, 22, 22, 22, 22, 22, 22, 22, 22, 23, 23, 23,\n",
       "       23, 23, 23, 23, 23, 24, 24, 24, 24, 24, 24, 24, 24, 25, 25, 25, 25,\n",
       "       25, 25, 25, 25, 26, 26, 26, 26, 26, 26, 26, 26, 27, 27, 27, 27, 27,\n",
       "       27, 27, 27, 28, 28, 28, 28, 28, 28, 28, 28], dtype=int64)"
      ]
     },
     "execution_count": 39,
     "metadata": {},
     "output_type": "execute_result"
    }
   ],
   "source": [
    "inds_to_zero"
   ]
  },
  {
   "cell_type": "code",
   "execution_count": 40,
   "metadata": {},
   "outputs": [
    {
     "data": {
      "text/plain": [
       "array([[   0.        ,    0.        ,    0.        , ...,    0.        ,\n",
       "           0.        ,    0.        ],\n",
       "       [   0.        ,    0.        ,    0.        , ...,    0.        ,\n",
       "           0.        ,    0.        ],\n",
       "       [   0.        ,    0.        ,    0.        , ...,    0.        ,\n",
       "           0.        ,    0.        ],\n",
       "       ...,\n",
       "       [1349.87590287, 1349.87590287, 1349.87590287, ..., 1349.87590287,\n",
       "        1349.87590287, 1349.87590287],\n",
       "       [1349.87596595, 1349.87596595, 1349.87596595, ..., 1349.87596595,\n",
       "        1349.87596595, 1349.87596595],\n",
       "       [1349.8760079 , 1349.8760079 , 1349.8760079 , ..., 1349.8760079 ,\n",
       "        1349.8760079 , 1349.8760079 ]])"
      ]
     },
     "execution_count": 40,
     "metadata": {},
     "output_type": "execute_result"
    }
   ],
   "source": [
    "csums"
   ]
  },
  {
   "cell_type": "code",
   "execution_count": 41,
   "metadata": {},
   "outputs": [],
   "source": [
    "nonzero_coeff_count = len(csums)"
   ]
  },
  {
   "cell_type": "code",
   "execution_count": 42,
   "metadata": {},
   "outputs": [
    {
     "data": {
      "text/plain": [
       "3270000"
      ]
     },
     "execution_count": 42,
     "metadata": {},
     "output_type": "execute_result"
    }
   ],
   "source": [
    "nonzero_coeff_count"
   ]
  },
  {
   "cell_type": "code",
   "execution_count": 43,
   "metadata": {},
   "outputs": [
    {
     "data": {
      "text/plain": [
       "(array([     29,      29,      29, ..., 3269999, 3269999, 3269999],\n",
       "       dtype=int64), array([0, 1, 2, ..., 5, 6, 7], dtype=int64))"
      ]
     },
     "execution_count": 43,
     "metadata": {},
     "output_type": "execute_result"
    }
   ],
   "source": [
    "np.nonzero(csums)"
   ]
  },
  {
   "cell_type": "code",
   "execution_count": 30,
   "metadata": {},
   "outputs": [
    {
     "data": {
      "text/plain": [
       "array([[2718562, 2718562, 2718562, ..., 2718562, 2718562, 2718562],\n",
       "       [2227161, 2227161, 2227161, ..., 2227161, 2227161, 2227161],\n",
       "       [2713764, 2713764, 2713764, ..., 2713764, 2713764, 2713764],\n",
       "       ...,\n",
       "       [ 110410,  110410,  110410, ...,  110410,  110410,  110410],\n",
       "       [ 122845,  122845,  122845, ...,  122845,  122845,  122845],\n",
       "       [ 110612,  110612,  110612, ...,  110612,  110612,  110612]],\n",
       "      dtype=int64)"
      ]
     },
     "execution_count": 30,
     "metadata": {},
     "output_type": "execute_result"
    }
   ],
   "source": [
    "#indices of absolute value of coefficients that would sort in ascending order\n",
    "indices = np.argsort(np.abs(coeffs['cA5']),axis=0)\n",
    "indices"
   ]
  },
  {
   "cell_type": "code",
   "execution_count": 35,
   "metadata": {},
   "outputs": [
    {
     "data": {
      "text/plain": [
       "3270000"
      ]
     },
     "execution_count": 35,
     "metadata": {},
     "output_type": "execute_result"
    }
   ],
   "source": [
    "len(indices)"
   ]
  },
  {
   "cell_type": "code",
   "execution_count": 48,
   "metadata": {},
   "outputs": [
    {
     "data": {
      "text/plain": [
       "array([      0,       0,       0, ..., 3269999, 3269999, 3269999],\n",
       "      dtype=int64)"
      ]
     },
     "execution_count": 48,
     "metadata": {},
     "output_type": "execute_result"
    }
   ],
   "source": [
    "inds_to_keep = np.where((indices > 29))[0]\n",
    "inds_to_keep"
   ]
  },
  {
   "cell_type": "code",
   "execution_count": 55,
   "metadata": {},
   "outputs": [
    {
     "data": {
      "text/plain": [
       "array([[0.18535814, 0.18535814, 0.18535814, ..., 0.00976373, 0.00794222,\n",
       "        0.0064771 ],\n",
       "       [0.18535814, 0.18535814, 0.18535814, ..., 0.00976373, 0.00794222,\n",
       "        0.0064771 ],\n",
       "       [0.18535814, 0.18535814, 0.18535814, ..., 0.00976373, 0.00794222,\n",
       "        0.0064771 ],\n",
       "       ...,\n",
       "       [0.18535814, 0.18535814, 0.18535814, ..., 0.00976373, 0.00794222,\n",
       "        0.0064771 ],\n",
       "       [0.18535814, 0.18535814, 0.18535814, ..., 0.00976373, 0.00794222,\n",
       "        0.0064771 ],\n",
       "       [0.18535814, 0.18535814, 0.18535814, ..., 0.00976373, 0.00794222,\n",
       "        0.0064771 ]])"
      ]
     },
     "execution_count": 55,
     "metadata": {},
     "output_type": "execute_result"
    }
   ],
   "source": [
    "np.swapaxes(coeffs['cA5'],0,1)"
   ]
  },
  {
   "cell_type": "code",
   "execution_count": 56,
   "metadata": {},
   "outputs": [],
   "source": [
    "selected = coeffs['cA5'][inds_to_keep]"
   ]
  },
  {
   "cell_type": "code",
   "execution_count": 65,
   "metadata": {},
   "outputs": [
    {
     "data": {
      "text/plain": [
       "array([[0.18535814, 0.18535814, 0.18535814, ..., 0.0064771 , 0.0064771 ,\n",
       "        0.0064771 ],\n",
       "       [0.18535814, 0.18535814, 0.18535814, ..., 0.0064771 , 0.0064771 ,\n",
       "        0.0064771 ],\n",
       "       [0.18535814, 0.18535814, 0.18535814, ..., 0.0064771 , 0.0064771 ,\n",
       "        0.0064771 ],\n",
       "       ...,\n",
       "       [0.18535814, 0.18535814, 0.18535814, ..., 0.0064771 , 0.0064771 ,\n",
       "        0.0064771 ],\n",
       "       [0.18535814, 0.18535814, 0.18535814, ..., 0.0064771 , 0.0064771 ,\n",
       "        0.0064771 ],\n",
       "       [0.18535814, 0.18535814, 0.18535814, ..., 0.0064771 , 0.0064771 ,\n",
       "        0.0064771 ]])"
      ]
     },
     "execution_count": 65,
     "metadata": {},
     "output_type": "execute_result"
    }
   ],
   "source": [
    "np.swapaxes(selected,0,1)"
   ]
  },
  {
   "cell_type": "code",
   "execution_count": 66,
   "metadata": {},
   "outputs": [
    {
     "data": {
      "text/plain": [
       "26159760"
      ]
     },
     "execution_count": 66,
     "metadata": {},
     "output_type": "execute_result"
    }
   ],
   "source": [
    "len(np.swapaxes(selected,0,1)[0])"
   ]
  },
  {
   "cell_type": "code",
   "execution_count": 64,
   "metadata": {},
   "outputs": [
    {
     "data": {
      "text/plain": [
       "26159760"
      ]
     },
     "execution_count": 64,
     "metadata": {},
     "output_type": "execute_result"
    }
   ],
   "source": [
    "len(selected)"
   ]
  },
  {
   "cell_type": "code",
   "execution_count": 50,
   "metadata": {},
   "outputs": [
    {
     "ename": "IndexError",
     "evalue": "index 3270000 is out of bounds for axis 0 with size 3270000",
     "output_type": "error",
     "traceback": [
      "\u001b[1;31m---------------------------------------------------------------------------\u001b[0m",
      "\u001b[1;31mIndexError\u001b[0m                                Traceback (most recent call last)",
      "\u001b[1;32m<ipython-input-50-9c78b670244f>\u001b[0m in \u001b[0;36m<module>\u001b[1;34m\u001b[0m\n\u001b[1;32m----> 1\u001b[1;33m \u001b[0mselect\u001b[0m \u001b[1;33m=\u001b[0m \u001b[0mcoeffs\u001b[0m\u001b[1;33m[\u001b[0m\u001b[1;34m'cA5'\u001b[0m\u001b[1;33m]\u001b[0m\u001b[1;33m[\u001b[0m\u001b[0mnp\u001b[0m\u001b[1;33m.\u001b[0m\u001b[0margwhere\u001b[0m\u001b[1;33m(\u001b[0m\u001b[0mcsums\u001b[0m \u001b[1;33m>\u001b[0m \u001b[0mtol\u001b[0m\u001b[1;33m)\u001b[0m\u001b[1;33m-\u001b[0m\u001b[1;36m1\u001b[0m\u001b[1;33m]\u001b[0m\u001b[1;33m\u001b[0m\u001b[1;33m\u001b[0m\u001b[0m\n\u001b[0m",
      "\u001b[1;31mIndexError\u001b[0m: index 3270000 is out of bounds for axis 0 with size 3270000"
     ]
    }
   ],
   "source": [
    "select = coeffs['cA5'][np.argwhere(csums > tol)]"
   ]
  },
  {
   "cell_type": "code",
   "execution_count": null,
   "metadata": {},
   "outputs": [],
   "source": [
    "def threshold_energy(coeffs):\n",
    "    #make a deep copy of coeffs to retain the original version\n",
    "    coeffs_orig = copy.deepcopy(coeffs)\n",
    "\n",
    "    binary_map = {}\n",
    "    nonzero_coeff_count = {}\n",
    "\n",
    "    for key in coeffs.keys():\n",
    "        #sort the absolute value of the coefficients in ascending order\n",
    "        tmp_coeffs = np.sort(np.abs(coeffs[key]))\n",
    "\n",
    "        #calculate the threshold for retaining some percentage of the energy\n",
    "        if key == 'cA5':\n",
    "            thresh_perc = THRESH_PERC_APPROX\n",
    "        elif key == 'cD5':\n",
    "            thresh_perc = THRESH_PERC_D5\n",
    "        else:\n",
    "            thresh_perc = THRESH_PERC_D4_D1\n",
    "\n",
    "        energy_thresholded = thresh_perc*energy(tmp_coeffs)\n",
    "        energy_tmp = 0\n",
    "        for coeff in tmp_coeffs:\n",
    "            energy_tmp = energy_tmp + coeff**2\n",
    "\n",
    "            if energy_tmp >= energy_thresholded:\n",
    "                threshold = coeff\n",
    "                break\n",
    "\n",
    "        #set any coefficients below the threshold to zero\n",
    "        tmp_coeffs = coeffs[key]\n",
    "        inds_to_zero = np.where((tmp_coeffs < threshold) & (tmp_coeffs > -threshold))[0]\n",
    "        tmp_coeffs[inds_to_zero] = 0\n",
    "        \n",
    "        #create array of selected wavelet coefficients\n",
    "        coeffs[key] = tmp_coeffs\n",
    "        nonzero_coeff_count[key] = len(tmp_coeffs)\n",
    "        \n",
    "    return nonzero_coeff_count   "
   ]
  },
  {
   "cell_type": "markdown",
   "metadata": {},
   "source": [
    "### Step 2: Quantization\n",
    "A mid-tread uniform quantizer transforms the selected wavelet coefficients into integers."
   ]
  },
  {
   "cell_type": "markdown",
   "metadata": {},
   "source": [
    "Scale the wavelet coefficients to the [0,1] range."
   ]
  },
  {
   "cell_type": "code",
   "execution_count": null,
   "metadata": {},
   "outputs": [],
   "source": [
    "def scale_coeffs(coeffs, do_plot=False):\n",
    "    coeffs_scaled = {}\n",
    "    scaling_factors = {}\n",
    "\n",
    "    for key in coeffs.keys():\n",
    "        shift_factor = np.min(coeffs[key])\n",
    "        coeffs_tmp = coeffs[key]-shift_factor\n",
    "\n",
    "        scale_factor = np.max(coeffs_tmp)\n",
    "        coeffs_tmp = coeffs_tmp/scale_factor\n",
    "\n",
    "        scaling_factors[key] = {'shift_factor': shift_factor, 'scale_factor': scale_factor}\n",
    "        coeffs_scaled[key] = coeffs_tmp\n",
    "    return coeffs_scaled, scaling_factors"
   ]
  },
  {
   "cell_type": "markdown",
   "metadata": {},
   "source": [
    "Calculate the lowest possible number of bits to quantize the wavelet coefficients such that the PRD is above the threshold.\n",
    "1. Quantize the signal starting at 8 bits\n",
    "1. Unquantize and reconstruct the signal\n",
    "1. Calculate the PRD.\n",
    "1. Repeat with 1 fewer bit (ie, 7 bits), ..."
   ]
  },
  {
   "cell_type": "code",
   "execution_count": null,
   "metadata": {},
   "outputs": [],
   "source": [
    "def calculate_num_bits(orig_sig, coeffs_scaled, binary_map, scaling_factors, do_plot=False):\n",
    "    #starting at 8 bits, keep decreasing the number of bits in the quantization\n",
    "    #until the PRD is above some threshold\n",
    "    num_bits = 9\n",
    "\n",
    "    #initialize PRD to 0 so the while loop can run\n",
    "    PRD = 0\n",
    "\n",
    "    #keep track of PRD per number of bits\n",
    "    PRD_dict = {}\n",
    "    \n",
    "    while (num_bits >= 5) and (PRD <= MAX_PRD):\n",
    "        #decrement the number of bits\n",
    "        num_bits = num_bits-1\n",
    "\n",
    "        coeffs_quantized = do_quantization(coeffs_scaled, num_bits)\n",
    "\n",
    "        #rescale the coefficients\n",
    "        coeffs_unscaled = unscale_coeffs(None, coeffs_quantized, scaling_factors, num_bits)\n",
    "\n",
    "        #do the inverse dwt\n",
    "        data_reconstructed = wavelet_reconstruction(coeffs_unscaled, None, None)\n",
    "\n",
    "        #calculate PRD\n",
    "        PRD = calculate_PRD(orig_sig, data_reconstructed)\n",
    "        PRD_dict[num_bits] = PRD\n",
    "\n",
    "        #plot the reconstructed signals \n",
    "        if do_plot:\n",
    "            if PRD <= MAX_PRD:\n",
    "                plt.plot(t, data_reconstructed, label='Reconstructed @ %i Bits, PRD = %.2f' % (num_bits, PRD))\n",
    "\n",
    "    #if we went over the PRD, go back up by one bit\n",
    "    if PRD > MAX_PRD:\n",
    "        num_bits = num_bits+1\n",
    "        PRD = PRD_dict[num_bits]\n",
    "    \n",
    "    return num_bits, PRD"
   ]
  },
  {
   "cell_type": "markdown",
   "metadata": {},
   "source": [
    "Quantization:\n",
    "1. Take in the scaled wavelet coefficients\n",
    "1. Multiply by 2^(num bits)\n",
    "1. Round to the nearest integer."
   ]
  },
  {
   "cell_type": "code",
   "execution_count": null,
   "metadata": {},
   "outputs": [],
   "source": [
    "def do_quantization(coeffs, bits, do_plot=False):\n",
    "    quantized_coeffs = {}\n",
    "\n",
    "    for key in coeffs.keys():\n",
    "        sig = coeffs[key]\n",
    "        sig = sig*(2**bits-1)\n",
    "        sig = np.round(sig)\n",
    "        sig = np.array(sig).astype(int)\n",
    "\n",
    "        quantized_coeffs[key] = sig\n",
    "        \n",
    "    return quantized_coeffs"
   ]
  },
  {
   "cell_type": "markdown",
   "metadata": {},
   "source": [
    "### Step 3: Organization and Storage Step\n",
    "1. Re-order indices in ascending order. This re-orders coefficients and corresponding signs.\n",
    "1. Store re-ordered indices as smaller positive numbers by taking differences between two consecutive values. \n",
    "1. Save the size of the singal, the quantization parameter, and the arrays (reordered coefficients, signs, and indices) in HDF5 format."
   ]
  },
  {
   "cell_type": "code",
   "execution_count": null,
   "metadata": {},
   "outputs": [],
   "source": []
  },
  {
   "cell_type": "markdown",
   "metadata": {},
   "source": [
    "#### Reference MATLAB Code"
   ]
  },
  {
   "cell_type": "code",
   "execution_count": null,
   "metadata": {},
   "outputs": [],
   "source": [
    "#\n",
    "clear \n",
    "# Options\n",
    "baseline=0 # does not modify raw data\n",
    "mywname='cdf97' # wavelet family\n",
    "wlevel=4 # decomposition level\n",
    "store=0 # Change to 1 to add Huffman entropy coding\n",
    "\n",
    "dat=input('Please enter record number (from the MIT_BIHA_database) \\n ','s');\n",
    "icase=input('Please enter approximation method (a or b) \\n','s');\n",
    "if icase=='a'\n",
    "PRD0=input('Please enter PRD0 (e.g. 0.4217)  \\n');\n",
    "end\n",
    "\n",
    "del=input('Please enter quantization parameter (e.g. 32 for a) and 39 for b) \\n');\n",
    "%\n",
    "\n",
    "filenamer=['ECG_Compression/MIT_BIHA_DATA/Record_' char(strcat(dat, '_11bits.dat'))];\n",
    "filenamew_tmp='ECG_Compression/Comp_Record.mat'\n",
    "fid=fopen(filenamer,'r');\n",
    "f=fread(fid,'ubit11');\n",
    "fclose(fid);\n",
    "\n",
    "f=f-baseline;\n",
    "tic\n",
    "base=0;\n",
    "[fw,wl]=mydwt(f,wlevel,mywname);\n",
    "L=numel(fw);\n",
    "if icase=='a'\n",
    "tol=PRD0*norm(f)/100;\n",
    "[cs,wind]=SLWC(fw,tol);\n",
    "end\n",
    "if icase=='b'\n",
    "cs=fw;\n",
    "wind=1:numel(fw);\n",
    "wind=wind';\n",
    "end\n",
    "\n",
    "# quantization of wavelet coefficients\n",
    "csq=sign(cs).*floor(abs(cs)/del+0.5);\n",
    "I0=find(csq==0);\n",
    "if isempty(I0)==0 # remove the zeros\n",
    "csq(I0)=[];\n",
    "wind(I0)=[];\n",
    "end\n",
    "\n",
    "# Organization and Storage\n",
    "clear vc vi vs\n",
    "[or,ior]=sort(wind); # sort the indices\n",
    "vc=abs(csq(ior)); \n",
    "\n",
    "# take differences\n",
    "vi=[or(1) diff(or)'];\n",
    "# invert with cumsum([vi]);\n",
    "# vi=vdif(or); # take differences\n",
    "vs=(sign(csq(ior))+ 1)./2; # encode the signs as zeros and ones\n",
    "\n",
    "if store==0;\n",
    "save (filenamew_tmp, 'del','L', 'vi', 'vc', 'vs'); # save in HDF5 format\n",
    "else\n",
    "xS{1}=vs;\n",
    "xC{1}=vi;\n",
    "xCC{1}=vc;\n",
    "ys=Huff06(xS);\n",
    "yc=Huff06(xCC);\n",
    "yi=Huff06(xC);\n",
    "save (filenamew_tmp, 'del','L','yi','yc','ys'); # save in HDF5 format\n",
    "end\n",
    "hf11=dir(filenamer);\n",
    "hfH=dir(filenamew_tmp);\n",
    "CR=hf11.bytes/hfH.bytes #calculate CR\n",
    "toc"
   ]
  },
  {
   "cell_type": "markdown",
   "metadata": {},
   "source": [
    "## Data Reconstruction"
   ]
  },
  {
   "cell_type": "markdown",
   "metadata": {},
   "source": [
    "### Wavelet Reconstruction"
   ]
  },
  {
   "cell_type": "code",
   "execution_count": null,
   "metadata": {},
   "outputs": [],
   "source": [
    "def dwt_reconstruct(coeffs):\n",
    "    reconstructed = pywt.waverec([coeffs['cA5'], coeffs['cD5'], coeffs['cD4'], coeffs['cD3'], \n",
    "                                    coeffs['cD2'], coeffs['cD1']], 'bior4.4')\n",
    "    return reconstructed"
   ]
  }
 ],
 "metadata": {
  "kernelspec": {
   "display_name": "Python 3",
   "language": "python",
   "name": "python3"
  },
  "language_info": {
   "codemirror_mode": {
    "name": "ipython",
    "version": 3
   },
   "file_extension": ".py",
   "mimetype": "text/x-python",
   "name": "python",
   "nbconvert_exporter": "python",
   "pygments_lexer": "ipython3",
   "version": "3.7.3"
  }
 },
 "nbformat": 4,
 "nbformat_minor": 4
}
