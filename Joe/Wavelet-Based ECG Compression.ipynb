{
 "cells": [
  {
   "cell_type": "markdown",
   "metadata": {},
   "source": [
    "# Wavelet Transform and Run-Length Encoding\n",
    "## 1. Import libraries"
   ]
  },
  {
   "cell_type": "code",
   "execution_count": 1,
   "metadata": {},
   "outputs": [],
   "source": [
    "%matplotlib inline\n",
    "import matplotlib.pyplot as plt\n",
    "from pywt import wavedec\n",
    "import pywt\n",
    "import numpy as np\n",
    "import pandas as pd\n",
    "from scipy.stats import iqr\n",
    "import sys\n",
    "import copy\n",
    "from scipy.signal import detrend\n",
    "import copy "
   ]
  },
  {
   "cell_type": "markdown",
   "metadata": {},
   "source": [
    "## 2. Define constants"
   ]
  },
  {
   "cell_type": "code",
   "execution_count": 2,
   "metadata": {},
   "outputs": [],
   "source": [
    "FS = 1000 #define the sampling rate\n",
    "\n",
    "#define the number of samples of data to compress in each block \n",
    "#NOTE: changing the block length affects the compression scheme for the binary map\n",
    "#changing the block length means that NUM_BITS_RUN_LEN will probably have to be changed too \n",
    "NUM_SAMPLES_BLOCK = 2830000 \n",
    "\n",
    "#NOTE: these lengths are hard coded based on a block size of NUM_SAMPLES_BLOCK=30000\n",
    "#COEFF_LENGTHS = {'cA5': 946, 'cD5': 946, 'cD4': 1883, 'cD3': 3757, 'cD2': 7506, 'cD1': 15004}\n",
    "COEFF_LENGTHS = {'cA5': 102, 'cD5': 102, 'cD4': 195, 'cD3': 382, 'cD2': 756, 'cD1': 1504}\n",
    "\n",
    "#number of bits that can be used to represent the run length. a 4 bit number corresponds to \n",
    "#a max value of 2**4-1 = 15 bits, which is equal to 32767. so in other words, if the entire\n",
    "#binary map was all 1 or all 0, NUM_BITS_RUN_LEN=4 means we can represent a run of 32767\n",
    "#consecutive 0's or 1's\n",
    "NUM_BITS_RUN_LEN = 4\n",
    "\n",
    "#don't allow the PRD to be greater than 5%\n",
    "MAX_PRD = 0.4\n",
    "\n",
    "#define PRD0 = 70-80% of the required PRD = target PRD before quantization\n",
    "#separate percentage for approximate and detailed coefficients\n",
    "PRD0_APPROX = 0.1\n",
    "PRD0_D5 = 0.1\n",
    "PRD0_D4_D1 = 0.1\n",
    "\n",
    "#quantization parameter\n",
    "Q_PARAM = 32"
   ]
  },
  {
   "cell_type": "markdown",
   "metadata": {},
   "source": [
    "## 3. Define functions  \n",
    "\n",
    "### wavelet decomposition\n",
    "*The wavelet used in this algorithm is bior4.4, with 5 levels of decomposition.*"
   ]
  },
  {
   "cell_type": "code",
   "execution_count": 3,
   "metadata": {},
   "outputs": [],
   "source": [
    "def wavelet_decomposition(sig, do_plot):\n",
    "    cA5, cD5, cD4, cD3, cD2, cD1 = wavedec(sig, 'bior4.4', level=5)\n",
    "    coeffs = {'cA5': cA5, 'cD5': cD5, 'cD4': cD4, 'cD3': cD3, 'cD2': cD2, 'cD1': cD1}\n",
    "\n",
    "    if do_plot:\n",
    "        print('Plot of wavelet decomposition for all levels')\n",
    "        plt.subplots(figsize=(16,9))\n",
    "\n",
    "        plt.subplot(6,1,1)\n",
    "        plt.plot(coeffs['cA5'])\n",
    "        plt.title('cA5')\n",
    "        plt.xlim(374000,376000)\n",
    "\n",
    "        plt.subplot(6,1,2)\n",
    "        plt.plot(coeffs['cD5'])\n",
    "        plt.title('cD5')\n",
    "        plt.xlim(374000,376000)\n",
    "\n",
    "        plt.subplot(6,1,3)\n",
    "        plt.plot(coeffs['cD4'])\n",
    "        plt.title('cD4')\n",
    "        plt.xlim(374000,376000)\n",
    "\n",
    "        plt.subplot(6,1,4)\n",
    "        plt.plot(coeffs['cD3'])\n",
    "        plt.title('cD3')\n",
    "        plt.xlim(374000,376000)\n",
    "\n",
    "        plt.subplot(6,1,5)\n",
    "        plt.plot(coeffs['cD2'])\n",
    "        plt.title('cD2')\n",
    "        plt.xlim(374000,376000)\n",
    "\n",
    "        plt.subplot(6,1,6)\n",
    "        plt.plot(coeffs['cD1'])\n",
    "        plt.title('cD1')\n",
    "        plt.xlim(374000,376000)\n",
    "        plt.xlabel('Index')\n",
    "\n",
    "        plt.tight_layout()\n",
    "        #plt.savefig('figs/wavelet_decomposition.png', dpi=150)\n",
    "        plt.show()\n",
    "\n",
    "    return coeffs"
   ]
  },
  {
   "cell_type": "markdown",
   "metadata": {},
   "source": [
    "### wavelet reconstruction\n",
    "*the wavelet is bior4.4 with 5 levels of decomposition*"
   ]
  },
  {
   "cell_type": "code",
   "execution_count": 4,
   "metadata": {},
   "outputs": [],
   "source": [
    "def wavelet_reconstruction(coeffs, orig_data, CR, do_plot=False):\n",
    "    reconstructed = pywt.waverec([coeffs['cA5'], coeffs['cD5'], coeffs['cD4'], coeffs['cD3'], \n",
    "                                    coeffs['cD2'], coeffs['cD1']], 'bior4.4')\n",
    "\n",
    "\n",
    "    if do_plot:\n",
    "        print('Plot of original signal through the process of compression and decompression:')\n",
    "        \n",
    "        t = [i/FS for i in range(NUM_SAMPLES_BLOCK)]\n",
    "        plt.subplots(figsize=(16,9))\n",
    "        plt.plot(t, orig_data, label='Original Signal')\n",
    "        plt.plot(t, reconstructed, label='Reconstructed Signal')\n",
    "        #plt.title('Compression Ratio: %.1f' % CR)\n",
    "        plt.xlabel('Time (seconds)')\n",
    "        plt.ylabel('Amplitude (mV)')\n",
    "        plt.tight_layout()\n",
    "        plt.legend(loc=1)\n",
    "        axes = plt.gca()\n",
    "        axes.set_xlim((17, 21.5))\n",
    "        # plt.savefig('figs/reconstructed.png', dpi=150)\n",
    "        plt.show()\n",
    "\n",
    "    return reconstructed"
   ]
  },
  {
   "cell_type": "markdown",
   "metadata": {},
   "source": [
    "### threshold wavelet coefficients to a percentage of total energy\n",
    "*Different levels of decomposition are thresholded at different energy percentages.*  \n",
    "1. calculate the energy of all the coefficients\n",
    "1. compute threshold for each coefficient matrix\n",
    "1. keep corresponding coefficients that are above the threshold"
   ]
  },
  {
   "cell_type": "code",
   "execution_count": 5,
   "metadata": {},
   "outputs": [],
   "source": [
    "def threshold_energy(coeffs, do_plot=False):\n",
    "    #make a deep copy of coeffs to retain the original version\n",
    "    coeffs_orig = copy.deepcopy(coeffs)\n",
    "\n",
    "    binary_map = {}\n",
    "    nonzero_coeff_count = {}\n",
    "\n",
    "    for key in coeffs.keys():\n",
    "        #sort the absolute value of the coefficients in ascending order\n",
    "        tmp_coeffs = np.sort(np.abs(coeffs[key]),axis=0)\n",
    "        #get indices of sorted coefficients in original list\n",
    "        ic = np.argsort(np.abs(coeffs[key]),axis=0)\n",
    "\n",
    "        #calculate the threshold for retaining some percentage of the largest coefficients\n",
    "        if key == 'cA5':\n",
    "            PRD0 = PRD0_APPROX\n",
    "        elif key == 'cD5':\n",
    "            PRD0 = PRD0_D5\n",
    "        else:\n",
    "            PRD0 = PRD0_D4_D1\n",
    "          \n",
    "        #find indices of coefficients below the threshold\n",
    "        temp1d = np.swapaxes(tmp_coeffs,0,1)[0]\n",
    "        tol = PRD0*np.linalg.norm(temp1d,2)/100\n",
    "        nerror = np.cumsum(tmp_coeffs**2,axis=0)\n",
    "        thresh_ind = np.unique(np.where(nerror >= tol**2)[0])\n",
    "        keep_ind = np.swapaxes(ic[thresh_ind],0,1)[0]\n",
    "        keep_ind = np.sort(keep_ind)\n",
    "\n",
    "        #remove any coefficients below the threshold\n",
    "        tmp_coeffs = coeffs[key]\n",
    "        tmp_coeffs = tmp_coeffs[keep_ind]\n",
    "\n",
    "        #create the binary map\n",
    "        binary_map_tmp = np.zeros(len(coeffs[key])).astype(int)\n",
    "        binary_map_tmp[keep_ind] = 1\n",
    "\n",
    "        #update the various dictionaries\n",
    "        coeffs[key] = tmp_coeffs\n",
    "        binary_map[key] = binary_map_tmp\n",
    "        nonzero_coeff_count[key] = len(tmp_coeffs)\n",
    "\n",
    "\n",
    "    if do_plot:\n",
    "        print('Plot of thresholded vs unthresholded coefficients:')\n",
    "        plt.subplots(figsize=(16,9))\n",
    "\n",
    "        plt.subplot(6,1,1)\n",
    "        plt.plot(coeffs_orig['cA5'], label='Original')\n",
    "        plt.plot(coeffs['cA5'], label='Thresholded')\n",
    "        plt.legend(loc=1)\n",
    "        plt.xlim(374000,376000)\n",
    "        plt.title('cA5')\n",
    "\n",
    "        plt.subplot(6,1,2)\n",
    "        plt.plot(np.swapaxes(coeffs_orig['cD5'],0,1)[0], label='Original')\n",
    "        plt.plot(np.swapaxes(coeffs['cD5'],0,1)[0], label='Thresholded')\n",
    "        plt.legend(loc=1)\n",
    "        plt.xlim(374000,376000)\n",
    "        plt.title('cD5')\n",
    "\n",
    "        plt.subplot(6,1,3)\n",
    "        plt.plot(coeffs_orig['cD4'], label='Original')\n",
    "        plt.plot(coeffs['cD4'], label='Thresholded')\n",
    "        plt.legend(loc=1)\n",
    "        plt.xlim(374000,376000)\n",
    "        plt.title('cD4')\n",
    "\n",
    "        plt.subplot(6,1,4)\n",
    "        plt.plot(coeffs_orig['cD3'], label='Original')\n",
    "        plt.plot(coeffs['cD3'], label='Thresholded')\n",
    "        plt.legend(loc=1)\n",
    "        plt.xlim(374000,376000)\n",
    "        plt.title('cD3')\n",
    "\n",
    "        plt.subplot(6,1,5)\n",
    "        plt.plot(coeffs_orig['cD2'], label='Original')\n",
    "        plt.plot(coeffs['cD2'], label='Thresholded')\n",
    "        plt.legend(loc=1)\n",
    "        plt.xlim(374000,376000)\n",
    "        plt.title('cD2')\n",
    "\n",
    "        plt.subplot(6,1,6)\n",
    "        plt.plot(coeffs_orig['cD1'], label='Original')\n",
    "        plt.plot(coeffs['cD1'], label='Thresholded')\n",
    "        plt.legend(loc=1)\n",
    "        plt.xlim(374000,376000)\n",
    "        plt.xlabel('Index')\n",
    "\n",
    "        plt.tight_layout()\n",
    "        # plt.savefig('figs/wavelet_thresholding.png', dpi=150)\n",
    "        plt.show()\n",
    "\n",
    "        \n",
    "    return coeffs, binary_map"
   ]
  },
  {
   "cell_type": "markdown",
   "metadata": {},
   "source": [
    "### scale the wavelet coefficients to the [0,1] range\n",
    "*two scaling factors: a shift factor and a multiplication factor*"
   ]
  },
  {
   "cell_type": "code",
   "execution_count": 6,
   "metadata": {},
   "outputs": [],
   "source": [
    "def scale_coeffs(coeffs, do_plot=False):\n",
    "    coeffs_scaled = {}\n",
    "    scaling_factors = {}\n",
    "\n",
    "    for key in coeffs.keys():\n",
    "        shift_factor = np.min(coeffs[key])\n",
    "        coeffs_tmp = coeffs[key]-shift_factor\n",
    "\n",
    "        scale_factor = np.max(coeffs_tmp)\n",
    "        coeffs_tmp = coeffs_tmp/scale_factor\n",
    "\n",
    "        scaling_factors[key] = {'shift_factor': shift_factor, 'scale_factor': scale_factor}\n",
    "        coeffs_scaled[key] = coeffs_tmp\n",
    "\n",
    "\n",
    "    if do_plot:\n",
    "        print('Plot of scaled coefficients:')\n",
    "        plt.subplots(figsize=(16,9))\n",
    "\n",
    "        plt.subplot(6,1,1)\n",
    "        plt.plot(coeffs_scaled['cA5'])\n",
    "        plt.title('cA5')\n",
    "\n",
    "        plt.subplot(6,1,2)\n",
    "        plt.plot(coeffs_scaled['cD5'])\n",
    "        plt.title('cD5')\n",
    "\n",
    "        plt.subplot(6,1,3)\n",
    "        plt.plot(coeffs_scaled['cD4'])\n",
    "        plt.title('cD4')\n",
    "\n",
    "        plt.subplot(6,1,4)\n",
    "        plt.plot(coeffs_scaled['cD3'])\n",
    "        plt.title('cD3')\n",
    "\n",
    "        plt.subplot(6,1,5)\n",
    "        plt.plot(coeffs_scaled['cD2'])\n",
    "        plt.title('cD2')\n",
    "\n",
    "        plt.subplot(6,1,6)\n",
    "        plt.plot(coeffs_scaled['cD1'])\n",
    "        plt.title('cD1')\n",
    "        plt.xlabel('Index')\n",
    "\n",
    "        plt.tight_layout()\n",
    "        # plt.savefig('figs/wavelet_scaled.png', dpi=150)\n",
    "        plt.show()\n",
    "\n",
    "\n",
    "    return coeffs_scaled, scaling_factors"
   ]
  },
  {
   "cell_type": "markdown",
   "metadata": {},
   "source": [
    "### unscale the coefficients back to their original scaling"
   ]
  },
  {
   "cell_type": "code",
   "execution_count": 7,
   "metadata": {},
   "outputs": [],
   "source": [
    "def unscale_coeffs(coeffs_orig, coeffs_reconstructed, scaling_factors, bits, do_plot=False):\n",
    "    coeffs_unscaled = {}\n",
    "\n",
    "    for key in coeffs_reconstructed.keys():\n",
    "        tmp_coeffs_unscaled = coeffs_reconstructed[key]/(2**bits)\n",
    "        tmp_coeffs_unscaled = tmp_coeffs_unscaled*scaling_factors[key]['scale_factor']\n",
    "        tmp_coeffs_unscaled = tmp_coeffs_unscaled + scaling_factors[key]['shift_factor']\n",
    "\n",
    "        #now replace the NaN values with 0\n",
    "        nan_inds = np.where(np.isnan(tmp_coeffs_unscaled))[0]\n",
    "        tmp_coeffs_unscaled[nan_inds] = 0\n",
    "\n",
    "        coeffs_unscaled[key] = tmp_coeffs_unscaled\n",
    "\n",
    "\n",
    "    if do_plot:\n",
    "        print('Plot of wavelet coefficients before scaling and after rescaling:')\n",
    "        plt.subplots(figsize=(16,9))\n",
    "\n",
    "        plt.subplot(6,1,1)\n",
    "        plt.plot(coeffs_orig['cA5'], label='Before Scaling')\n",
    "        plt.plot(coeffs_unscaled['cA5'], label='After Rescaling')\n",
    "        plt.legend(loc=1)\n",
    "        plt.title('cA5')\n",
    "\n",
    "        plt.subplot(6,1,2)\n",
    "        plt.plot(coeffs_orig['cD5'], label='Before Scaling')\n",
    "        plt.plot(coeffs_unscaled['cD5'], label='After Rescaling')\n",
    "        plt.legend(loc=1)\n",
    "        plt.title('cD5')\n",
    "\n",
    "        plt.subplot(6,1,3)\n",
    "        plt.plot(coeffs_orig['cD4'], label='Before Scaling')\n",
    "        plt.plot(coeffs_unscaled['cD4'], label='After Rescaling')\n",
    "        plt.legend(loc=1)\n",
    "        plt.title('cD4')\n",
    "\n",
    "        plt.subplot(6,1,4)\n",
    "        plt.plot(coeffs_orig['cD3'], label='Before Scaling')\n",
    "        plt.plot(coeffs_unscaled['cD3'], label='After Rescaling')\n",
    "        plt.legend(loc=1)\n",
    "        plt.title('cD3')\n",
    "\n",
    "        plt.subplot(6,1,5)\n",
    "        plt.plot(coeffs_orig['cD2'], label='Before Scaling')\n",
    "        plt.plot(coeffs_unscaled['cD2'], label='After Rescaling')\n",
    "        plt.legend(loc=1)\n",
    "        plt.title('cD2')\n",
    "\n",
    "        plt.subplot(6,1,6)\n",
    "        plt.plot(coeffs_orig['cD1'], label='Before Scaling')\n",
    "        plt.plot(coeffs_unscaled['cD1'], label='After Rescaling')\n",
    "        plt.legend(loc=1)\n",
    "        plt.xlabel('Index')\n",
    "\n",
    "        plt.tight_layout()\n",
    "        # plt.savefig('figs/wavelet_rescaled.png', dpi=150)\n",
    "        plt.show()\n",
    "\n",
    "\n",
    "\n",
    "    return coeffs_unscaled"
   ]
  },
  {
   "cell_type": "markdown",
   "metadata": {},
   "source": [
    "### calculate the lowest possible number of bits to quantize the wavelet coefficients such that the PRD is above the threshold\n",
    "1. quantize the signal starting at 8 bits\n",
    "1. unquantize and reconstruct the signal\n",
    "1. calculate the PRD. Repeat with 1 fewer bit (ie, 7 bits)\n",
    "1. repeat"
   ]
  },
  {
   "cell_type": "code",
   "execution_count": 8,
   "metadata": {},
   "outputs": [],
   "source": [
    "def calculate_num_bits(orig_sig, coeffs_scaled, binary_map, scaling_factors, do_plot=False):\n",
    "    #starting at 8 bits, keep decreasing the number of bits in the quantization\n",
    "    #until the PRD is above some threshold\n",
    "    num_bits = 9\n",
    "\n",
    "    #initialize PRD to 0 so the while loop can run\n",
    "    PRD = 0\n",
    "\n",
    "    #keep track of PRD per number of bits\n",
    "    PRD_dict = {}\n",
    "\n",
    "    if do_plot:\n",
    "        plt.subplots(figsize=(16,9))\n",
    "        t = [i/FS for i in range(NUM_SAMPLES_BLOCK)]\n",
    "        plt.plot(t, orig_sig, label='Original Signal')\n",
    "\n",
    "\n",
    "    while (num_bits >= 5) and (PRD <= MAX_PRD):\n",
    "        #decrement the number of bits\n",
    "        num_bits = num_bits-1\n",
    "\n",
    "        coeffs_quantized = do_quantization(coeffs_scaled, num_bits)\n",
    "\n",
    "        #rescale the coefficients\n",
    "        coeffs_unscaled = unscale_coeffs(None, coeffs_quantized, scaling_factors, num_bits)\n",
    "\n",
    "        #do the inverse dwt\n",
    "        data_reconstructed = wavelet_reconstruction(coeffs_unscaled, None, None)\n",
    "\n",
    "        #calculate PRD\n",
    "        PRD = calculate_PRD(orig_sig, data_reconstructed)\n",
    "        PRD_dict[num_bits] = PRD\n",
    "\n",
    "        #plot the reconstructed signals \n",
    "        if do_plot:\n",
    "            if PRD <= MAX_PRD:\n",
    "                plt.plot(t, data_reconstructed, label='Reconstructed @ %i Bits, PRD = %.2f' % (num_bits, PRD))\n",
    "\n",
    "    #if we went over the PRD, go back up by one bit\n",
    "    if PRD > MAX_PRD:\n",
    "        num_bits = num_bits+1\n",
    "        PRD = PRD_dict[num_bits]\n",
    "\n",
    "    #plot some more stuff\n",
    "    if do_plot:\n",
    "        print('Plots of reconstructed signals vs number of bits used for quantization:')\n",
    "        plt.legend(loc=1)\n",
    "        plt.tight_layout()\n",
    "        plt.xlabel('Time (seconds)')\n",
    "        plt.ylabel('Amplitude (mV)')\n",
    "        axes = plt.gca()\n",
    "        axes.set_xlim((17, 21.5))\n",
    "        # plt.savefig('figs/PRD.png', dpi=150)\n",
    "        plt.show()\n",
    "\n",
    "\n",
    "    return num_bits, PRD"
   ]
  },
  {
   "cell_type": "markdown",
   "metadata": {},
   "source": [
    "### combine all the wavelet coefficients into one continuous array\n",
    "*done for each decomposition level and for binary map*"
   ]
  },
  {
   "cell_type": "code",
   "execution_count": 9,
   "metadata": {},
   "outputs": [],
   "source": [
    "def combine_coefficients(coeffs, binary_map=None):\n",
    "    coeffs_combined = []\n",
    "\n",
    "    #loop through each of the wavelet decompositions and remove zero values based \n",
    "    #on the binary map\n",
    "    if binary_map is not None:\n",
    "        for key in coeffs.keys():\n",
    "            inds_to_keep = np.where(binary_map[key]==1)[0]\n",
    "            coeffs[key] = coeffs[key][inds_to_keep]\n",
    "\n",
    "    #add in each array to coeffs_combined\n",
    "    coeffs_combined.extend(coeffs['cA5'])\n",
    "    coeffs_combined.extend(coeffs['cD5'])\n",
    "    coeffs_combined.extend(coeffs['cD4'])\n",
    "    coeffs_combined.extend(coeffs['cD3'])\n",
    "    coeffs_combined.extend(coeffs['cD2'])\n",
    "    coeffs_combined.extend(coeffs['cD1'])\n",
    "\n",
    "    return coeffs_combined"
   ]
  },
  {
   "cell_type": "markdown",
   "metadata": {},
   "source": [
    "### map the wavelet coefficients (and the binary map) back to their original decomposition levels\n",
    "*necessary prerequisite for reconstruction of the time domain waveform*"
   ]
  },
  {
   "cell_type": "code",
   "execution_count": 10,
   "metadata": {},
   "outputs": [],
   "source": [
    "def remap_coeffs(coeffs, binary_map):\n",
    "    coeffs_remapped = np.zeros(len(binary_map))*np.nan\n",
    "    inds_to_set = np.where(binary_map==1)[0]\n",
    "    coeffs_remapped[inds_to_set] = coeffs\n",
    "\n",
    "    wavelet_remapped = {}\n",
    "    counter = 0\n",
    "    wavelet_remapped['cA5'] = coeffs_remapped[counter:counter+COEFF_LENGTHS['cA5']]\n",
    "\n",
    "    counter = counter + COEFF_LENGTHS['cA5']\n",
    "    wavelet_remapped['cD5'] = coeffs_remapped[counter:counter+COEFF_LENGTHS['cD5']]\n",
    "\n",
    "    counter = counter + COEFF_LENGTHS['cD5']\n",
    "    wavelet_remapped['cD4'] = coeffs_remapped[counter:counter+COEFF_LENGTHS['cD4']]\n",
    "\n",
    "    counter = counter + COEFF_LENGTHS['cD4']\n",
    "    wavelet_remapped['cD3'] = coeffs_remapped[counter:counter+COEFF_LENGTHS['cD3']]\n",
    "\n",
    "    counter = counter + COEFF_LENGTHS['cD3']\n",
    "    wavelet_remapped['cD2'] = coeffs_remapped[counter:counter+COEFF_LENGTHS['cD2']]\n",
    "\n",
    "    counter = counter + COEFF_LENGTHS['cD2']\n",
    "    wavelet_remapped['cD1'] = coeffs_remapped[counter:counter+COEFF_LENGTHS['cD1']]\n",
    "\n",
    "    return wavelet_remapped"
   ]
  },
  {
   "cell_type": "markdown",
   "metadata": {},
   "source": [
    "### mid-tread uniform quantizer\n",
    "*input: the selected largest wavelet coefficients*  "
   ]
  },
  {
   "cell_type": "code",
   "execution_count": 11,
   "metadata": {},
   "outputs": [],
   "source": [
    "import math\n",
    "\n",
    "def midtread_uniform_quantizer(coeffs, do_plot=False):\n",
    "    quantized_coeffs = {}\n",
    "    \n",
    "    for key in coeffs.keys():\n",
    "        out = np.multiply(np.sign(coeffs[key]),np.floor(np.abs(coeffs[key])/Q_PARAM + 0.5))\n",
    "        quantized_coeffs[key] = out\n",
    "        \n",
    "    if do_plot:\n",
    "        print('Plot of quantized coefficients:')\n",
    "        plt.subplots(figsize=(16,9))\n",
    "\n",
    "        plt.subplot(6,1,1)\n",
    "        plt.plot(quantized_coeffs['cA5'])\n",
    "        plt.title('cA5')\n",
    "\n",
    "        plt.subplot(6,1,2)\n",
    "        plt.plot(quantized_coeffs['cD5'])\n",
    "        plt.title('cD5')\n",
    "\n",
    "        plt.subplot(6,1,3)\n",
    "        plt.plot(quantized_coeffs['cD4'])\n",
    "        plt.title('cD4')\n",
    "\n",
    "        plt.subplot(6,1,4)\n",
    "        plt.plot(quantized_coeffs['cD3'])\n",
    "        plt.title('cD3')\n",
    "\n",
    "        plt.subplot(6,1,5)\n",
    "        plt.plot(quantized_coeffs['cD2'])\n",
    "        plt.title('cD2')\n",
    "\n",
    "        plt.subplot(6,1,6)\n",
    "        plt.plot(quantized_coeffs['cD1'])\n",
    "        plt.title('cD1')\n",
    "        plt.xlabel('Index')\n",
    "\n",
    "        plt.tight_layout()\n",
    "        plt.show()\n",
    "\n",
    "        \n",
    "    return quantized_coeffs"
   ]
  },
  {
   "cell_type": "markdown",
   "metadata": {},
   "source": [
    "### compress the wavelet coefficients\n",
    "*combine bits into bytes*"
   ]
  },
  {
   "cell_type": "code",
   "execution_count": 12,
   "metadata": {},
   "outputs": [],
   "source": [
    "def compress_coefficients(coeffs, num_bits):\n",
    "\n",
    "    binary_string = ''\n",
    "\n",
    "    for coeff in coeffs:\n",
    "        #convert each coefficient value to binary in num_bits number of bits\n",
    "        binary_string = binary_string + format(coeff, '0%ib' % num_bits)\n",
    "\n",
    "    #loop through sets of 8 bits in the binary string and convert to a byte\n",
    "    byte_array = []\n",
    "    for i in range(int(len(binary_string)/8)):\n",
    "        byte_tmp = binary_string[i*8:(i+1)*8]\n",
    "        byte_tmp = int(byte_tmp, 2)\n",
    "        byte_array.append(byte_tmp)\n",
    "\n",
    "    #check if there are any remaining bits that don't divide evenly into 8\n",
    "    #note the number of bits in this last byte for conversion back to int\n",
    "    #later on\n",
    "    num_bits_last_byte = 8\n",
    "    if len(binary_string)%8 != 0:\n",
    "        byte_tmp = binary_string[(i+1)*8:(i+1)*8 + len(binary_string)%8]\n",
    "        num_bits_last_byte = len(byte_tmp)\n",
    "        byte_tmp = int(byte_tmp, 2)\n",
    "        byte_array.append(byte_tmp)\n",
    "\n",
    "    return byte_array, num_bits_last_byte\n"
   ]
  },
  {
   "cell_type": "markdown",
   "metadata": {},
   "source": [
    "### decompress the previously compressed wavelet coefficients"
   ]
  },
  {
   "cell_type": "code",
   "execution_count": 13,
   "metadata": {},
   "outputs": [],
   "source": [
    "def decompress_coefficients(coeffs_compressed, num_bits, num_bits_last_byte):\n",
    "\n",
    "    binary_string = ''\n",
    "\n",
    "    #convert each coefficient value to binary in 8 number of bits\n",
    "    #note that the very last value in the the binary map may not be\n",
    "    #a full 8 bits. so convert that based on num_bits_last_byte\n",
    "    coeffs_len = len(coeffs_compressed)\n",
    "    for i in range(coeffs_len):\n",
    "        if i == coeffs_len-1:\n",
    "            binary_string = binary_string + format(coeffs_compressed[i], '0%ib' % num_bits_last_byte)\n",
    "        else:\n",
    "            binary_string = binary_string + format(coeffs_compressed[i], '08b')\n",
    "\n",
    "\n",
    "    #loop through sets of num_bits bits in the binary string and convert to a byte\n",
    "    byte_array = []\n",
    "    for i in range(int(len(binary_string)/num_bits)):\n",
    "        byte_tmp = binary_string[i*num_bits:(i+1)*num_bits]\n",
    "        byte_tmp = int(byte_tmp, 2)\n",
    "        byte_array.append(byte_tmp)\n",
    "\n",
    "\n",
    "    return byte_array"
   ]
  },
  {
   "cell_type": "markdown",
   "metadata": {},
   "source": [
    "### compress the binary map using variable length run-length encoding (RLE)"
   ]
  },
  {
   "cell_type": "code",
   "execution_count": 14,
   "metadata": {},
   "outputs": [],
   "source": [
    "def compress_binary_map(binary_map):\n",
    "    #define a state machine that loops through each entry in the binary map and \n",
    "    #creates the compressed representation. \n",
    "\n",
    "    #the last run count won't be included in the compressed representation, so \n",
    "    #just append one more value at the end of the binary map to trigger the last \n",
    "    #compression value. make a local deep copy so that the original is not affected\n",
    "    binary_map = copy.deepcopy(binary_map)\n",
    "    binary_map.append(int(not binary_map[-1]))\n",
    "\n",
    "\n",
    "    CURRENT_STATE = binary_map[0]\n",
    "    run_count = 0\n",
    "    binary_string = ''\n",
    "\n",
    "    #loop through each value in the binary map\n",
    "    for val in binary_map:\n",
    "\n",
    "        #if the current binary map value is the same as the previous one, just increment the run count\n",
    "        if val == CURRENT_STATE:\n",
    "            run_count = run_count + 1\n",
    "\n",
    "        #otherwise, encode the current run count \n",
    "        else:\n",
    "\n",
    "            #handle cases where run count <= 3\n",
    "            if run_count == 1:\n",
    "                binary_string_tmp = '00'\n",
    "\n",
    "            elif run_count == 2:\n",
    "                binary_string_tmp = '01'\n",
    "\n",
    "            elif run_count == 3:\n",
    "                binary_string_tmp = '10'\n",
    "\n",
    "            #otherwise, if the run count > 3\n",
    "            else:\n",
    "                #calculate the number bits required to represent the run count\n",
    "                num_bits_run_count = len(format(run_count, 'b'))\n",
    "\n",
    "                #build a binary string\n",
    "                binary_string_tmp = ''\n",
    "\n",
    "                #first bit represents that the run count > 3\n",
    "                binary_string_tmp = binary_string_tmp + '11'\n",
    "\n",
    "                #next 4 bits represent the number of bits that will define the run count\n",
    "                binary_string_tmp = binary_string_tmp + format(num_bits_run_count, '0%ib' % NUM_BITS_RUN_LEN)\n",
    "\n",
    "                #next number of bits is variable, and is the actual run count\n",
    "                #may be up to 15 bits assuming NUM_BITS_RUN_LEN=4\n",
    "                binary_string_tmp = binary_string_tmp + format(run_count, 'b')\n",
    "\n",
    "            #print(str(run_count) + ', ' + binary_string_tmp)\n",
    "            #pdb.set_trace()\n",
    "\n",
    "            #append the binary string\n",
    "            binary_string = binary_string + binary_string_tmp\n",
    "\n",
    "            #reset the run count \n",
    "            run_count = 1\n",
    "\n",
    "        #update the current state\n",
    "        CURRENT_STATE = val\n",
    "\n",
    "\n",
    "    #convert the binary string into a buffer of 8 bit bytes \n",
    "    byte_array = []\n",
    "    for i in range(int(len(binary_string)/8)):\n",
    "        byte_tmp = binary_string[i*8:(i+1)*8]\n",
    "        byte_tmp = int(byte_tmp, 2)\n",
    "        byte_array.append(byte_tmp)\n",
    "\n",
    "\n",
    "    #check if there are any remaining bits that don't divide evenly into 8\n",
    "    num_bits_last_byte = 8\n",
    "    if len(binary_string)%8 != 0:\n",
    "        byte_tmp = binary_string[(i+1)*8:(i+1)*8 + len(binary_string)%8]\n",
    "        num_bits_last_byte = len(byte_tmp)\n",
    "        byte_tmp = int(byte_tmp, 2)\n",
    "        byte_array.append(byte_tmp)\n",
    "\n",
    "\n",
    "    #return the initial state (ie, the first value in binary map), and the RLE binary map\n",
    "    return binary_map[0], byte_array, num_bits_last_byte"
   ]
  },
  {
   "cell_type": "markdown",
   "metadata": {},
   "source": [
    "### decompress the previously compressed binary map"
   ]
  },
  {
   "cell_type": "code",
   "execution_count": 15,
   "metadata": {},
   "outputs": [],
   "source": [
    "def decompress_binary_map(binary_map_compressed, binary_map_initial_state, num_bits_last_byte):\n",
    "\n",
    "    #first convert 8 bit numbers into a binary string\n",
    "    binary_string = ''\n",
    "\n",
    "    #convert each coefficient value to binary in 8 number of bits\n",
    "    #note that the very last value in the the binary map may not be\n",
    "    #a full 8 bits. so convert that based on num_bits_last_byte\n",
    "    binary_map_len = len(binary_map_compressed)\n",
    "    for i in range(binary_map_len):\n",
    "        if i == binary_map_len-1:\n",
    "            binary_string = binary_string + format(binary_map_compressed[i], '0%ib' % num_bits_last_byte)\n",
    "        else:\n",
    "            binary_string = binary_string + format(binary_map_compressed[i], '08b')\n",
    "\n",
    "\n",
    "    #define a state machine that loops through each entry in the binary map and \n",
    "    #creates the uncompressed representation. \n",
    "    READ_HEADER = 0\n",
    "    READ_NUM_BITS = 1\n",
    "    READ_RUN_LEN = 2\n",
    "    state = READ_HEADER\n",
    "\n",
    "    run_type = binary_map_initial_state\n",
    "    header = ''\n",
    "    binary_array = np.array([])\n",
    "\n",
    "\n",
    "    #loop through each value in the binary map\n",
    "    for val in binary_string:\n",
    "\n",
    "        #read the header\n",
    "        if state == READ_HEADER:\n",
    "            header = header + val\n",
    "\n",
    "            if len(header) == 2:\n",
    "                #run count 1\n",
    "                if header == '00':\n",
    "                    binary_array = np.concatenate((binary_array, np.ones(1)*run_type))\n",
    "                    run_type = int(not run_type)\n",
    "                    state = READ_HEADER\n",
    "\n",
    "                #run count 2\n",
    "                if header == '01':\n",
    "                    binary_array = np.concatenate((binary_array, np.ones(2)*run_type))\n",
    "                    run_type = int(not run_type)\n",
    "                    state = READ_HEADER\n",
    "\n",
    "                #run count 3\n",
    "                if header == '10':\n",
    "                    binary_array = np.concatenate((binary_array, np.ones(3)*run_type))\n",
    "                    run_type = int(not run_type)\n",
    "                    state = READ_HEADER\n",
    "\n",
    "                #run count > 3\n",
    "                if header == '11':\n",
    "                    state = READ_NUM_BITS\n",
    "                    num_bits = ''\n",
    "\n",
    "\n",
    "                #reset header \n",
    "                header = ''\n",
    "\n",
    "            continue\n",
    "\n",
    "        #read number of bits\n",
    "        if state == READ_NUM_BITS:\n",
    "\n",
    "\n",
    "            num_bits = num_bits + val\n",
    "\n",
    "            if len(num_bits) == 4:\n",
    "                num_bits_run_len = int(num_bits, 2)\n",
    "                run_len = ''\n",
    "\n",
    "                state = READ_RUN_LEN\n",
    "\n",
    "            continue\n",
    "\n",
    "\n",
    "        #read run length\n",
    "        if state == READ_RUN_LEN:\n",
    "            run_len = run_len + val\n",
    "\n",
    "            if len(run_len) == num_bits_run_len:\n",
    "                run_len = int(run_len, 2)\n",
    "                binary_array = np.concatenate((binary_array, np.ones(run_len)*run_type))\n",
    "                run_type = int(not run_type)\n",
    "                state = READ_HEADER\n",
    "\n",
    "            continue\n",
    "\n",
    "\n",
    "    return binary_array"
   ]
  },
  {
   "cell_type": "markdown",
   "metadata": {},
   "source": [
    "### calculate the compression ratio\n",
    "*assume a float requires 32 bits*"
   ]
  },
  {
   "cell_type": "code",
   "execution_count": 16,
   "metadata": {},
   "outputs": [],
   "source": [
    "def calculate_compression_ratio(coeffs_compressed, scaling_factors, num_bits, binary_map_compressed, binary_map_initial_state):\n",
    "\n",
    "    #each value in the compressed coefficients is 8 bits\n",
    "    num_bits_compressed = len(coeffs_compressed)*8\n",
    "\n",
    "    #the number of bits in the last byte of the compressed coeffs is 8\n",
    "    #and another 8 bits for the last byte of the compressed binary map\n",
    "    num_bits_compressed = num_bits_compressed + 16\n",
    "\n",
    "    #each set of scaling factors has 2 float values, and each float value is 32 bits\n",
    "    num_bits_compressed = num_bits_compressed + len(scaling_factors)*2*32\n",
    "\n",
    "    #the number of bits corresponds to one byte\n",
    "    num_bits_compressed = num_bits_compressed + 8\n",
    "\n",
    "    #each value in the compressed binary map is 8 bits\n",
    "    num_bits_compressed = num_bits_compressed + len(binary_map_compressed)*8\n",
    "\n",
    "    #the initial state of the binary map is just one bit but assume it's stored as a byte\n",
    "    num_bits_compressed = num_bits_compressed + 8\n",
    "\n",
    "    #each of the original data are 16 bits \n",
    "    num_bits_uncompressed = NUM_SAMPLES_BLOCK*16\n",
    "\n",
    "    #get the compression ratio\n",
    "    compression_ratio = num_bits_uncompressed/num_bits_compressed\n",
    "\n",
    "    return compression_ratio   "
   ]
  },
  {
   "cell_type": "markdown",
   "metadata": {},
   "source": [
    "### calculate signal energy"
   ]
  },
  {
   "cell_type": "code",
   "execution_count": 17,
   "metadata": {},
   "outputs": [],
   "source": [
    "def energy(sig):\n",
    "    return np.sum(sig**2)"
   ]
  },
  {
   "cell_type": "markdown",
   "metadata": {},
   "source": [
    "### calculate the percentage root-mean-square difference (PRD)"
   ]
  },
  {
   "cell_type": "code",
   "execution_count": 18,
   "metadata": {},
   "outputs": [],
   "source": [
    "def calculate_PRD(orig_sig, reconstructed_sig):\n",
    "    num = np.sum((orig_sig - reconstructed_sig)**2)\n",
    "    den = np.sum(orig_sig**2)\n",
    "\n",
    "    PRD = np.sqrt(num/den)\n",
    "\n",
    "    return PRD"
   ]
  },
  {
   "cell_type": "markdown",
   "metadata": {},
   "source": [
    "## Compression Procedure"
   ]
  },
  {
   "cell_type": "code",
   "execution_count": 19,
   "metadata": {},
   "outputs": [
    {
     "name": "stdout",
     "output_type": "stream",
     "text": [
      "Extracting EDF parameters from C:\\Users\\juseo\\Documents\\dyuku\\summer 20\\dbdp\\code\\DBDP_Compression_Toolbox\\Joe\\ECG.EDF...\n",
      "EDF file detected\n",
      "Setting channel info structure...\n",
      "Creating raw.info structure...\n"
     ]
    }
   ],
   "source": [
    "#load data\n",
    "import mne\n",
    "file = \"/Users/juseo\\Documents\\dyuku\\summer 20\\dbdp\\code\\DBDP_Compression_Toolbox/Joe/ECG.EDF\"\n",
    "data = mne.io.read_raw_edf(file)\n",
    "raw_data = data.get_data()\n",
    "\n",
    "import numpy as np\n",
    "header = ','.join(data.ch_names)\n",
    "np.savetxt('ECG.csv', data.get_data().T, delimiter=',', header=header)\n",
    "\n",
    "import pandas as pd\n",
    "df0 = pd.read_csv('ECG.csv')\n",
    "df = df0.iloc[:,0:1] #obtain # ECG channel data"
   ]
  },
  {
   "cell_type": "code",
   "execution_count": 20,
   "metadata": {},
   "outputs": [],
   "source": [
    "#truncate data to retain useful data\n",
    "df = df.truncate(before = 150000, after = 2979999)\n",
    "df = df*1000000"
   ]
  },
  {
   "cell_type": "code",
   "execution_count": 21,
   "metadata": {},
   "outputs": [],
   "source": [
    "#create plots\n",
    "do_plot = True"
   ]
  },
  {
   "cell_type": "code",
   "execution_count": 22,
   "metadata": {},
   "outputs": [
    {
     "name": "stderr",
     "output_type": "stream",
     "text": [
      "C:\\Users\\juseo\\Anaconda3\\lib\\site-packages\\pywt\\_multilevel.py:45: UserWarning: Level value of 5 is too high: all coefficients will experience boundary effects.\n",
      "  \"boundary effects.\").format(level))\n"
     ]
    },
    {
     "name": "stdout",
     "output_type": "stream",
     "text": [
      "Plot of wavelet decomposition for all levels\n"
     ]
    },
    {
     "data": {
      "image/png": "[encoded data removed]",
      "text/plain": [
       "<Figure size 1152x648 with 6 Axes>"
      ]
     },
     "metadata": {
      "needs_background": "light"
     },
     "output_type": "display_data"
    }
   ],
   "source": [
    "#do wavelet decomposition \n",
    "coeffs = wavelet_decomposition(df, do_plot)"
   ]
  },
  {
   "cell_type": "code",
   "execution_count": null,
   "metadata": {},
   "outputs": [
    {
     "name": "stdout",
     "output_type": "stream",
     "text": [
      "Plot of thresholded vs unthresholded coefficients:\n"
     ]
    },
    {
     "name": "stderr",
     "output_type": "stream",
     "text": [
      "C:\\Users\\juseo\\Anaconda3\\lib\\site-packages\\ipykernel_launcher.py:90: UserWarning: Tight layout not applied. tight_layout cannot make axes height small enough to accommodate all axes decorations\n"
     ]
    }
   ],
   "source": [
    "#threshold the coefficients using target PRD\n",
    "#return nonzero thresholded coefficients, along with a binary map of zero/nonzero values\n",
    "#and a list of how many nonzero values were in each set of coefficients\n",
    "coeffs_thresholded, binary_map = threshold_energy(coeffs, do_plot)"
   ]
  },
  {
   "cell_type": "code",
   "execution_count": null,
   "metadata": {},
   "outputs": [],
   "source": [
    "#scale each set of wavelet coefficients between zero and one \n",
    "#keep track of the scaling factors to re-scale to the original range later\n",
    "coeffs_scaled, scaling_factors = scale_coeffs(coeffs_thresholded, do_plot)"
   ]
  },
  {
   "cell_type": "code",
   "execution_count": null,
   "metadata": {},
   "outputs": [],
   "source": [
    "#quantize the coefficients. choose the number of bits to quantize based on the PRD\n",
    "num_bits, PRD_avg = calculate_num_bits(df, coeffs_scaled, binary_map, scaling_factors, do_plot)"
   ]
  },
  {
   "cell_type": "code",
   "execution_count": null,
   "metadata": {},
   "outputs": [],
   "source": [
    "#get quantized coefficients\n",
    "coeffs_quantized = midtread_uniform_quantizer(coeffs_scaled, do_plot)"
   ]
  },
  {
   "cell_type": "code",
   "execution_count": null,
   "metadata": {},
   "outputs": [],
   "source": [
    "#combine all the quantized coefficients into a single array for compression\n",
    "#also combine all the binary maps into a single array for compression\n",
    "coeffs_quantized_combined = combine_coefficients(coeffs_quantized, binary_map)\n",
    "binary_map_combined = combine_coefficients(binary_map)"
   ]
  },
  {
   "cell_type": "code",
   "execution_count": null,
   "metadata": {},
   "outputs": [],
   "source": [
    "#compress the quantized coefficients\n",
    "coeffs_quantized_compressed, num_bits_last_byte_coeffs = compress_coefficients(coeffs_quantized_combined, num_bits=int(6))"
   ]
  },
  {
   "cell_type": "code",
   "execution_count": null,
   "metadata": {},
   "outputs": [],
   "source": [
    "#compress the binary map\n",
    "binary_map_initial_state, binary_map_compressed, num_bits_last_byte_binary_map = compress_binary_map(binary_map_combined)"
   ]
  },
  {
   "cell_type": "code",
   "execution_count": null,
   "metadata": {},
   "outputs": [],
   "source": [
    "#calculate the compression ratio for this transmission\n",
    "CR_avg = calculate_compression_ratio(coeffs_quantized_compressed, scaling_factors, num_bits, binary_map_compressed, binary_map_initial_state)"
   ]
  },
  {
   "cell_type": "code",
   "execution_count": null,
   "metadata": {},
   "outputs": [],
   "source": [
    "#decompress the binary map\n",
    "binary_map_decompressed = decompress_binary_map(binary_map_compressed, binary_map_initial_state, num_bits_last_byte_binary_map)"
   ]
  },
  {
   "cell_type": "code",
   "execution_count": null,
   "metadata": {},
   "outputs": [],
   "source": [
    "#decompress the coefficients\n",
    "coeffs_decompressed = decompress_coefficients(coeffs_quantized_compressed, num_bits, num_bits_last_byte_coeffs)"
   ]
  },
  {
   "cell_type": "code",
   "execution_count": null,
   "metadata": {},
   "outputs": [],
   "source": [
    "#remap all the coefficients back to their original wavelet decompositions\n",
    "coeffs_reconstructed = remap_coeffs(coeffs_decompressed, binary_map_decompressed)"
   ]
  },
  {
   "cell_type": "code",
   "execution_count": null,
   "metadata": {},
   "outputs": [],
   "source": [
    "#rescale the coefficients\n",
    "coeffs_unscaled = unscale_coeffs(coeffs, coeffs_reconstructed, scaling_factors, num_bits, do_plot)"
   ]
  },
  {
   "cell_type": "code",
   "execution_count": null,
   "metadata": {},
   "outputs": [],
   "source": [
    "#do the inverse dwt\n",
    "data_reconstructed = wavelet_reconstruction(coeffs_unscaled, data, CR_tmp, do_plot)"
   ]
  },
  {
   "cell_type": "code",
   "execution_count": null,
   "metadata": {},
   "outputs": [],
   "source": [
    "#calculate the average compression ratio and PRD\n",
    "CR_avg = CR_avg/N\n",
    "PRD_avg = PRD_avg/N\n",
    "print('Average compression ratio: %.1f' % CR_avg)\n",
    "print('Average PRD: %.3f' % PRD_avg)"
   ]
  }
 ],
 "metadata": {
  "kernelspec": {
   "display_name": "Python 3",
   "language": "python",
   "name": "python3"
  },
  "language_info": {
   "codemirror_mode": {
    "name": "ipython",
    "version": 3
   },
   "file_extension": ".py",
   "mimetype": "text/x-python",
   "name": "python",
   "nbconvert_exporter": "python",
   "pygments_lexer": "ipython3",
   "version": "3.7.3"
  }
 },
 "nbformat": 4,
 "nbformat_minor": 4
}
