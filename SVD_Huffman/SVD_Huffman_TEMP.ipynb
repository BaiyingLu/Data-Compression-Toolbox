{
 "cells": [
  {
   "cell_type": "markdown",
   "metadata": {},
   "source": [
    "# Method2 SVD+Huffman"
   ]
  },
  {
   "cell_type": "markdown",
   "metadata": {},
   "source": [
    "## Import Libraries"
   ]
  },
  {
   "cell_type": "code",
   "execution_count": 1,
   "metadata": {},
   "outputs": [],
   "source": [
    "import mne\n",
    "import numpy as np\n",
    "from scipy.fft import fft,fftshift\n",
    "import matplotlib.pyplot as plt\n",
    "from scipy.signal import butter, lfilter\n",
    "from scipy.signal import freqz\n",
    "from scipy import signal\n",
    "from sklearn.metrics import mean_squared_error\n",
    "from math import sqrt\n",
    "import os\n",
    "import pandas as pd"
   ]
  },
  {
   "cell_type": "code",
   "execution_count": 2,
   "metadata": {},
   "outputs": [],
   "source": [
    "temp = pd.read_csv('TEMP.csv')\n",
    "np.savetxt('temp.txt',temp)\n",
    "temp_array = temp.to_numpy()\n",
    "temp_array_new = []\n",
    "for i in temp_array:\n",
    "    temp_array_new.append(list(i)[0])\n",
    "N = len(temp_array_new)\n",
    "sampling_freq = 1/4 \n",
    "index = np.linspace(0, round((N-1)*sampling_freq,4), N)"
   ]
  },
  {
   "cell_type": "markdown",
   "metadata": {},
   "source": [
    "## Butterworth Band pass Filter\n",
    "The butterworth filter were not applied on the TEMP data \n",
    "because of it's low frequency and short sequence"
   ]
  },
  {
   "cell_type": "markdown",
   "metadata": {},
   "source": [
    "## Resampling"
   ]
  },
  {
   "cell_type": "code",
   "execution_count": 3,
   "metadata": {},
   "outputs": [],
   "source": [
    "y = temp_array\n",
    "resampled_signal = signal.resample(y,9025)  \n",
    "#This squared number need to be decided by the users\n",
    "np.savetxt('processed_temp.txt',resampled_signal)"
   ]
  },
  {
   "cell_type": "markdown",
   "metadata": {},
   "source": [
    "## SVD"
   ]
  },
  {
   "cell_type": "code",
   "execution_count": 4,
   "metadata": {},
   "outputs": [],
   "source": [
    "from scipy import linalg\n",
    "reshaped_signal = np.reshape(resampled_signal, (95,95))\n",
    "U, s, Vh = linalg.svd(reshaped_signal)"
   ]
  },
  {
   "cell_type": "code",
   "execution_count": 5,
   "metadata": {},
   "outputs": [],
   "source": [
    "s[2:] = 0"
   ]
  },
  {
   "cell_type": "code",
   "execution_count": 6,
   "metadata": {},
   "outputs": [],
   "source": [
    "m = 95\n",
    "n = 95\n",
    "sigma = np.zeros((m, n))\n",
    "for i in range(min(m, n)):\n",
    "    sigma[i, i] = s[i]\n",
    "reconstructed_signal = np.dot(U, np.dot(sigma, Vh))\n",
    "deSVD = np.reshape(reconstructed_signal,95*95)"
   ]
  },
  {
   "cell_type": "markdown",
   "metadata": {},
   "source": [
    "## Round the signal and then do Huffman coding"
   ]
  },
  {
   "cell_type": "code",
   "execution_count": 7,
   "metadata": {},
   "outputs": [],
   "source": [
    "round_signal= np.round(deSVD,2)\n",
    "np.savetxt('deSVD_temp.txt',round_signal,fmt='%.2f')"
   ]
  },
  {
   "cell_type": "markdown",
   "metadata": {},
   "source": [
    "### INSTRUCTION ON HOW TO COMPRESS THE DATA BY HUFFMAN CODING\n",
    "\n",
    "\n",
    "(I used the package \"tcmpr 0.2\" and \"pyhuff 1.1\". These two packages provided the same compression result. So here, we just use \"tcmpr 0.2\")\n",
    "\n",
    "1. Open your termial or git bash, enter \"pip install tcmpr\" to install the \"tcmpr 0.2\" package\n",
    "2. Enter the directory which include the file you want to compress OR copy the path of the file you want to compress\n",
    "3. Enter \"tcmpr filename.txt\" / \"tcmpr filepath\" to compress the file\n",
    "4. Find the compressed file in the same directory of the original file"
   ]
  },
  {
   "cell_type": "code",
   "execution_count": 8,
   "metadata": {},
   "outputs": [
    {
     "data": {
      "text/plain": [
       "0"
      ]
     },
     "execution_count": 8,
     "metadata": {},
     "output_type": "execute_result"
    }
   ],
   "source": [
    "os.system('tcmpr deSVD_temp.txt')"
   ]
  },
  {
   "cell_type": "markdown",
   "metadata": {},
   "source": [
    "You could find a file name \"deSVD_temp.txt.huffman\" in the current directory\n",
    "\n",
    "### After this step, you could calculate the compression ratio if you want\n",
    "\n",
    "## Decode the data"
   ]
  },
  {
   "cell_type": "code",
   "execution_count": 9,
   "metadata": {},
   "outputs": [],
   "source": [
    "os.system('tcmpr -d deSVD_temp.txt.huffman')\n",
    "decoded_data = np.loadtxt(fname = \"deSVD_temp.txt\")\n",
    "decoded_data = decoded_data[..., np.newaxis]"
   ]
  },
  {
   "cell_type": "code",
   "execution_count": 10,
   "metadata": {},
   "outputs": [
    {
     "name": "stdout",
     "output_type": "stream",
     "text": [
      "The PRD is 0.669%\n"
     ]
    }
   ],
   "source": [
    "from sklearn.metrics import mean_squared_error\n",
    "from math import sqrt\n",
    "from scipy import signal\n",
    "# original_signal = normalized_signal\n",
    "# compressed_signal = decoded_data\n",
    "def PRD_calculation(original_signal, compressed_signal):\n",
    "    PRD = sqrt(sum((original_signal-compressed_signal)**2)/(sum(original_signal**2)))\n",
    "    return PRD\n",
    "\n",
    "PRD = PRD_calculation(resampled_signal, decoded_data)\n",
    "print(\"The PRD is {}%\".format(round(PRD*100,3)))"
   ]
  },
  {
   "cell_type": "markdown",
   "metadata": {},
   "source": [
    "CR = 227/21 = 10.8"
   ]
  }
 ],
 "metadata": {
  "kernelspec": {
   "display_name": "Python 3",
   "language": "python",
   "name": "python3"
  },
  "language_info": {
   "codemirror_mode": {
    "name": "ipython",
    "version": 3
   },
   "file_extension": ".py",
   "mimetype": "text/x-python",
   "name": "python",
   "nbconvert_exporter": "python",
   "pygments_lexer": "ipython3",
   "version": "3.7.6"
  }
 },
 "nbformat": 4,
 "nbformat_minor": 2
}
