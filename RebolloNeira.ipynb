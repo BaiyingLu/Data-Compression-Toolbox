{
 "cells": [
  {
   "cell_type": "markdown",
   "metadata": {},
   "source": [
    "## ECG Data Compression Algorithm\n",
    "Based on \"Effective high compression of ECG signals at low level distortion\" by Laura Rebollo-Neira"
   ]
  },
  {
   "cell_type": "markdown",
   "metadata": {},
   "source": [
    "### Step 1: Approximation\n",
    "**Input:** Array **w** of wavelets coefficients & parameter *tol* for the approximation error  \n",
    "**Output:** Indices *l*<sub>i</sub>, i=1,...,*K* of the selected wavelet coefficients. Array **c** with the selected wavelet coefficients."
   ]
  },
  {
   "cell_type": "markdown",
   "metadata": {},
   "source": [
    "#### Part A: DWT transform\n",
    "Array *data* with the N-dimensional signal.  \n",
    "Decomposition level *lv*."
   ]
  },
  {
   "cell_type": "code",
   "execution_count": 2,
   "metadata": {},
   "outputs": [],
   "source": [
    "import pywt\n",
    "\n",
    "def dwt(data, lv):\n",
    "    coeffs = pywt.wavedec(data, 'bior4.4', level = lv)\n",
    "    cD1 = coeffs\n",
    "    return cD1"
   ]
  },
  {
   "cell_type": "markdown",
   "metadata": {},
   "source": [
    "Wavelet Object: https://pywavelets.readthedocs.io/en/latest/regression/wavelet.html  \n",
    "DWT API: https://pywavelets.readthedocs.io/en/latest/ref/dwt-discrete-wavelet-transform.html#ref-dwt   \n",
    "Handling DWT Coeffs: https://pywavelets.readthedocs.io/en/latest/ref/dwt-coefficient-handling.html"
   ]
  },
  {
   "cell_type": "markdown",
   "metadata": {},
   "source": [
    "#### Part B: Selection of the largest wavelet coefficients"
   ]
  },
  {
   "cell_type": "markdown",
   "metadata": {},
   "source": [
    "### Step 2: Quantization\n",
    "A mid-tread uniform quantizer transforms the selected wavelet coefficients into integers."
   ]
  },
  {
   "cell_type": "code",
   "execution_count": null,
   "metadata": {},
   "outputs": [],
   "source": []
  },
  {
   "cell_type": "markdown",
   "metadata": {},
   "source": [
    "### Step 3: Organization and Storage Step\n",
    "1. Re-order indices in ascending order. This re-orders coefficients and corresponding signs.\n",
    "1. Store re-ordered indices as smaller positive numbers by taking differences between two consecutive values. \n",
    "1. Save the size of the singal, the quantization parameter, and the arrays (reordered coefficients, signs, and indices) in HDF5 format."
   ]
  },
  {
   "cell_type": "code",
   "execution_count": null,
   "metadata": {},
   "outputs": [],
   "source": []
  }
 ],
 "metadata": {
  "kernelspec": {
   "display_name": "Python 3",
   "language": "python",
   "name": "python3"
  },
  "language_info": {
   "codemirror_mode": {
    "name": "ipython",
    "version": 3
   },
   "file_extension": ".py",
   "mimetype": "text/x-python",
   "name": "python",
   "nbconvert_exporter": "python",
   "pygments_lexer": "ipython3",
   "version": "3.7.3"
  }
 },
 "nbformat": 4,
 "nbformat_minor": 4
}
